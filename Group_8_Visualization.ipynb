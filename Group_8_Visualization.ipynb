{
 "cells": [
  {
   "cell_type": "code",
   "execution_count": 1,
   "id": "f131041f",
   "metadata": {
    "id": "f131041f"
   },
   "outputs": [],
   "source": [
    "import numpy as npy \n",
    "import pandas as pds\n",
    "import matplotlib.pyplot as mplt \n",
    "import seaborn as sns\n",
    "from sklearn.preprocessing import MinMaxScaler\n",
    "import warnings\n",
    "warnings.filterwarnings('ignore')"
   ]
  },
  {
   "cell_type": "code",
   "execution_count": 2,
   "id": "a7e5752b",
   "metadata": {
    "id": "a7e5752b"
   },
   "outputs": [],
   "source": [
    "data = pds.read_csv(\"Group_8_data_cleaned.csv\")"
   ]
  },
  {
   "cell_type": "code",
   "execution_count": 3,
   "id": "0bdc3f4f",
   "metadata": {
    "id": "0bdc3f4f",
    "outputId": "f41ff687-d909-4de0-d288-e7f3baea0c3e"
   },
   "outputs": [
    {
     "data": {
      "text/html": [
       "<div>\n",
       "<style scoped>\n",
       "    .dataframe tbody tr th:only-of-type {\n",
       "        vertical-align: middle;\n",
       "    }\n",
       "\n",
       "    .dataframe tbody tr th {\n",
       "        vertical-align: top;\n",
       "    }\n",
       "\n",
       "    .dataframe thead th {\n",
       "        text-align: right;\n",
       "    }\n",
       "</style>\n",
       "<table border=\"1\" class=\"dataframe\">\n",
       "  <thead>\n",
       "    <tr style=\"text-align: right;\">\n",
       "      <th></th>\n",
       "      <th>Unnamed: 0</th>\n",
       "      <th>air_temp</th>\n",
       "      <th>process_temp</th>\n",
       "      <th>rot_speed</th>\n",
       "      <th>torque</th>\n",
       "      <th>tool_wear</th>\n",
       "      <th>Type_H</th>\n",
       "      <th>Type_L</th>\n",
       "      <th>Type_M</th>\n",
       "      <th>failure</th>\n",
       "    </tr>\n",
       "  </thead>\n",
       "  <tbody>\n",
       "    <tr>\n",
       "      <th>0</th>\n",
       "      <td>0</td>\n",
       "      <td>298.1</td>\n",
       "      <td>308.6</td>\n",
       "      <td>1551</td>\n",
       "      <td>42.8</td>\n",
       "      <td>0</td>\n",
       "      <td>0</td>\n",
       "      <td>0</td>\n",
       "      <td>1</td>\n",
       "      <td>0</td>\n",
       "    </tr>\n",
       "    <tr>\n",
       "      <th>1</th>\n",
       "      <td>1</td>\n",
       "      <td>298.2</td>\n",
       "      <td>308.7</td>\n",
       "      <td>1408</td>\n",
       "      <td>46.3</td>\n",
       "      <td>3</td>\n",
       "      <td>0</td>\n",
       "      <td>1</td>\n",
       "      <td>0</td>\n",
       "      <td>0</td>\n",
       "    </tr>\n",
       "    <tr>\n",
       "      <th>2</th>\n",
       "      <td>2</td>\n",
       "      <td>298.1</td>\n",
       "      <td>308.5</td>\n",
       "      <td>1498</td>\n",
       "      <td>49.4</td>\n",
       "      <td>5</td>\n",
       "      <td>0</td>\n",
       "      <td>1</td>\n",
       "      <td>0</td>\n",
       "      <td>0</td>\n",
       "    </tr>\n",
       "    <tr>\n",
       "      <th>3</th>\n",
       "      <td>3</td>\n",
       "      <td>298.2</td>\n",
       "      <td>308.6</td>\n",
       "      <td>1433</td>\n",
       "      <td>39.5</td>\n",
       "      <td>7</td>\n",
       "      <td>0</td>\n",
       "      <td>1</td>\n",
       "      <td>0</td>\n",
       "      <td>0</td>\n",
       "    </tr>\n",
       "    <tr>\n",
       "      <th>4</th>\n",
       "      <td>4</td>\n",
       "      <td>298.2</td>\n",
       "      <td>308.7</td>\n",
       "      <td>1408</td>\n",
       "      <td>40.0</td>\n",
       "      <td>9</td>\n",
       "      <td>0</td>\n",
       "      <td>1</td>\n",
       "      <td>0</td>\n",
       "      <td>0</td>\n",
       "    </tr>\n",
       "  </tbody>\n",
       "</table>\n",
       "</div>"
      ],
      "text/plain": [
       "   Unnamed: 0  air_temp  process_temp  rot_speed  torque  tool_wear  Type_H  \\\n",
       "0           0     298.1         308.6       1551    42.8          0       0   \n",
       "1           1     298.2         308.7       1408    46.3          3       0   \n",
       "2           2     298.1         308.5       1498    49.4          5       0   \n",
       "3           3     298.2         308.6       1433    39.5          7       0   \n",
       "4           4     298.2         308.7       1408    40.0          9       0   \n",
       "\n",
       "   Type_L  Type_M  failure  \n",
       "0       0       1        0  \n",
       "1       1       0        0  \n",
       "2       1       0        0  \n",
       "3       1       0        0  \n",
       "4       1       0        0  "
      ]
     },
     "execution_count": 3,
     "metadata": {},
     "output_type": "execute_result"
    }
   ],
   "source": [
    "data.head()"
   ]
  },
  {
   "cell_type": "code",
   "execution_count": 4,
   "id": "c3cf856e",
   "metadata": {
    "id": "c3cf856e"
   },
   "outputs": [],
   "source": [
    "data = data.drop(\"Unnamed: 0\",axis=1)"
   ]
  },
  {
   "cell_type": "code",
   "execution_count": 5,
   "id": "dbf2337e",
   "metadata": {
    "id": "dbf2337e",
    "outputId": "1154ac22-2f4a-4675-dc02-40629f308539"
   },
   "outputs": [
    {
     "data": {
      "text/html": [
       "<div>\n",
       "<style scoped>\n",
       "    .dataframe tbody tr th:only-of-type {\n",
       "        vertical-align: middle;\n",
       "    }\n",
       "\n",
       "    .dataframe tbody tr th {\n",
       "        vertical-align: top;\n",
       "    }\n",
       "\n",
       "    .dataframe thead th {\n",
       "        text-align: right;\n",
       "    }\n",
       "</style>\n",
       "<table border=\"1\" class=\"dataframe\">\n",
       "  <thead>\n",
       "    <tr style=\"text-align: right;\">\n",
       "      <th></th>\n",
       "      <th>air_temp</th>\n",
       "      <th>process_temp</th>\n",
       "      <th>rot_speed</th>\n",
       "      <th>torque</th>\n",
       "      <th>tool_wear</th>\n",
       "      <th>Type_H</th>\n",
       "      <th>Type_L</th>\n",
       "      <th>Type_M</th>\n",
       "    </tr>\n",
       "  </thead>\n",
       "  <tbody>\n",
       "    <tr>\n",
       "      <th>0</th>\n",
       "      <td>0.304348</td>\n",
       "      <td>0.358025</td>\n",
       "      <td>0.222934</td>\n",
       "      <td>0.535714</td>\n",
       "      <td>0.000000</td>\n",
       "      <td>0.0</td>\n",
       "      <td>0.0</td>\n",
       "      <td>1.0</td>\n",
       "    </tr>\n",
       "    <tr>\n",
       "      <th>1</th>\n",
       "      <td>0.315217</td>\n",
       "      <td>0.370370</td>\n",
       "      <td>0.139697</td>\n",
       "      <td>0.583791</td>\n",
       "      <td>0.011858</td>\n",
       "      <td>0.0</td>\n",
       "      <td>1.0</td>\n",
       "      <td>0.0</td>\n",
       "    </tr>\n",
       "    <tr>\n",
       "      <th>2</th>\n",
       "      <td>0.304348</td>\n",
       "      <td>0.345679</td>\n",
       "      <td>0.192084</td>\n",
       "      <td>0.626374</td>\n",
       "      <td>0.019763</td>\n",
       "      <td>0.0</td>\n",
       "      <td>1.0</td>\n",
       "      <td>0.0</td>\n",
       "    </tr>\n",
       "    <tr>\n",
       "      <th>3</th>\n",
       "      <td>0.315217</td>\n",
       "      <td>0.358025</td>\n",
       "      <td>0.154249</td>\n",
       "      <td>0.490385</td>\n",
       "      <td>0.027668</td>\n",
       "      <td>0.0</td>\n",
       "      <td>1.0</td>\n",
       "      <td>0.0</td>\n",
       "    </tr>\n",
       "    <tr>\n",
       "      <th>4</th>\n",
       "      <td>0.315217</td>\n",
       "      <td>0.370370</td>\n",
       "      <td>0.139697</td>\n",
       "      <td>0.497253</td>\n",
       "      <td>0.035573</td>\n",
       "      <td>0.0</td>\n",
       "      <td>1.0</td>\n",
       "      <td>0.0</td>\n",
       "    </tr>\n",
       "    <tr>\n",
       "      <th>...</th>\n",
       "      <td>...</td>\n",
       "      <td>...</td>\n",
       "      <td>...</td>\n",
       "      <td>...</td>\n",
       "      <td>...</td>\n",
       "      <td>...</td>\n",
       "      <td>...</td>\n",
       "      <td>...</td>\n",
       "    </tr>\n",
       "    <tr>\n",
       "      <th>9995</th>\n",
       "      <td>0.380435</td>\n",
       "      <td>0.333333</td>\n",
       "      <td>0.253783</td>\n",
       "      <td>0.353022</td>\n",
       "      <td>0.055336</td>\n",
       "      <td>0.0</td>\n",
       "      <td>0.0</td>\n",
       "      <td>1.0</td>\n",
       "    </tr>\n",
       "    <tr>\n",
       "      <th>9996</th>\n",
       "      <td>0.391304</td>\n",
       "      <td>0.333333</td>\n",
       "      <td>0.270081</td>\n",
       "      <td>0.384615</td>\n",
       "      <td>0.067194</td>\n",
       "      <td>1.0</td>\n",
       "      <td>0.0</td>\n",
       "      <td>0.0</td>\n",
       "    </tr>\n",
       "    <tr>\n",
       "      <th>9997</th>\n",
       "      <td>0.402174</td>\n",
       "      <td>0.358025</td>\n",
       "      <td>0.277648</td>\n",
       "      <td>0.406593</td>\n",
       "      <td>0.086957</td>\n",
       "      <td>0.0</td>\n",
       "      <td>0.0</td>\n",
       "      <td>1.0</td>\n",
       "    </tr>\n",
       "    <tr>\n",
       "      <th>9998</th>\n",
       "      <td>0.402174</td>\n",
       "      <td>0.370370</td>\n",
       "      <td>0.139697</td>\n",
       "      <td>0.614011</td>\n",
       "      <td>0.098814</td>\n",
       "      <td>1.0</td>\n",
       "      <td>0.0</td>\n",
       "      <td>0.0</td>\n",
       "    </tr>\n",
       "    <tr>\n",
       "      <th>9999</th>\n",
       "      <td>0.402174</td>\n",
       "      <td>0.370370</td>\n",
       "      <td>0.193248</td>\n",
       "      <td>0.500000</td>\n",
       "      <td>0.118577</td>\n",
       "      <td>0.0</td>\n",
       "      <td>0.0</td>\n",
       "      <td>1.0</td>\n",
       "    </tr>\n",
       "  </tbody>\n",
       "</table>\n",
       "<p>10000 rows × 8 columns</p>\n",
       "</div>"
      ],
      "text/plain": [
       "      air_temp  process_temp  rot_speed    torque  tool_wear  Type_H  Type_L  \\\n",
       "0     0.304348      0.358025   0.222934  0.535714   0.000000     0.0     0.0   \n",
       "1     0.315217      0.370370   0.139697  0.583791   0.011858     0.0     1.0   \n",
       "2     0.304348      0.345679   0.192084  0.626374   0.019763     0.0     1.0   \n",
       "3     0.315217      0.358025   0.154249  0.490385   0.027668     0.0     1.0   \n",
       "4     0.315217      0.370370   0.139697  0.497253   0.035573     0.0     1.0   \n",
       "...        ...           ...        ...       ...        ...     ...     ...   \n",
       "9995  0.380435      0.333333   0.253783  0.353022   0.055336     0.0     0.0   \n",
       "9996  0.391304      0.333333   0.270081  0.384615   0.067194     1.0     0.0   \n",
       "9997  0.402174      0.358025   0.277648  0.406593   0.086957     0.0     0.0   \n",
       "9998  0.402174      0.370370   0.139697  0.614011   0.098814     1.0     0.0   \n",
       "9999  0.402174      0.370370   0.193248  0.500000   0.118577     0.0     0.0   \n",
       "\n",
       "      Type_M  \n",
       "0        1.0  \n",
       "1        0.0  \n",
       "2        0.0  \n",
       "3        0.0  \n",
       "4        0.0  \n",
       "...      ...  \n",
       "9995     1.0  \n",
       "9996     0.0  \n",
       "9997     1.0  \n",
       "9998     0.0  \n",
       "9999     1.0  \n",
       "\n",
       "[10000 rows x 8 columns]"
      ]
     },
     "execution_count": 5,
     "metadata": {},
     "output_type": "execute_result"
    }
   ],
   "source": [
    "X = data.drop(['failure'],axis=1)\n",
    "\n",
    "y = data[\"failure\"]\n",
    "\n",
    "colmn = X.columns\n",
    "colmn\n",
    "\n",
    "scaler = MinMaxScaler()\n",
    "\n",
    "for column in colmn:\n",
    "    scaler.fit(X[[column]])\n",
    "    X[column] = scaler.transform(X[[column]])\n",
    "X"
   ]
  },
  {
   "cell_type": "markdown",
   "id": "54db20aa",
   "metadata": {
    "id": "54db20aa"
   },
   "source": [
    "## Lets Perform princple Component Analysis"
   ]
  },
  {
   "cell_type": "code",
   "execution_count": 6,
   "id": "54e3a167",
   "metadata": {
    "id": "54e3a167"
   },
   "outputs": [],
   "source": [
    "from sklearn.decomposition import PCA\n"
   ]
  },
  {
   "cell_type": "code",
   "execution_count": 7,
   "id": "cc001d72",
   "metadata": {
    "id": "cc001d72",
    "outputId": "1c5dc2e8-0ad7-4e46-c893-4594da25d2e7"
   },
   "outputs": [
    {
     "data": {
      "text/html": [
       "<div>\n",
       "<style scoped>\n",
       "    .dataframe tbody tr th:only-of-type {\n",
       "        vertical-align: middle;\n",
       "    }\n",
       "\n",
       "    .dataframe tbody tr th {\n",
       "        vertical-align: top;\n",
       "    }\n",
       "\n",
       "    .dataframe thead th {\n",
       "        text-align: right;\n",
       "    }\n",
       "</style>\n",
       "<table border=\"1\" class=\"dataframe\">\n",
       "  <thead>\n",
       "    <tr style=\"text-align: right;\">\n",
       "      <th></th>\n",
       "      <th>air_temp</th>\n",
       "      <th>process_temp</th>\n",
       "      <th>rot_speed</th>\n",
       "      <th>torque</th>\n",
       "      <th>tool_wear</th>\n",
       "      <th>Type_H</th>\n",
       "      <th>Type_L</th>\n",
       "      <th>Type_M</th>\n",
       "    </tr>\n",
       "  </thead>\n",
       "  <tbody>\n",
       "    <tr>\n",
       "      <th>0</th>\n",
       "      <td>0.304348</td>\n",
       "      <td>0.358025</td>\n",
       "      <td>0.222934</td>\n",
       "      <td>0.535714</td>\n",
       "      <td>0.000000</td>\n",
       "      <td>0.0</td>\n",
       "      <td>0.0</td>\n",
       "      <td>1.0</td>\n",
       "    </tr>\n",
       "    <tr>\n",
       "      <th>1</th>\n",
       "      <td>0.315217</td>\n",
       "      <td>0.370370</td>\n",
       "      <td>0.139697</td>\n",
       "      <td>0.583791</td>\n",
       "      <td>0.011858</td>\n",
       "      <td>0.0</td>\n",
       "      <td>1.0</td>\n",
       "      <td>0.0</td>\n",
       "    </tr>\n",
       "    <tr>\n",
       "      <th>2</th>\n",
       "      <td>0.304348</td>\n",
       "      <td>0.345679</td>\n",
       "      <td>0.192084</td>\n",
       "      <td>0.626374</td>\n",
       "      <td>0.019763</td>\n",
       "      <td>0.0</td>\n",
       "      <td>1.0</td>\n",
       "      <td>0.0</td>\n",
       "    </tr>\n",
       "    <tr>\n",
       "      <th>3</th>\n",
       "      <td>0.315217</td>\n",
       "      <td>0.358025</td>\n",
       "      <td>0.154249</td>\n",
       "      <td>0.490385</td>\n",
       "      <td>0.027668</td>\n",
       "      <td>0.0</td>\n",
       "      <td>1.0</td>\n",
       "      <td>0.0</td>\n",
       "    </tr>\n",
       "    <tr>\n",
       "      <th>4</th>\n",
       "      <td>0.315217</td>\n",
       "      <td>0.370370</td>\n",
       "      <td>0.139697</td>\n",
       "      <td>0.497253</td>\n",
       "      <td>0.035573</td>\n",
       "      <td>0.0</td>\n",
       "      <td>1.0</td>\n",
       "      <td>0.0</td>\n",
       "    </tr>\n",
       "    <tr>\n",
       "      <th>...</th>\n",
       "      <td>...</td>\n",
       "      <td>...</td>\n",
       "      <td>...</td>\n",
       "      <td>...</td>\n",
       "      <td>...</td>\n",
       "      <td>...</td>\n",
       "      <td>...</td>\n",
       "      <td>...</td>\n",
       "    </tr>\n",
       "    <tr>\n",
       "      <th>9995</th>\n",
       "      <td>0.380435</td>\n",
       "      <td>0.333333</td>\n",
       "      <td>0.253783</td>\n",
       "      <td>0.353022</td>\n",
       "      <td>0.055336</td>\n",
       "      <td>0.0</td>\n",
       "      <td>0.0</td>\n",
       "      <td>1.0</td>\n",
       "    </tr>\n",
       "    <tr>\n",
       "      <th>9996</th>\n",
       "      <td>0.391304</td>\n",
       "      <td>0.333333</td>\n",
       "      <td>0.270081</td>\n",
       "      <td>0.384615</td>\n",
       "      <td>0.067194</td>\n",
       "      <td>1.0</td>\n",
       "      <td>0.0</td>\n",
       "      <td>0.0</td>\n",
       "    </tr>\n",
       "    <tr>\n",
       "      <th>9997</th>\n",
       "      <td>0.402174</td>\n",
       "      <td>0.358025</td>\n",
       "      <td>0.277648</td>\n",
       "      <td>0.406593</td>\n",
       "      <td>0.086957</td>\n",
       "      <td>0.0</td>\n",
       "      <td>0.0</td>\n",
       "      <td>1.0</td>\n",
       "    </tr>\n",
       "    <tr>\n",
       "      <th>9998</th>\n",
       "      <td>0.402174</td>\n",
       "      <td>0.370370</td>\n",
       "      <td>0.139697</td>\n",
       "      <td>0.614011</td>\n",
       "      <td>0.098814</td>\n",
       "      <td>1.0</td>\n",
       "      <td>0.0</td>\n",
       "      <td>0.0</td>\n",
       "    </tr>\n",
       "    <tr>\n",
       "      <th>9999</th>\n",
       "      <td>0.402174</td>\n",
       "      <td>0.370370</td>\n",
       "      <td>0.193248</td>\n",
       "      <td>0.500000</td>\n",
       "      <td>0.118577</td>\n",
       "      <td>0.0</td>\n",
       "      <td>0.0</td>\n",
       "      <td>1.0</td>\n",
       "    </tr>\n",
       "  </tbody>\n",
       "</table>\n",
       "<p>10000 rows × 8 columns</p>\n",
       "</div>"
      ],
      "text/plain": [
       "      air_temp  process_temp  rot_speed    torque  tool_wear  Type_H  Type_L  \\\n",
       "0     0.304348      0.358025   0.222934  0.535714   0.000000     0.0     0.0   \n",
       "1     0.315217      0.370370   0.139697  0.583791   0.011858     0.0     1.0   \n",
       "2     0.304348      0.345679   0.192084  0.626374   0.019763     0.0     1.0   \n",
       "3     0.315217      0.358025   0.154249  0.490385   0.027668     0.0     1.0   \n",
       "4     0.315217      0.370370   0.139697  0.497253   0.035573     0.0     1.0   \n",
       "...        ...           ...        ...       ...        ...     ...     ...   \n",
       "9995  0.380435      0.333333   0.253783  0.353022   0.055336     0.0     0.0   \n",
       "9996  0.391304      0.333333   0.270081  0.384615   0.067194     1.0     0.0   \n",
       "9997  0.402174      0.358025   0.277648  0.406593   0.086957     0.0     0.0   \n",
       "9998  0.402174      0.370370   0.139697  0.614011   0.098814     1.0     0.0   \n",
       "9999  0.402174      0.370370   0.193248  0.500000   0.118577     0.0     0.0   \n",
       "\n",
       "      Type_M  \n",
       "0        1.0  \n",
       "1        0.0  \n",
       "2        0.0  \n",
       "3        0.0  \n",
       "4        0.0  \n",
       "...      ...  \n",
       "9995     1.0  \n",
       "9996     0.0  \n",
       "9997     1.0  \n",
       "9998     0.0  \n",
       "9999     1.0  \n",
       "\n",
       "[10000 rows x 8 columns]"
      ]
     },
     "execution_count": 7,
     "metadata": {},
     "output_type": "execute_result"
    }
   ],
   "source": [
    "pca = PCA()    \n",
    "pca.fit(X)\n",
    "X"
   ]
  },
  {
   "cell_type": "code",
   "execution_count": 8,
   "id": "39073475",
   "metadata": {
    "id": "39073475",
    "outputId": "fa13054b-c784-4513-f1b1-f2c0896a4fa0"
   },
   "outputs": [
    {
     "data": {
      "text/plain": [
       "array([57.05, 18.62, 10.64,  8.86,  3.91,  0.68,  0.24,  0.  ])"
      ]
     },
     "execution_count": 8,
     "metadata": {},
     "output_type": "execute_result"
    }
   ],
   "source": [
    "pr_variable = npy.round(pca.explained_variance_ratio_*100, 2)\n",
    "pr_variable"
   ]
  },
  {
   "cell_type": "code",
   "execution_count": 29,
   "id": "f43c29d3",
   "metadata": {
    "id": "f43c29d3",
    "outputId": "fc3a9660-3de0-4cc9-909f-8a41ae6b01ca"
   },
   "outputs": [
    {
     "name": "stdout",
     "output_type": "stream",
     "text": [
      "['PC1', 'PC2', 'PC3', 'PC4', 'PC5', 'PC6', 'PC7', 'PC8']\n"
     ]
    },
    {
     "data": {
      "image/png": "[encoded data removed]",
      "text/plain": [
       "<Figure size 800x560 with 1 Axes>"
      ]
     },
     "metadata": {
      "needs_background": "light"
     },
     "output_type": "display_data"
    }
   ],
   "source": [
    "principle_component = ['PC' + str(x) for x in range(1, 9)]\n",
    "\n",
    "print(principle_component)\n",
    "\n",
    "mplt.figure(figsize=(10, 7), dpi=80)\n",
    "mplt.bar(x = range(1,9), height = pr_variable, tick_label = principle_component)\n",
    "mplt.xlabel('Principal Component', fontsize = 15)\n",
    "mplt.ylabel('Percentage of Variation', fontsize = 15)\n",
    "mplt.title('PCA', fontsize = 15)\n",
    "mplt.grid();"
   ]
  },
  {
   "cell_type": "code",
   "execution_count": 10,
   "id": "22b6802b",
   "metadata": {
    "id": "22b6802b",
    "outputId": "63878061-3d3c-4afb-c1bc-282139307f79"
   },
   "outputs": [
    {
     "data": {
      "text/html": [
       "<div>\n",
       "<style scoped>\n",
       "    .dataframe tbody tr th:only-of-type {\n",
       "        vertical-align: middle;\n",
       "    }\n",
       "\n",
       "    .dataframe tbody tr th {\n",
       "        vertical-align: top;\n",
       "    }\n",
       "\n",
       "    .dataframe thead th {\n",
       "        text-align: right;\n",
       "    }\n",
       "</style>\n",
       "<table border=\"1\" class=\"dataframe\">\n",
       "  <thead>\n",
       "    <tr style=\"text-align: right;\">\n",
       "      <th></th>\n",
       "      <th>PC1</th>\n",
       "      <th>PC2</th>\n",
       "      <th>PC3</th>\n",
       "      <th>PC4</th>\n",
       "      <th>PC5</th>\n",
       "      <th>PC6</th>\n",
       "      <th>PC7</th>\n",
       "      <th>PC8</th>\n",
       "    </tr>\n",
       "  </thead>\n",
       "  <tbody>\n",
       "    <tr>\n",
       "      <th>air_temp</th>\n",
       "      <td>-3.741444e-04</td>\n",
       "      <td>-3.701677e-04</td>\n",
       "      <td>-8.076940e-04</td>\n",
       "      <td>4.772033e-05</td>\n",
       "      <td>-3.794601e-03</td>\n",
       "      <td>0.077976</td>\n",
       "      <td>-0.742858</td>\n",
       "      <td>0.664881</td>\n",
       "    </tr>\n",
       "    <tr>\n",
       "      <th>process_temp</th>\n",
       "      <td>-3.079605e-02</td>\n",
       "      <td>-2.292909e-02</td>\n",
       "      <td>-1.115046e-04</td>\n",
       "      <td>-2.015207e-03</td>\n",
       "      <td>-2.457952e-03</td>\n",
       "      <td>0.812159</td>\n",
       "      <td>-0.338579</td>\n",
       "      <td>-0.473580</td>\n",
       "    </tr>\n",
       "    <tr>\n",
       "      <th>rot_speed</th>\n",
       "      <td>-7.692590e-01</td>\n",
       "      <td>-6.329253e-01</td>\n",
       "      <td>-1.203056e-02</td>\n",
       "      <td>1.235575e-02</td>\n",
       "      <td>-7.664029e-02</td>\n",
       "      <td>-0.031271</td>\n",
       "      <td>0.013622</td>\n",
       "      <td>0.017649</td>\n",
       "    </tr>\n",
       "    <tr>\n",
       "      <th>torque</th>\n",
       "      <td>-5.922010e-02</td>\n",
       "      <td>-4.874545e-02</td>\n",
       "      <td>-5.245490e-04</td>\n",
       "      <td>-1.305224e-03</td>\n",
       "      <td>9.970460e-01</td>\n",
       "      <td>-0.000109</td>\n",
       "      <td>-0.002613</td>\n",
       "      <td>0.002723</td>\n",
       "    </tr>\n",
       "    <tr>\n",
       "      <th>tool_wear</th>\n",
       "      <td>-1.261133e-02</td>\n",
       "      <td>-1.127065e-02</td>\n",
       "      <td>5.914867e-01</td>\n",
       "      <td>-8.061315e-01</td>\n",
       "      <td>-2.047165e-03</td>\n",
       "      <td>-0.001759</td>\n",
       "      <td>0.000378</td>\n",
       "      <td>0.001380</td>\n",
       "    </tr>\n",
       "    <tr>\n",
       "      <th>Type_H</th>\n",
       "      <td>-6.352340e-01</td>\n",
       "      <td>7.722084e-01</td>\n",
       "      <td>-1.004385e-02</td>\n",
       "      <td>-8.222964e-03</td>\n",
       "      <td>5.966383e-06</td>\n",
       "      <td>-0.001521</td>\n",
       "      <td>0.000606</td>\n",
       "      <td>0.000916</td>\n",
       "    </tr>\n",
       "    <tr>\n",
       "      <th>Type_L</th>\n",
       "      <td>-1.018428e-02</td>\n",
       "      <td>8.409617e-03</td>\n",
       "      <td>8.061618e-01</td>\n",
       "      <td>5.915454e-01</td>\n",
       "      <td>1.002982e-03</td>\n",
       "      <td>0.000995</td>\n",
       "      <td>-0.000860</td>\n",
       "      <td>-0.000136</td>\n",
       "    </tr>\n",
       "    <tr>\n",
       "      <th>Type_M</th>\n",
       "      <td>2.273332e-16</td>\n",
       "      <td>1.972754e-17</td>\n",
       "      <td>3.355385e-16</td>\n",
       "      <td>1.518110e-16</td>\n",
       "      <td>-3.467457e-18</td>\n",
       "      <td>0.577350</td>\n",
       "      <td>0.577350</td>\n",
       "      <td>0.577350</td>\n",
       "    </tr>\n",
       "  </tbody>\n",
       "</table>\n",
       "</div>"
      ],
      "text/plain": [
       "                       PC1           PC2           PC3           PC4  \\\n",
       "air_temp     -3.741444e-04 -3.701677e-04 -8.076940e-04  4.772033e-05   \n",
       "process_temp -3.079605e-02 -2.292909e-02 -1.115046e-04 -2.015207e-03   \n",
       "rot_speed    -7.692590e-01 -6.329253e-01 -1.203056e-02  1.235575e-02   \n",
       "torque       -5.922010e-02 -4.874545e-02 -5.245490e-04 -1.305224e-03   \n",
       "tool_wear    -1.261133e-02 -1.127065e-02  5.914867e-01 -8.061315e-01   \n",
       "Type_H       -6.352340e-01  7.722084e-01 -1.004385e-02 -8.222964e-03   \n",
       "Type_L       -1.018428e-02  8.409617e-03  8.061618e-01  5.915454e-01   \n",
       "Type_M        2.273332e-16  1.972754e-17  3.355385e-16  1.518110e-16   \n",
       "\n",
       "                       PC5       PC6       PC7       PC8  \n",
       "air_temp     -3.794601e-03  0.077976 -0.742858  0.664881  \n",
       "process_temp -2.457952e-03  0.812159 -0.338579 -0.473580  \n",
       "rot_speed    -7.664029e-02 -0.031271  0.013622  0.017649  \n",
       "torque        9.970460e-01 -0.000109 -0.002613  0.002723  \n",
       "tool_wear    -2.047165e-03 -0.001759  0.000378  0.001380  \n",
       "Type_H        5.966383e-06 -0.001521  0.000606  0.000916  \n",
       "Type_L        1.002982e-03  0.000995 -0.000860 -0.000136  \n",
       "Type_M       -3.467457e-18  0.577350  0.577350  0.577350  "
      ]
     },
     "execution_count": 10,
     "metadata": {},
     "output_type": "execute_result"
    }
   ],
   "source": [
    "column_list = X.columns\n",
    "pds.DataFrame(data = pca.components_, columns = principle_component, index = column_list)"
   ]
  },
  {
   "cell_type": "code",
   "execution_count": 11,
   "id": "c6278c26",
   "metadata": {
    "id": "c6278c26",
    "outputId": "956b42ee-02c1-4659-8e6a-26fc904bc2f6"
   },
   "outputs": [
    {
     "data": {
      "text/html": [
       "<div>\n",
       "<style scoped>\n",
       "    .dataframe tbody tr th:only-of-type {\n",
       "        vertical-align: middle;\n",
       "    }\n",
       "\n",
       "    .dataframe tbody tr th {\n",
       "        vertical-align: top;\n",
       "    }\n",
       "\n",
       "    .dataframe thead th {\n",
       "        text-align: right;\n",
       "    }\n",
       "</style>\n",
       "<table border=\"1\" class=\"dataframe\">\n",
       "  <thead>\n",
       "    <tr style=\"text-align: right;\">\n",
       "      <th></th>\n",
       "      <th>PC1</th>\n",
       "      <th>PC2</th>\n",
       "      <th>PC3</th>\n",
       "      <th>PC4</th>\n",
       "      <th>PC5</th>\n",
       "      <th>PC6</th>\n",
       "      <th>PC7</th>\n",
       "      <th>PC8</th>\n",
       "    </tr>\n",
       "  </thead>\n",
       "  <tbody>\n",
       "    <tr>\n",
       "      <th>0</th>\n",
       "      <td>0.905267</td>\n",
       "      <td>-0.198635</td>\n",
       "      <td>0.309526</td>\n",
       "      <td>-0.401271</td>\n",
       "      <td>-0.020585</td>\n",
       "      <td>-0.002429</td>\n",
       "      <td>0.029137</td>\n",
       "      <td>9.883654e-17</td>\n",
       "    </tr>\n",
       "    <tr>\n",
       "      <th>1</th>\n",
       "      <td>-0.502456</td>\n",
       "      <td>-0.064368</td>\n",
       "      <td>0.290010</td>\n",
       "      <td>-0.396049</td>\n",
       "      <td>-0.109877</td>\n",
       "      <td>0.000330</td>\n",
       "      <td>-0.010245</td>\n",
       "      <td>-1.189143e-16</td>\n",
       "    </tr>\n",
       "    <tr>\n",
       "      <th>2</th>\n",
       "      <td>-0.502513</td>\n",
       "      <td>-0.063579</td>\n",
       "      <td>0.313289</td>\n",
       "      <td>-0.386403</td>\n",
       "      <td>-0.112819</td>\n",
       "      <td>-0.012709</td>\n",
       "      <td>0.057088</td>\n",
       "      <td>-9.115868e-17</td>\n",
       "    </tr>\n",
       "    <tr>\n",
       "      <th>3</th>\n",
       "      <td>-0.502528</td>\n",
       "      <td>-0.063938</td>\n",
       "      <td>0.295283</td>\n",
       "      <td>-0.379569</td>\n",
       "      <td>-0.025865</td>\n",
       "      <td>-0.008582</td>\n",
       "      <td>-0.053856</td>\n",
       "      <td>-1.189143e-16</td>\n",
       "    </tr>\n",
       "    <tr>\n",
       "      <th>4</th>\n",
       "      <td>-0.502550</td>\n",
       "      <td>-0.064252</td>\n",
       "      <td>0.287123</td>\n",
       "      <td>-0.372291</td>\n",
       "      <td>-0.040164</td>\n",
       "      <td>0.001042</td>\n",
       "      <td>-0.061412</td>\n",
       "      <td>-1.189143e-16</td>\n",
       "    </tr>\n",
       "    <tr>\n",
       "      <th>...</th>\n",
       "      <td>...</td>\n",
       "      <td>...</td>\n",
       "      <td>...</td>\n",
       "      <td>...</td>\n",
       "      <td>...</td>\n",
       "      <td>...</td>\n",
       "      <td>...</td>\n",
       "      <td>...</td>\n",
       "    </tr>\n",
       "    <tr>\n",
       "      <th>9995</th>\n",
       "      <td>0.905004</td>\n",
       "      <td>-0.200183</td>\n",
       "      <td>0.259753</td>\n",
       "      <td>-0.349179</td>\n",
       "      <td>0.144142</td>\n",
       "      <td>-0.068636</td>\n",
       "      <td>-0.054991</td>\n",
       "      <td>9.883654e-17</td>\n",
       "    </tr>\n",
       "    <tr>\n",
       "      <th>9996</th>\n",
       "      <td>0.318038</td>\n",
       "      <td>1.085126</td>\n",
       "      <td>0.201758</td>\n",
       "      <td>-0.340882</td>\n",
       "      <td>0.125013</td>\n",
       "      <td>-0.078402</td>\n",
       "      <td>-0.022131</td>\n",
       "      <td>-2.299366e-16</td>\n",
       "    </tr>\n",
       "    <tr>\n",
       "      <th>9997</th>\n",
       "      <td>0.904850</td>\n",
       "      <td>-0.201607</td>\n",
       "      <td>0.225354</td>\n",
       "      <td>-0.320225</td>\n",
       "      <td>0.114455</td>\n",
       "      <td>-0.064059</td>\n",
       "      <td>-0.004044</td>\n",
       "      <td>9.883654e-17</td>\n",
       "    </tr>\n",
       "    <tr>\n",
       "      <th>9998</th>\n",
       "      <td>0.318017</td>\n",
       "      <td>1.083417</td>\n",
       "      <td>0.171934</td>\n",
       "      <td>-0.312035</td>\n",
       "      <td>-0.137650</td>\n",
       "      <td>-0.057283</td>\n",
       "      <td>0.008688</td>\n",
       "      <td>-2.299366e-16</td>\n",
       "    </tr>\n",
       "    <tr>\n",
       "      <th>9999</th>\n",
       "      <td>0.904798</td>\n",
       "      <td>-0.202147</td>\n",
       "      <td>0.217286</td>\n",
       "      <td>-0.289378</td>\n",
       "      <td>-0.010969</td>\n",
       "      <td>-0.054446</td>\n",
       "      <td>-0.016695</td>\n",
       "      <td>9.883654e-17</td>\n",
       "    </tr>\n",
       "  </tbody>\n",
       "</table>\n",
       "<p>10000 rows × 8 columns</p>\n",
       "</div>"
      ],
      "text/plain": [
       "           PC1       PC2       PC3       PC4       PC5       PC6       PC7  \\\n",
       "0     0.905267 -0.198635  0.309526 -0.401271 -0.020585 -0.002429  0.029137   \n",
       "1    -0.502456 -0.064368  0.290010 -0.396049 -0.109877  0.000330 -0.010245   \n",
       "2    -0.502513 -0.063579  0.313289 -0.386403 -0.112819 -0.012709  0.057088   \n",
       "3    -0.502528 -0.063938  0.295283 -0.379569 -0.025865 -0.008582 -0.053856   \n",
       "4    -0.502550 -0.064252  0.287123 -0.372291 -0.040164  0.001042 -0.061412   \n",
       "...        ...       ...       ...       ...       ...       ...       ...   \n",
       "9995  0.905004 -0.200183  0.259753 -0.349179  0.144142 -0.068636 -0.054991   \n",
       "9996  0.318038  1.085126  0.201758 -0.340882  0.125013 -0.078402 -0.022131   \n",
       "9997  0.904850 -0.201607  0.225354 -0.320225  0.114455 -0.064059 -0.004044   \n",
       "9998  0.318017  1.083417  0.171934 -0.312035 -0.137650 -0.057283  0.008688   \n",
       "9999  0.904798 -0.202147  0.217286 -0.289378 -0.010969 -0.054446 -0.016695   \n",
       "\n",
       "               PC8  \n",
       "0     9.883654e-17  \n",
       "1    -1.189143e-16  \n",
       "2    -9.115868e-17  \n",
       "3    -1.189143e-16  \n",
       "4    -1.189143e-16  \n",
       "...            ...  \n",
       "9995  9.883654e-17  \n",
       "9996 -2.299366e-16  \n",
       "9997  9.883654e-17  \n",
       "9998 -2.299366e-16  \n",
       "9999  9.883654e-17  \n",
       "\n",
       "[10000 rows x 8 columns]"
      ]
     },
     "execution_count": 11,
     "metadata": {},
     "output_type": "execute_result"
    }
   ],
   "source": [
    "princpleComponentAnalysis_data = pca.transform(X)\n",
    "\n",
    "princpleComponentAnalysis_df = pds.DataFrame(princpleComponentAnalysis_data, columns = principle_component)\n",
    "\n",
    "princpleComponentAnalysis_df"
   ]
  },
  {
   "cell_type": "code",
   "execution_count": 12,
   "id": "b5020f7c",
   "metadata": {
    "id": "b5020f7c",
    "outputId": "2989d014-4105-4ebd-e4a6-c3bec482e373"
   },
   "outputs": [
    {
     "name": "stdout",
     "output_type": "stream",
     "text": [
      "           PC1       PC2\n",
      "0     0.905267 -0.198635\n",
      "1    -0.502456 -0.064368\n",
      "2    -0.502513 -0.063579\n",
      "3    -0.502528 -0.063938\n",
      "4    -0.502550 -0.064252\n",
      "...        ...       ...\n",
      "9995  0.905004 -0.200183\n",
      "9996  0.318038  1.085126\n",
      "9997  0.904850 -0.201607\n",
      "9998  0.318017  1.083417\n",
      "9999  0.904798 -0.202147\n",
      "\n",
      "[10000 rows x 2 columns]\n"
     ]
    }
   ],
   "source": [
    "#Let us build a 2d visualization using the PCA top 2 features \n",
    "princpleComponentAnalysis_df = princpleComponentAnalysis_df.loc[:, ['PC1', 'PC2']]\n",
    "\n",
    "print(princpleComponentAnalysis_df)"
   ]
  },
  {
   "cell_type": "code",
   "execution_count": 13,
   "id": "0eb3cda1",
   "metadata": {
    "id": "0eb3cda1",
    "outputId": "d5eaee09-bd54-40d9-c387-c270684404d5"
   },
   "outputs": [
    {
     "data": {
      "text/html": [
       "<div>\n",
       "<style scoped>\n",
       "    .dataframe tbody tr th:only-of-type {\n",
       "        vertical-align: middle;\n",
       "    }\n",
       "\n",
       "    .dataframe tbody tr th {\n",
       "        vertical-align: top;\n",
       "    }\n",
       "\n",
       "    .dataframe thead th {\n",
       "        text-align: right;\n",
       "    }\n",
       "</style>\n",
       "<table border=\"1\" class=\"dataframe\">\n",
       "  <thead>\n",
       "    <tr style=\"text-align: right;\">\n",
       "      <th></th>\n",
       "      <th>PC1</th>\n",
       "      <th>PC2</th>\n",
       "      <th>failure</th>\n",
       "    </tr>\n",
       "  </thead>\n",
       "  <tbody>\n",
       "    <tr>\n",
       "      <th>0</th>\n",
       "      <td>0.905267</td>\n",
       "      <td>-0.198635</td>\n",
       "      <td>0</td>\n",
       "    </tr>\n",
       "    <tr>\n",
       "      <th>1</th>\n",
       "      <td>-0.502456</td>\n",
       "      <td>-0.064368</td>\n",
       "      <td>0</td>\n",
       "    </tr>\n",
       "    <tr>\n",
       "      <th>2</th>\n",
       "      <td>-0.502513</td>\n",
       "      <td>-0.063579</td>\n",
       "      <td>0</td>\n",
       "    </tr>\n",
       "    <tr>\n",
       "      <th>3</th>\n",
       "      <td>-0.502528</td>\n",
       "      <td>-0.063938</td>\n",
       "      <td>0</td>\n",
       "    </tr>\n",
       "    <tr>\n",
       "      <th>4</th>\n",
       "      <td>-0.502550</td>\n",
       "      <td>-0.064252</td>\n",
       "      <td>0</td>\n",
       "    </tr>\n",
       "    <tr>\n",
       "      <th>...</th>\n",
       "      <td>...</td>\n",
       "      <td>...</td>\n",
       "      <td>...</td>\n",
       "    </tr>\n",
       "    <tr>\n",
       "      <th>9995</th>\n",
       "      <td>0.905004</td>\n",
       "      <td>-0.200183</td>\n",
       "      <td>0</td>\n",
       "    </tr>\n",
       "    <tr>\n",
       "      <th>9996</th>\n",
       "      <td>0.318038</td>\n",
       "      <td>1.085126</td>\n",
       "      <td>0</td>\n",
       "    </tr>\n",
       "    <tr>\n",
       "      <th>9997</th>\n",
       "      <td>0.904850</td>\n",
       "      <td>-0.201607</td>\n",
       "      <td>0</td>\n",
       "    </tr>\n",
       "    <tr>\n",
       "      <th>9998</th>\n",
       "      <td>0.318017</td>\n",
       "      <td>1.083417</td>\n",
       "      <td>0</td>\n",
       "    </tr>\n",
       "    <tr>\n",
       "      <th>9999</th>\n",
       "      <td>0.904798</td>\n",
       "      <td>-0.202147</td>\n",
       "      <td>0</td>\n",
       "    </tr>\n",
       "  </tbody>\n",
       "</table>\n",
       "<p>10000 rows × 3 columns</p>\n",
       "</div>"
      ],
      "text/plain": [
       "           PC1       PC2  failure\n",
       "0     0.905267 -0.198635        0\n",
       "1    -0.502456 -0.064368        0\n",
       "2    -0.502513 -0.063579        0\n",
       "3    -0.502528 -0.063938        0\n",
       "4    -0.502550 -0.064252        0\n",
       "...        ...       ...      ...\n",
       "9995  0.905004 -0.200183        0\n",
       "9996  0.318038  1.085126        0\n",
       "9997  0.904850 -0.201607        0\n",
       "9998  0.318017  1.083417        0\n",
       "9999  0.904798 -0.202147        0\n",
       "\n",
       "[10000 rows x 3 columns]"
      ]
     },
     "execution_count": 13,
     "metadata": {},
     "output_type": "execute_result"
    }
   ],
   "source": [
    "# Lets add the target data to get a visualization on the information and lets see if there are good clusters\n",
    "\n",
    "projected_data = pds.concat([princpleComponentAnalysis_df, y], axis = 1)\n",
    "convert_dict = { 'PC1' : float,\n",
    "                 'PC2' : float,\n",
    "    'failure': int }  \n",
    "  \n",
    "projected_data = projected_data.astype(convert_dict)  \n",
    "projected_data"
   ]
  },
  {
   "cell_type": "markdown",
   "id": "3cd75e46",
   "metadata": {
    "id": "3cd75e46"
   },
   "source": [
    "## This a visualization of the clusters"
   ]
  },
  {
   "cell_type": "code",
   "execution_count": 14,
   "id": "75f2f889",
   "metadata": {
    "id": "75f2f889",
    "outputId": "ce399758-643c-41d3-f702-e99987638be2"
   },
   "outputs": [
    {
     "data": {
      "image/png": "[encoded data removed]",
      "text/plain": [
       "<Figure size 432x288 with 1 Axes>"
      ]
     },
     "metadata": {
      "needs_background": "light"
     },
     "output_type": "display_data"
    }
   ],
   "source": [
    "labels = projected_data['failure'].unique()\n",
    "colors = [\"r\", \"b\", \"g\",\"yellow\",'black']\n",
    "\n",
    "for label, color in zip(labels, colors):\n",
    "    index = projected_data[\"failure\"]==label\n",
    "    mplt.scatter(projected_data.loc[index, \"PC1\"],\n",
    "                projected_data.loc[index, \"PC2\"],\n",
    "                c = color)\n",
    "    \n",
    "mplt.xlabel(\"PC1\", fontsize = 15)\n",
    "mplt.ylabel(\"PC2\", fontsize = 15)\n",
    "mplt.title(\"Two-component PCA\", fontsize = 15)\n",
    "mplt.legend(labels);"
   ]
  },
  {
   "cell_type": "code",
   "execution_count": 15,
   "id": "c768a4b0",
   "metadata": {
    "id": "c768a4b0",
    "outputId": "c8352035-3814-4fad-fd1e-07eaf395b43b"
   },
   "outputs": [
    {
     "data": {
      "text/plain": [
       "Text(0, 0.5, 'Second component')"
      ]
     },
     "execution_count": 15,
     "metadata": {},
     "output_type": "execute_result"
    },
    {
     "data": {
      "image/png": "[encoded data removed]",
      "text/plain": [
       "<Figure size 432x432 with 1 Axes>"
      ]
     },
     "metadata": {
      "needs_background": "light"
     },
     "output_type": "display_data"
    }
   ],
   "source": [
    "mplt.figure(figsize=(6,6))\n",
    "mplt.scatter(princpleComponentAnalysis_data[:,0],princpleComponentAnalysis_data[:,1],c=y)\n",
    "mplt.xlabel('First component')\n",
    "mplt.ylabel('Second component')"
   ]
  },
  {
   "cell_type": "markdown",
   "id": "73dfa6bf",
   "metadata": {
    "id": "73dfa6bf"
   },
   "source": [
    "## Lets now perform a non Linear Dimentionality reduction "
   ]
  },
  {
   "cell_type": "code",
   "execution_count": 16,
   "id": "d4580416",
   "metadata": {
    "id": "d4580416"
   },
   "outputs": [],
   "source": [
    "from minisom import MiniSom"
   ]
  },
  {
   "cell_type": "code",
   "execution_count": 17,
   "id": "baf4b06a",
   "metadata": {
    "id": "baf4b06a"
   },
   "outputs": [],
   "source": [
    "som = MiniSom( x = 10, y = 10, input_len = 8, sigma = 1.0, learning_rate = 0.5, neighborhood_function='gaussian', random_seed=0)"
   ]
  },
  {
   "cell_type": "code",
   "execution_count": 18,
   "id": "2deb93dc",
   "metadata": {
    "id": "2deb93dc"
   },
   "outputs": [],
   "source": [
    "scaled_data = X.to_numpy()\n",
    "scaled_data\n",
    "som.random_weights_init(scaled_data)"
   ]
  },
  {
   "cell_type": "code",
   "execution_count": 19,
   "id": "582262ec",
   "metadata": {
    "id": "582262ec"
   },
   "outputs": [],
   "source": [
    "som.train_random(data = scaled_data, num_iteration = 100)"
   ]
  },
  {
   "cell_type": "code",
   "execution_count": 20,
   "id": "b9efd2f3",
   "metadata": {
    "id": "b9efd2f3"
   },
   "outputs": [],
   "source": [
    "scaled_y = y.to_numpy()\n",
    "scaled_y = list(map(int, scaled_y))"
   ]
  },
  {
   "cell_type": "code",
   "execution_count": 21,
   "id": "3fa5a3bc",
   "metadata": {
    "id": "3fa5a3bc",
    "outputId": "812edea8-1e36-480b-e953-29f4bca253bf"
   },
   "outputs": [
    {
     "data": {
      "image/png": "[encoded data removed]",
      "text/plain": [
       "<Figure size 432x288 with 2 Axes>"
      ]
     },
     "metadata": {
      "needs_background": "light"
     },
     "output_type": "display_data"
    }
   ],
   "source": [
    "# making a self organization map \n",
    "from pylab import bone, pcolor, colorbar, plot, show \n",
    "bone() \n",
    "pcolor(som.distance_map().T) \n",
    "colorbar() \n",
    "markers = [\"d\", \"v\", \"s\", \"*\", \"^\"] \n",
    "colors = ['pink', 'green', 'cyan', 'yellow', 'orange'] \n",
    "for i, x in enumerate(scaled_data):\n",
    "    W = som.winner(x) \n",
    "    plot(W[0] + 0.5,\n",
    "    W[1] + 0.5, markers[scaled_y[i]-1], markeredgecolor = colors [scaled_y[i]-1], markerfacecolor = 'None', markersize = 10,\n",
    "    markeredgewidth = 2) \n",
    "show()"
   ]
  },
  {
   "cell_type": "code",
   "execution_count": 22,
   "id": "0e48085f",
   "metadata": {
    "id": "0e48085f",
    "outputId": "9c120e38-24f1-451f-8156-ceeda70da894"
   },
   "outputs": [
    {
     "name": "stdout",
     "output_type": "stream",
     "text": [
      "Requirement already satisfied: GEMA in c:\\users\\student\\anaconda3\\lib\\site-packages (0.4.2)\n",
      "Note: you may need to restart the kernel to use updated packages.\n"
     ]
    }
   ],
   "source": [
    "pip install GEMA"
   ]
  },
  {
   "cell_type": "code",
   "execution_count": 23,
   "id": "069185df",
   "metadata": {
    "id": "069185df"
   },
   "outputs": [],
   "source": [
    "import GEMA\n",
    "\n",
    "# setting parameters\n",
    "map_size = 8\n",
    "period = 10000 \n",
    "learning_rate = 0.1\n",
    "normalize_data = 'none'"
   ]
  },
  {
   "cell_type": "code",
   "execution_count": 24,
   "id": "0596d199",
   "metadata": {
    "id": "0596d199",
    "outputId": "2593c6d3-dbe8-4af4-e402-e1c39456b533"
   },
   "outputs": [
    {
     "data": {
      "text/plain": [
       "array([[0.30434783, 0.53571429, 1.        ],\n",
       "       [0.31521739, 0.58379121, 0.        ],\n",
       "       [0.30434783, 0.62637363, 0.        ],\n",
       "       ...,\n",
       "       [0.40217391, 0.40659341, 1.        ],\n",
       "       [0.40217391, 0.61401099, 0.        ],\n",
       "       [0.40217391, 0.5       , 1.        ]])"
      ]
     },
     "execution_count": 24,
     "metadata": {},
     "output_type": "execute_result"
    }
   ],
   "source": [
    "x=X[[ 'air_temp', 'torque', 'Type_M']]\n",
    "x=x.to_numpy()\n",
    "x"
   ]
  },
  {
   "cell_type": "code",
   "execution_count": 25,
   "id": "5409f726",
   "metadata": {
    "colab": {
     "referenced_widgets": [
      "b87ba3c9ba854130af9351ec5b92a74f"
     ]
    },
    "id": "5409f726",
    "outputId": "c842014b-d85f-40b8-8307-ecb3b290cc89"
   },
   "outputs": [
    {
     "name": "stdout",
     "output_type": "stream",
     "text": [
      "TRAINING...\n"
     ]
    },
    {
     "data": {
      "application/vnd.jupyter.widget-view+json": {
       "model_id": "4aa338489d02466ea0fc9e734f56f9fa",
       "version_major": 2,
       "version_minor": 0
      },
      "text/plain": [
       "  0%|          | 0/10000 [00:00<?, ?it/s]"
      ]
     },
     "metadata": {},
     "output_type": "display_data"
    },
    {
     "name": "stdout",
     "output_type": "stream",
     "text": [
      "FINISHED.\n"
     ]
    }
   ],
   "source": [
    "main_map = GEMA.Map(x, \n",
    "                    map_size, \n",
    "                    period, \n",
    "                    initial_lr=learning_rate, \n",
    "                    initial_neighbourhood = 0,\n",
    "                    distance = 'euclidean',\n",
    "                    use_decay= False,\n",
    "                    normalization = normalize_data,\n",
    "                    presentation= 'random',\n",
    "                    weights = 'random')"
   ]
  },
  {
   "cell_type": "code",
   "execution_count": 26,
   "id": "f42b0c55",
   "metadata": {
    "colab": {
     "referenced_widgets": [
      "3a280fda69ff49858e7b7e24d1b24b42"
     ]
    },
    "id": "f42b0c55",
    "outputId": "f36d439b-93ea-4ae6-be83-b2b779da1c84"
   },
   "outputs": [
    {
     "data": {
      "application/vnd.jupyter.widget-view+json": {
       "model_id": "a07c39ace3a84ee4ae91252bcef07722",
       "version_major": 2,
       "version_minor": 0
      },
      "text/plain": [
       "  0%|          | 0/10000 [00:00<?, ?it/s]"
      ]
     },
     "metadata": {},
     "output_type": "display_data"
    }
   ],
   "source": [
    "main_classification = GEMA.Classification(main_map, x)"
   ]
  },
  {
   "cell_type": "code",
   "execution_count": 27,
   "id": "32c77f8d",
   "metadata": {
    "id": "32c77f8d",
    "outputId": "01999ace-4261-4c60-ce96-7e1d343f92f9"
   },
   "outputs": [
    {
     "data": {
      "text/plain": [
       "<matplotlib.image.AxesImage at 0x1f421bb73d0>"
      ]
     },
     "execution_count": 27,
     "metadata": {},
     "output_type": "execute_result"
    },
    {
     "data": {
      "image/png": "[encoded data removed]",
      "text/plain": [
       "<Figure size 432x288 with 1 Axes>"
      ]
     },
     "metadata": {
      "needs_background": "light"
     },
     "output_type": "display_data"
    }
   ],
   "source": [
    "from matplotlib.pyplot import imshow\n",
    "image_matrix = (main_map.weights-main_map.weights.min())/(main_map.weights.max()-main_map.weights.min())\n",
    "imshow(image_matrix)"
   ]
  },
  {
   "cell_type": "code",
   "execution_count": null,
   "id": "c84c1823",
   "metadata": {
    "id": "c84c1823"
   },
   "outputs": [],
   "source": []
  },
  {
   "cell_type": "code",
   "execution_count": null,
   "id": "1e85c3fa",
   "metadata": {
    "id": "1e85c3fa"
   },
   "outputs": [],
   "source": []
  }
 ],
 "metadata": {
  "colab": {
   "provenance": []
  },
  "kernelspec": {
   "display_name": "Python 3 (ipykernel)",
   "language": "python",
   "name": "python3"
  },
  "language_info": {
   "codemirror_mode": {
    "name": "ipython",
    "version": 3
   },
   "file_extension": ".py",
   "mimetype": "text/x-python",
   "name": "python",
   "nbconvert_exporter": "python",
   "pygments_lexer": "ipython3",
   "version": "3.9.12"
  }
 },
 "nbformat": 4,
 "nbformat_minor": 5
}
