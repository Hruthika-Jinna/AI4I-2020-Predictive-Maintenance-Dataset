{
 "cells": [
  {
   "cell_type": "code",
   "execution_count": 1,
   "id": "134563a5",
   "metadata": {},
   "outputs": [],
   "source": [
    "import numpy as np\n",
    "import pandas as pd\n",
    "import matplotlib.pyplot as plt\n",
    "import seaborn as sns\n",
    "from sklearn.model_selection import train_test_split\n",
    "from sklearn.ensemble import RandomForestClassifier\n",
    "from sklearn.preprocessing import StandardScaler, LabelEncoder"
   ]
  },
  {
   "cell_type": "code",
   "execution_count": 2,
   "id": "4ea1e6ca",
   "metadata": {},
   "outputs": [],
   "source": [
    "df = pd.read_csv(\"Group_8_data_cleaned.csv\")"
   ]
  },
  {
   "cell_type": "code",
   "execution_count": 3,
   "id": "a9a81057",
   "metadata": {},
   "outputs": [
    {
     "data": {
      "text/html": [
       "<div>\n",
       "<style scoped>\n",
       "    .dataframe tbody tr th:only-of-type {\n",
       "        vertical-align: middle;\n",
       "    }\n",
       "\n",
       "    .dataframe tbody tr th {\n",
       "        vertical-align: top;\n",
       "    }\n",
       "\n",
       "    .dataframe thead th {\n",
       "        text-align: right;\n",
       "    }\n",
       "</style>\n",
       "<table border=\"1\" class=\"dataframe\">\n",
       "  <thead>\n",
       "    <tr style=\"text-align: right;\">\n",
       "      <th></th>\n",
       "      <th>Unnamed: 0</th>\n",
       "      <th>air_temp</th>\n",
       "      <th>process_temp</th>\n",
       "      <th>rot_speed</th>\n",
       "      <th>torque</th>\n",
       "      <th>tool_wear</th>\n",
       "      <th>Type_H</th>\n",
       "      <th>Type_L</th>\n",
       "      <th>Type_M</th>\n",
       "      <th>failure</th>\n",
       "    </tr>\n",
       "  </thead>\n",
       "  <tbody>\n",
       "    <tr>\n",
       "      <th>0</th>\n",
       "      <td>0</td>\n",
       "      <td>298.1</td>\n",
       "      <td>308.6</td>\n",
       "      <td>1551</td>\n",
       "      <td>42.8</td>\n",
       "      <td>0</td>\n",
       "      <td>0</td>\n",
       "      <td>0</td>\n",
       "      <td>1</td>\n",
       "      <td>0</td>\n",
       "    </tr>\n",
       "    <tr>\n",
       "      <th>1</th>\n",
       "      <td>1</td>\n",
       "      <td>298.2</td>\n",
       "      <td>308.7</td>\n",
       "      <td>1408</td>\n",
       "      <td>46.3</td>\n",
       "      <td>3</td>\n",
       "      <td>0</td>\n",
       "      <td>1</td>\n",
       "      <td>0</td>\n",
       "      <td>0</td>\n",
       "    </tr>\n",
       "    <tr>\n",
       "      <th>2</th>\n",
       "      <td>2</td>\n",
       "      <td>298.1</td>\n",
       "      <td>308.5</td>\n",
       "      <td>1498</td>\n",
       "      <td>49.4</td>\n",
       "      <td>5</td>\n",
       "      <td>0</td>\n",
       "      <td>1</td>\n",
       "      <td>0</td>\n",
       "      <td>0</td>\n",
       "    </tr>\n",
       "    <tr>\n",
       "      <th>3</th>\n",
       "      <td>3</td>\n",
       "      <td>298.2</td>\n",
       "      <td>308.6</td>\n",
       "      <td>1433</td>\n",
       "      <td>39.5</td>\n",
       "      <td>7</td>\n",
       "      <td>0</td>\n",
       "      <td>1</td>\n",
       "      <td>0</td>\n",
       "      <td>0</td>\n",
       "    </tr>\n",
       "    <tr>\n",
       "      <th>4</th>\n",
       "      <td>4</td>\n",
       "      <td>298.2</td>\n",
       "      <td>308.7</td>\n",
       "      <td>1408</td>\n",
       "      <td>40.0</td>\n",
       "      <td>9</td>\n",
       "      <td>0</td>\n",
       "      <td>1</td>\n",
       "      <td>0</td>\n",
       "      <td>0</td>\n",
       "    </tr>\n",
       "  </tbody>\n",
       "</table>\n",
       "</div>"
      ],
      "text/plain": [
       "   Unnamed: 0  air_temp  process_temp  rot_speed  torque  tool_wear  Type_H  \\\n",
       "0           0     298.1         308.6       1551    42.8          0       0   \n",
       "1           1     298.2         308.7       1408    46.3          3       0   \n",
       "2           2     298.1         308.5       1498    49.4          5       0   \n",
       "3           3     298.2         308.6       1433    39.5          7       0   \n",
       "4           4     298.2         308.7       1408    40.0          9       0   \n",
       "\n",
       "   Type_L  Type_M  failure  \n",
       "0       0       1        0  \n",
       "1       1       0        0  \n",
       "2       1       0        0  \n",
       "3       1       0        0  \n",
       "4       1       0        0  "
      ]
     },
     "execution_count": 3,
     "metadata": {},
     "output_type": "execute_result"
    }
   ],
   "source": [
    "df.head()"
   ]
  },
  {
   "cell_type": "code",
   "execution_count": 4,
   "id": "ce20718e",
   "metadata": {},
   "outputs": [],
   "source": [
    "X=df[['air_temp', 'process_temp', 'rot_speed', 'torque', 'tool_wear',\n",
    "       'Type_H', 'Type_L', 'Type_M']]\n",
    "y=df['failure']"
   ]
  },
  {
   "cell_type": "code",
   "execution_count": 5,
   "id": "e43713ec",
   "metadata": {},
   "outputs": [],
   "source": [
    "X_train_full, X_test, y_train_full, y_test = train_test_split(X, y,  stratify=y,test_size=0.2, random_state=42)\n",
    "\n",
    "X_train1, X_valid, y_train1, y_valid = train_test_split(X_train_full, y_train_full, stratify=y_train_full, test_size=0.25, random_state=42)"
   ]
  },
  {
   "cell_type": "code",
   "execution_count": 6,
   "id": "5cd19dc5",
   "metadata": {},
   "outputs": [],
   "source": [
    "from imblearn.over_sampling import SMOTE\n",
    "X_train, y_train = SMOTE().fit_resample(X_train1,y_train1)\n"
   ]
  },
  {
   "cell_type": "code",
   "execution_count": 7,
   "id": "8b062f5a",
   "metadata": {},
   "outputs": [],
   "source": [
    "scaler = StandardScaler().fit(X_train)\n",
    "X_train_scaled = scaler.transform(X_train)\n",
    "\n",
    "X_valid_scaled = scaler.transform(X_valid)\n",
    "X_test_scaled = scaler.transform(X_test)"
   ]
  },
  {
   "cell_type": "code",
   "execution_count": 8,
   "id": "64ad00d5",
   "metadata": {},
   "outputs": [
    {
     "data": {
      "text/html": [
       "<style>#sk-container-id-1 {color: black;background-color: white;}#sk-container-id-1 pre{padding: 0;}#sk-container-id-1 div.sk-toggleable {background-color: white;}#sk-container-id-1 label.sk-toggleable__label {cursor: pointer;display: block;width: 100%;margin-bottom: 0;padding: 0.3em;box-sizing: border-box;text-align: center;}#sk-container-id-1 label.sk-toggleable__label-arrow:before {content: \"▸\";float: left;margin-right: 0.25em;color: #696969;}#sk-container-id-1 label.sk-toggleable__label-arrow:hover:before {color: black;}#sk-container-id-1 div.sk-estimator:hover label.sk-toggleable__label-arrow:before {color: black;}#sk-container-id-1 div.sk-toggleable__content {max-height: 0;max-width: 0;overflow: hidden;text-align: left;background-color: #f0f8ff;}#sk-container-id-1 div.sk-toggleable__content pre {margin: 0.2em;color: black;border-radius: 0.25em;background-color: #f0f8ff;}#sk-container-id-1 input.sk-toggleable__control:checked~div.sk-toggleable__content {max-height: 200px;max-width: 100%;overflow: auto;}#sk-container-id-1 input.sk-toggleable__control:checked~label.sk-toggleable__label-arrow:before {content: \"▾\";}#sk-container-id-1 div.sk-estimator input.sk-toggleable__control:checked~label.sk-toggleable__label {background-color: #d4ebff;}#sk-container-id-1 div.sk-label input.sk-toggleable__control:checked~label.sk-toggleable__label {background-color: #d4ebff;}#sk-container-id-1 input.sk-hidden--visually {border: 0;clip: rect(1px 1px 1px 1px);clip: rect(1px, 1px, 1px, 1px);height: 1px;margin: -1px;overflow: hidden;padding: 0;position: absolute;width: 1px;}#sk-container-id-1 div.sk-estimator {font-family: monospace;background-color: #f0f8ff;border: 1px dotted black;border-radius: 0.25em;box-sizing: border-box;margin-bottom: 0.5em;}#sk-container-id-1 div.sk-estimator:hover {background-color: #d4ebff;}#sk-container-id-1 div.sk-parallel-item::after {content: \"\";width: 100%;border-bottom: 1px solid gray;flex-grow: 1;}#sk-container-id-1 div.sk-label:hover label.sk-toggleable__label {background-color: #d4ebff;}#sk-container-id-1 div.sk-serial::before {content: \"\";position: absolute;border-left: 1px solid gray;box-sizing: border-box;top: 0;bottom: 0;left: 50%;z-index: 0;}#sk-container-id-1 div.sk-serial {display: flex;flex-direction: column;align-items: center;background-color: white;padding-right: 0.2em;padding-left: 0.2em;position: relative;}#sk-container-id-1 div.sk-item {position: relative;z-index: 1;}#sk-container-id-1 div.sk-parallel {display: flex;align-items: stretch;justify-content: center;background-color: white;position: relative;}#sk-container-id-1 div.sk-item::before, #sk-container-id-1 div.sk-parallel-item::before {content: \"\";position: absolute;border-left: 1px solid gray;box-sizing: border-box;top: 0;bottom: 0;left: 50%;z-index: -1;}#sk-container-id-1 div.sk-parallel-item {display: flex;flex-direction: column;z-index: 1;position: relative;background-color: white;}#sk-container-id-1 div.sk-parallel-item:first-child::after {align-self: flex-end;width: 50%;}#sk-container-id-1 div.sk-parallel-item:last-child::after {align-self: flex-start;width: 50%;}#sk-container-id-1 div.sk-parallel-item:only-child::after {width: 0;}#sk-container-id-1 div.sk-dashed-wrapped {border: 1px dashed gray;margin: 0 0.4em 0.5em 0.4em;box-sizing: border-box;padding-bottom: 0.4em;background-color: white;}#sk-container-id-1 div.sk-label label {font-family: monospace;font-weight: bold;display: inline-block;line-height: 1.2em;}#sk-container-id-1 div.sk-label-container {text-align: center;}#sk-container-id-1 div.sk-container {/* jupyter's `normalize.less` sets `[hidden] { display: none; }` but bootstrap.min.css set `[hidden] { display: none !important; }` so we also need the `!important` here to be able to override the default hidden behavior on the sphinx rendered scikit-learn.org. See: https://github.com/scikit-learn/scikit-learn/issues/21755 */display: inline-block !important;position: relative;}#sk-container-id-1 div.sk-text-repr-fallback {display: none;}</style><div id=\"sk-container-id-1\" class=\"sk-top-container\"><div class=\"sk-text-repr-fallback\"><pre>RandomForestClassifier(max_depth=20, n_estimators=36, oob_score=True)</pre><b>In a Jupyter environment, please rerun this cell to show the HTML representation or trust the notebook. <br />On GitHub, the HTML representation is unable to render, please try loading this page with nbviewer.org.</b></div><div class=\"sk-container\" hidden><div class=\"sk-item\"><div class=\"sk-estimator sk-toggleable\"><input class=\"sk-toggleable__control sk-hidden--visually\" id=\"sk-estimator-id-1\" type=\"checkbox\" checked><label for=\"sk-estimator-id-1\" class=\"sk-toggleable__label sk-toggleable__label-arrow\">RandomForestClassifier</label><div class=\"sk-toggleable__content\"><pre>RandomForestClassifier(max_depth=20, n_estimators=36, oob_score=True)</pre></div></div></div></div></div>"
      ],
      "text/plain": [
       "RandomForestClassifier(max_depth=20, n_estimators=36, oob_score=True)"
      ]
     },
     "execution_count": 8,
     "metadata": {},
     "output_type": "execute_result"
    }
   ],
   "source": [
    "model = RandomForestClassifier(n_estimators = 36, \n",
    "                               max_features = \"sqrt\", \n",
    "                               max_depth = 20,\n",
    "                               oob_score = True)\n",
    "\n",
    "model.fit(X_train, y_train)"
   ]
  },
  {
   "cell_type": "code",
   "execution_count": 9,
   "id": "a7239cd5",
   "metadata": {},
   "outputs": [
    {
     "name": "stderr",
     "output_type": "stream",
     "text": [
      "C:\\Users\\Student\\anaconda3\\lib\\site-packages\\sklearn\\ensemble\\_forest.py:586: UserWarning: Some inputs do not have OOB scores. This probably means too few trees were used to compute any reliable OOB estimates.\n",
      "  warn(\n"
     ]
    },
    {
     "data": {
      "image/png": "[encoded data removed]",
      "text/plain": [
       "<Figure size 432x288 with 1 Axes>"
      ]
     },
     "metadata": {
      "needs_background": "light"
     },
     "output_type": "display_data"
    }
   ],
   "source": [
    "from mlxtend.plotting import plot_sequential_feature_selection as plot_sfs\n",
    "from mlxtend.feature_selection import SequentialFeatureSelector as SFS\n",
    "sfs = SFS(model, \n",
    "          k_features=8, \n",
    "          forward=True, \n",
    "          floating=False, \n",
    "          cv=5)\n",
    "\n",
    "sfs = sfs.fit(X_train, y_train)\n",
    "fig = plot_sfs(sfs.get_metric_dict(), kind='std_err')\n",
    "\n",
    "plt.title('Sequential Forward Selection (w. StdErr) for Random Forest Model')\n",
    "plt.grid()\n",
    "plt.show()"
   ]
  },
  {
   "cell_type": "code",
   "execution_count": 10,
   "id": "46bfc92d",
   "metadata": {},
   "outputs": [
    {
     "data": {
      "text/html": [
       "<div>\n",
       "<style scoped>\n",
       "    .dataframe tbody tr th:only-of-type {\n",
       "        vertical-align: middle;\n",
       "    }\n",
       "\n",
       "    .dataframe tbody tr th {\n",
       "        vertical-align: top;\n",
       "    }\n",
       "\n",
       "    .dataframe thead th {\n",
       "        text-align: right;\n",
       "    }\n",
       "</style>\n",
       "<table border=\"1\" class=\"dataframe\">\n",
       "  <thead>\n",
       "    <tr style=\"text-align: right;\">\n",
       "      <th></th>\n",
       "      <th>feature_idx</th>\n",
       "      <th>cv_scores</th>\n",
       "      <th>avg_score</th>\n",
       "      <th>feature_names</th>\n",
       "    </tr>\n",
       "  </thead>\n",
       "  <tbody>\n",
       "    <tr>\n",
       "      <th>1</th>\n",
       "      <td>(3,)</td>\n",
       "      <td>[0.3103448275862069]</td>\n",
       "      <td>0.310345</td>\n",
       "      <td>(torque,)</td>\n",
       "    </tr>\n",
       "    <tr>\n",
       "      <th>2</th>\n",
       "      <td>(2, 3)</td>\n",
       "      <td>[0.9359605911330049]</td>\n",
       "      <td>0.935961</td>\n",
       "      <td>(rot_speed, torque)</td>\n",
       "    </tr>\n",
       "    <tr>\n",
       "      <th>3</th>\n",
       "      <td>(0, 2, 3)</td>\n",
       "      <td>[0.9802955665024631]</td>\n",
       "      <td>0.980296</td>\n",
       "      <td>(air_temp, rot_speed, torque)</td>\n",
       "    </tr>\n",
       "    <tr>\n",
       "      <th>4</th>\n",
       "      <td>(0, 1, 3, 4)</td>\n",
       "      <td>[0.9950738916256158]</td>\n",
       "      <td>0.995074</td>\n",
       "      <td>(air_temp, process_temp, torque, tool_wear)</td>\n",
       "    </tr>\n",
       "    <tr>\n",
       "      <th>5</th>\n",
       "      <td>(0, 1, 3, 4, 6)</td>\n",
       "      <td>[1.0]</td>\n",
       "      <td>1.0</td>\n",
       "      <td>(air_temp, process_temp, torque, tool_wear, Ty...</td>\n",
       "    </tr>\n",
       "    <tr>\n",
       "      <th>6</th>\n",
       "      <td>(0, 1, 3, 4, 6, 7)</td>\n",
       "      <td>[1.0]</td>\n",
       "      <td>1.0</td>\n",
       "      <td>(air_temp, process_temp, torque, tool_wear, Ty...</td>\n",
       "    </tr>\n",
       "    <tr>\n",
       "      <th>7</th>\n",
       "      <td>(0, 1, 3, 4, 5, 6, 7)</td>\n",
       "      <td>[0.9950738916256158]</td>\n",
       "      <td>0.995074</td>\n",
       "      <td>(air_temp, process_temp, torque, tool_wear, Ty...</td>\n",
       "    </tr>\n",
       "    <tr>\n",
       "      <th>8</th>\n",
       "      <td>(0, 1, 2, 3, 4, 5, 6, 7)</td>\n",
       "      <td>[1.0]</td>\n",
       "      <td>1.0</td>\n",
       "      <td>(air_temp, process_temp, rot_speed, torque, to...</td>\n",
       "    </tr>\n",
       "  </tbody>\n",
       "</table>\n",
       "</div>"
      ],
      "text/plain": [
       "                feature_idx             cv_scores avg_score  \\\n",
       "1                      (3,)  [0.3103448275862069]  0.310345   \n",
       "2                    (2, 3)  [0.9359605911330049]  0.935961   \n",
       "3                 (0, 2, 3)  [0.9802955665024631]  0.980296   \n",
       "4              (0, 1, 3, 4)  [0.9950738916256158]  0.995074   \n",
       "5           (0, 1, 3, 4, 6)                 [1.0]       1.0   \n",
       "6        (0, 1, 3, 4, 6, 7)                 [1.0]       1.0   \n",
       "7     (0, 1, 3, 4, 5, 6, 7)  [0.9950738916256158]  0.995074   \n",
       "8  (0, 1, 2, 3, 4, 5, 6, 7)                 [1.0]       1.0   \n",
       "\n",
       "                                       feature_names  \n",
       "1                                          (torque,)  \n",
       "2                                (rot_speed, torque)  \n",
       "3                      (air_temp, rot_speed, torque)  \n",
       "4        (air_temp, process_temp, torque, tool_wear)  \n",
       "5  (air_temp, process_temp, torque, tool_wear, Ty...  \n",
       "6  (air_temp, process_temp, torque, tool_wear, Ty...  \n",
       "7  (air_temp, process_temp, torque, tool_wear, Ty...  \n",
       "8  (air_temp, process_temp, rot_speed, torque, to...  "
      ]
     },
     "execution_count": 10,
     "metadata": {},
     "output_type": "execute_result"
    }
   ],
   "source": [
    "\n",
    "from sklearn.linear_model import LinearRegression\n",
    "sffs = SFS(model,\n",
    "           k_features=8,\n",
    "           forward=True,\n",
    "           floating=True,\n",
    "           scoring='recall',\n",
    "           cv = 0)\n",
    "#Use SFS to select the top 6 features \n",
    "feature_names=X.columns\n",
    "sffs.fit(X_train1, y_train1, custom_feature_names=feature_names)\n",
    "\n",
    "#Create a dataframe for the SFS results \n",
    "df_SFFS_results = pd.DataFrame(sffs.subsets_).transpose()\n",
    "df_SFFS_results"
   ]
  },
  {
   "cell_type": "code",
   "execution_count": 11,
   "id": "33e2105d",
   "metadata": {},
   "outputs": [
    {
     "data": {
      "text/plain": [
       "['air_temp',\n",
       " 'process_temp',\n",
       " 'rot_speed',\n",
       " 'torque',\n",
       " 'tool_wear',\n",
       " 'Type_H',\n",
       " 'Type_L',\n",
       " 'Type_M']"
      ]
     },
     "execution_count": 11,
     "metadata": {},
     "output_type": "execute_result"
    }
   ],
   "source": [
    "features_selected=df_SFFS_results['feature_names'][8]\n",
    "t=list(features_selected)\n",
    "t"
   ]
  },
  {
   "cell_type": "code",
   "execution_count": 12,
   "id": "4b968227",
   "metadata": {},
   "outputs": [
    {
     "name": "stdout",
     "output_type": "stream",
     "text": [
      "Random Forest Classification Report on validation data using bidirectional elemination(wrapper method)\n",
      "[[1876   56]\n",
      " [  23   45]]\n",
      "              precision    recall  f1-score   support\n",
      "\n",
      "           0       0.99      0.97      0.98      1932\n",
      "           1       0.45      0.66      0.53        68\n",
      "\n",
      "    accuracy                           0.96      2000\n",
      "   macro avg       0.72      0.82      0.76      2000\n",
      "weighted avg       0.97      0.96      0.96      2000\n",
      " \n",
      "\n"
     ]
    }
   ],
   "source": [
    "from sklearn.metrics import confusion_matrix, accuracy_score, classification_report\n",
    "model.fit(X_train[t], y_train)\n",
    "forest_y_pred = model.predict(X_valid[t])\n",
    "print(f\"Random Forest Classification Report on validation data using bidirectional elemination(wrapper method)\")\n",
    "cm=confusion_matrix(y_valid, forest_y_pred)\n",
    "print(cm)\n",
    "print(classification_report(y_valid, forest_y_pred), \"\\n\")"
   ]
  },
  {
   "cell_type": "code",
   "execution_count": 13,
   "id": "3e663e17",
   "metadata": {},
   "outputs": [],
   "source": [
    "## wrapper method on svc"
   ]
  },
  {
   "cell_type": "code",
   "execution_count": 14,
   "id": "5dc46512",
   "metadata": {},
   "outputs": [],
   "source": [
    "from sklearn.svm import SVC\n",
    "model1=SVC(kernel='poly', gamma= 0.1, degree= 2, C= 5.0)\n"
   ]
  },
  {
   "cell_type": "code",
   "execution_count": 15,
   "id": "f8bfe227",
   "metadata": {},
   "outputs": [
    {
     "data": {
      "image/png": "[encoded data removed]",
      "text/plain": [
       "<Figure size 432x288 with 1 Axes>"
      ]
     },
     "metadata": {
      "needs_background": "light"
     },
     "output_type": "display_data"
    }
   ],
   "source": [
    "from mlxtend.plotting import plot_sequential_feature_selection as plot_sfs\n",
    "from mlxtend.feature_selection import SequentialFeatureSelector as SFS\n",
    "sfs = SFS(model1, \n",
    "          k_features=8, \n",
    "          forward=True, \n",
    "          floating=False, \n",
    "          cv=5)\n",
    "\n",
    "sfs = sfs.fit(X_train_scaled, y_train)\n",
    "fig = plot_sfs(sfs.get_metric_dict(), kind='std_err')\n",
    "\n",
    "plt.title('Sequential Forward Selection (w. StdErr) for SVM')\n",
    "plt.grid()\n",
    "plt.show()"
   ]
  },
  {
   "cell_type": "code",
   "execution_count": 16,
   "id": "fa27de02",
   "metadata": {},
   "outputs": [
    {
     "data": {
      "text/html": [
       "<div>\n",
       "<style scoped>\n",
       "    .dataframe tbody tr th:only-of-type {\n",
       "        vertical-align: middle;\n",
       "    }\n",
       "\n",
       "    .dataframe tbody tr th {\n",
       "        vertical-align: top;\n",
       "    }\n",
       "\n",
       "    .dataframe thead th {\n",
       "        text-align: right;\n",
       "    }\n",
       "</style>\n",
       "<table border=\"1\" class=\"dataframe\">\n",
       "  <thead>\n",
       "    <tr style=\"text-align: right;\">\n",
       "      <th></th>\n",
       "      <th>feature_idx</th>\n",
       "      <th>cv_scores</th>\n",
       "      <th>avg_score</th>\n",
       "      <th>feature_names</th>\n",
       "    </tr>\n",
       "  </thead>\n",
       "  <tbody>\n",
       "    <tr>\n",
       "      <th>1</th>\n",
       "      <td>(5,)</td>\n",
       "      <td>[0.9932723822666897]</td>\n",
       "      <td>0.993272</td>\n",
       "      <td>(Type_H,)</td>\n",
       "    </tr>\n",
       "    <tr>\n",
       "      <th>2</th>\n",
       "      <td>(4, 7)</td>\n",
       "      <td>[0.9190960841814731]</td>\n",
       "      <td>0.919096</td>\n",
       "      <td>(tool_wear, Type_M)</td>\n",
       "    </tr>\n",
       "    <tr>\n",
       "      <th>3</th>\n",
       "      <td>(4, 5, 7)</td>\n",
       "      <td>[0.9123684664481628]</td>\n",
       "      <td>0.912368</td>\n",
       "      <td>(tool_wear, Type_H, Type_M)</td>\n",
       "    </tr>\n",
       "    <tr>\n",
       "      <th>4</th>\n",
       "      <td>(2, 4, 5, 7)</td>\n",
       "      <td>[0.9220286355011212]</td>\n",
       "      <td>0.922029</td>\n",
       "      <td>(rot_speed, tool_wear, Type_H, Type_M)</td>\n",
       "    </tr>\n",
       "    <tr>\n",
       "      <th>5</th>\n",
       "      <td>(2, 4, 5, 6, 7)</td>\n",
       "      <td>[0.8982232189063308]</td>\n",
       "      <td>0.898223</td>\n",
       "      <td>(rot_speed, tool_wear, Type_H, Type_L, Type_M)</td>\n",
       "    </tr>\n",
       "    <tr>\n",
       "      <th>6</th>\n",
       "      <td>(0, 2, 3, 4, 5, 6)</td>\n",
       "      <td>[0.9499741245471796]</td>\n",
       "      <td>0.949974</td>\n",
       "      <td>(air_temp, rot_speed, torque, tool_wear, Type_...</td>\n",
       "    </tr>\n",
       "    <tr>\n",
       "      <th>7</th>\n",
       "      <td>(0, 1, 2, 3, 4, 5, 6)</td>\n",
       "      <td>[0.941521476625841]</td>\n",
       "      <td>0.941521</td>\n",
       "      <td>(air_temp, process_temp, rot_speed, torque, to...</td>\n",
       "    </tr>\n",
       "    <tr>\n",
       "      <th>8</th>\n",
       "      <td>(0, 1, 2, 3, 4, 5, 6, 7)</td>\n",
       "      <td>[0.9503191305847852]</td>\n",
       "      <td>0.950319</td>\n",
       "      <td>(air_temp, process_temp, rot_speed, torque, to...</td>\n",
       "    </tr>\n",
       "  </tbody>\n",
       "</table>\n",
       "</div>"
      ],
      "text/plain": [
       "                feature_idx             cv_scores avg_score  \\\n",
       "1                      (5,)  [0.9932723822666897]  0.993272   \n",
       "2                    (4, 7)  [0.9190960841814731]  0.919096   \n",
       "3                 (4, 5, 7)  [0.9123684664481628]  0.912368   \n",
       "4              (2, 4, 5, 7)  [0.9220286355011212]  0.922029   \n",
       "5           (2, 4, 5, 6, 7)  [0.8982232189063308]  0.898223   \n",
       "6        (0, 2, 3, 4, 5, 6)  [0.9499741245471796]  0.949974   \n",
       "7     (0, 1, 2, 3, 4, 5, 6)   [0.941521476625841]  0.941521   \n",
       "8  (0, 1, 2, 3, 4, 5, 6, 7)  [0.9503191305847852]  0.950319   \n",
       "\n",
       "                                       feature_names  \n",
       "1                                          (Type_H,)  \n",
       "2                                (tool_wear, Type_M)  \n",
       "3                        (tool_wear, Type_H, Type_M)  \n",
       "4             (rot_speed, tool_wear, Type_H, Type_M)  \n",
       "5     (rot_speed, tool_wear, Type_H, Type_L, Type_M)  \n",
       "6  (air_temp, rot_speed, torque, tool_wear, Type_...  \n",
       "7  (air_temp, process_temp, rot_speed, torque, to...  \n",
       "8  (air_temp, process_temp, rot_speed, torque, to...  "
      ]
     },
     "execution_count": 16,
     "metadata": {},
     "output_type": "execute_result"
    }
   ],
   "source": [
    "\n",
    "from sklearn.linear_model import LinearRegression\n",
    "sffs = SFS(model1,\n",
    "           k_features=8,\n",
    "           forward=True,\n",
    "           floating=True,\n",
    "           scoring='recall',\n",
    "           cv = 0)\n",
    "#Use SFS to select the top 6 features \n",
    "feature_names=X.columns\n",
    "sffs.fit(X_train_scaled, y_train, custom_feature_names=feature_names)\n",
    "\n",
    "#Create a dataframe for the SFS results \n",
    "df_SFFS_results = pd.DataFrame(sffs.subsets_).transpose()\n",
    "df_SFFS_results"
   ]
  },
  {
   "cell_type": "code",
   "execution_count": 17,
   "id": "157a4438",
   "metadata": {},
   "outputs": [],
   "source": [
    "features_selected_svm=df_SFFS_results['feature_names'][8]\n",
    "f=list(features_selected_svm)"
   ]
  },
  {
   "cell_type": "code",
   "execution_count": 18,
   "id": "7fb382c3",
   "metadata": {},
   "outputs": [],
   "source": [
    "X_train3=X_train[f]\n",
    "X_valid3=X_valid[f]\n",
    "X_test3=X_test[f]\n",
    "scaler = StandardScaler().fit(X_train3)\n",
    "X_train_scaled2 = scaler.transform(X_train3)\n",
    "\n",
    "X_valid_scaled2= scaler.transform(X_valid3)\n",
    "X_test_scaled2 = scaler.transform(X_test3)"
   ]
  },
  {
   "cell_type": "code",
   "execution_count": 19,
   "id": "5f2f53c2",
   "metadata": {},
   "outputs": [
    {
     "name": "stdout",
     "output_type": "stream",
     "text": [
      "Support Vector Classification Report on validation data using bidirectional elemination(wrapper method)\n",
      "[[1802  130]\n",
      " [  11   57]]\n",
      "              precision    recall  f1-score   support\n",
      "\n",
      "           0       0.99      0.93      0.96      1932\n",
      "           1       0.30      0.84      0.45        68\n",
      "\n",
      "    accuracy                           0.93      2000\n",
      "   macro avg       0.65      0.89      0.70      2000\n",
      "weighted avg       0.97      0.93      0.94      2000\n",
      " \n",
      "\n"
     ]
    }
   ],
   "source": [
    "from sklearn.metrics import confusion_matrix, accuracy_score, classification_report\n",
    "model1.fit(X_train_scaled2, y_train)\n",
    "forest_y_pred = model1.predict(X_valid_scaled2)\n",
    "print(f\"Support Vector Classification Report on validation data using bidirectional elemination(wrapper method)\")\n",
    "cm=confusion_matrix(y_valid, forest_y_pred)\n",
    "print(cm)\n",
    "print(classification_report(y_valid, forest_y_pred), \"\\n\")"
   ]
  },
  {
   "cell_type": "code",
   "execution_count": null,
   "id": "e16aefd9",
   "metadata": {},
   "outputs": [],
   "source": []
  },
  {
   "cell_type": "code",
   "execution_count": null,
   "id": "affd59a6",
   "metadata": {},
   "outputs": [],
   "source": [
    " "
   ]
  }
 ],
 "metadata": {
  "kernelspec": {
   "display_name": "Python 3 (ipykernel)",
   "language": "python",
   "name": "python3"
  },
  "language_info": {
   "codemirror_mode": {
    "name": "ipython",
    "version": 3
   },
   "file_extension": ".py",
   "mimetype": "text/x-python",
   "name": "python",
   "nbconvert_exporter": "python",
   "pygments_lexer": "ipython3",
   "version": "3.9.12"
  }
 },
 "nbformat": 4,
 "nbformat_minor": 5
}
