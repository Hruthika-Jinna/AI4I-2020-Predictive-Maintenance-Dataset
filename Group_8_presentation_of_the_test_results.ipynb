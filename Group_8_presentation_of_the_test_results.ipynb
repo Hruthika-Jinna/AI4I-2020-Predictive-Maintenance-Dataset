{
 "cells": [
  {
   "cell_type": "code",
   "execution_count": 1,
   "id": "987756a7",
   "metadata": {},
   "outputs": [],
   "source": [
    "import pandas as pd\n",
    "import numpy as np\n",
    "import pymysql\n",
    "from numpy import * \n",
    "import matplotlib.pyplot as plt\n",
    "import seaborn as sns\n",
    "from sklearn.linear_model import LogisticRegression\n",
    "from sklearn.neighbors import KNeighborsClassifier\n",
    "from sklearn.tree import DecisionTreeClassifier\n",
    "from sklearn.ensemble import RandomForestClassifier\n",
    "from sklearn.linear_model import SGDClassifier\n",
    "from sklearn.svm import SVC\n",
    "from sklearn.metrics import recall_score,precision_score,f1_score"
   ]
  },
  {
   "cell_type": "code",
   "execution_count": 2,
   "id": "828c9aa0",
   "metadata": {},
   "outputs": [
    {
     "data": {
      "text/html": [
       "<div>\n",
       "<style scoped>\n",
       "    .dataframe tbody tr th:only-of-type {\n",
       "        vertical-align: middle;\n",
       "    }\n",
       "\n",
       "    .dataframe tbody tr th {\n",
       "        vertical-align: top;\n",
       "    }\n",
       "\n",
       "    .dataframe thead th {\n",
       "        text-align: right;\n",
       "    }\n",
       "</style>\n",
       "<table border=\"1\" class=\"dataframe\">\n",
       "  <thead>\n",
       "    <tr style=\"text-align: right;\">\n",
       "      <th></th>\n",
       "      <th>Unnamed: 0</th>\n",
       "      <th>air_temp</th>\n",
       "      <th>process_temp</th>\n",
       "      <th>rot_speed</th>\n",
       "      <th>torque</th>\n",
       "      <th>tool_wear</th>\n",
       "      <th>Type_H</th>\n",
       "      <th>Type_L</th>\n",
       "      <th>Type_M</th>\n",
       "      <th>failure</th>\n",
       "    </tr>\n",
       "  </thead>\n",
       "  <tbody>\n",
       "    <tr>\n",
       "      <th>0</th>\n",
       "      <td>0</td>\n",
       "      <td>298.1</td>\n",
       "      <td>308.6</td>\n",
       "      <td>1551</td>\n",
       "      <td>42.8</td>\n",
       "      <td>0</td>\n",
       "      <td>0</td>\n",
       "      <td>0</td>\n",
       "      <td>1</td>\n",
       "      <td>0</td>\n",
       "    </tr>\n",
       "    <tr>\n",
       "      <th>1</th>\n",
       "      <td>1</td>\n",
       "      <td>298.2</td>\n",
       "      <td>308.7</td>\n",
       "      <td>1408</td>\n",
       "      <td>46.3</td>\n",
       "      <td>3</td>\n",
       "      <td>0</td>\n",
       "      <td>1</td>\n",
       "      <td>0</td>\n",
       "      <td>0</td>\n",
       "    </tr>\n",
       "    <tr>\n",
       "      <th>2</th>\n",
       "      <td>2</td>\n",
       "      <td>298.1</td>\n",
       "      <td>308.5</td>\n",
       "      <td>1498</td>\n",
       "      <td>49.4</td>\n",
       "      <td>5</td>\n",
       "      <td>0</td>\n",
       "      <td>1</td>\n",
       "      <td>0</td>\n",
       "      <td>0</td>\n",
       "    </tr>\n",
       "    <tr>\n",
       "      <th>3</th>\n",
       "      <td>3</td>\n",
       "      <td>298.2</td>\n",
       "      <td>308.6</td>\n",
       "      <td>1433</td>\n",
       "      <td>39.5</td>\n",
       "      <td>7</td>\n",
       "      <td>0</td>\n",
       "      <td>1</td>\n",
       "      <td>0</td>\n",
       "      <td>0</td>\n",
       "    </tr>\n",
       "    <tr>\n",
       "      <th>4</th>\n",
       "      <td>4</td>\n",
       "      <td>298.2</td>\n",
       "      <td>308.7</td>\n",
       "      <td>1408</td>\n",
       "      <td>40.0</td>\n",
       "      <td>9</td>\n",
       "      <td>0</td>\n",
       "      <td>1</td>\n",
       "      <td>0</td>\n",
       "      <td>0</td>\n",
       "    </tr>\n",
       "  </tbody>\n",
       "</table>\n",
       "</div>"
      ],
      "text/plain": [
       "   Unnamed: 0  air_temp  process_temp  rot_speed  torque  tool_wear  Type_H  \\\n",
       "0           0     298.1         308.6       1551    42.8          0       0   \n",
       "1           1     298.2         308.7       1408    46.3          3       0   \n",
       "2           2     298.1         308.5       1498    49.4          5       0   \n",
       "3           3     298.2         308.6       1433    39.5          7       0   \n",
       "4           4     298.2         308.7       1408    40.0          9       0   \n",
       "\n",
       "   Type_L  Type_M  failure  \n",
       "0       0       1        0  \n",
       "1       1       0        0  \n",
       "2       1       0        0  \n",
       "3       1       0        0  \n",
       "4       1       0        0  "
      ]
     },
     "execution_count": 2,
     "metadata": {},
     "output_type": "execute_result"
    }
   ],
   "source": [
    "df=pd.read_csv('Group_8_data_cleaned.csv')#reading csv file using pandas\n",
    "df.head()"
   ]
  },
  {
   "cell_type": "code",
   "execution_count": 3,
   "id": "45b9d2a2",
   "metadata": {},
   "outputs": [],
   "source": [
    "from sklearn.metrics import confusion_matrix, accuracy_score, classification_report\n",
    "\n",
    "X = df[[ \"air_temp\",\"process_temp\",\"rot_speed\",\"torque\",\"tool_wear\",\"Type_H\",\"Type_L\",\"Type_M\"]]\n",
    "y = df[\"failure\"]"
   ]
  },
  {
   "cell_type": "code",
   "execution_count": 4,
   "id": "ab04299a",
   "metadata": {},
   "outputs": [],
   "source": [
    "from sklearn.model_selection import train_test_split #splitting the data into training ,validation and test data\n",
    "X_train_full, X_test, y_train_full, y_test = train_test_split(X, y, test_size=0.2, stratify=y, random_state=42)#splitting data into training and testing \n",
    "\n",
    "X_train1, X_valid, y_train1, y_valid = train_test_split(X_train_full, y_train_full, stratify=y_train_full, test_size=0.25, random_state=42)#splitting training data into traiing and validation data"
   ]
  },
  {
   "cell_type": "code",
   "execution_count": 5,
   "id": "3c9f6929",
   "metadata": {},
   "outputs": [
    {
     "data": {
      "text/plain": [
       "<AxesSubplot:title={'center':'Class distribution before appying SMOTE'}, xlabel='failure'>"
      ]
     },
     "execution_count": 5,
     "metadata": {},
     "output_type": "execute_result"
    },
    {
     "data": {
      "image/png": "[encoded data removed]",
      "text/plain": [
       "<Figure size 432x288 with 1 Axes>"
      ]
     },
     "metadata": {
      "needs_background": "light"
     },
     "output_type": "display_data"
    }
   ],
   "source": [
    "pd.Series(y_train1).value_counts().plot(kind='bar', title='Class distribution before appying SMOTE', xlabel='failure')"
   ]
  },
  {
   "cell_type": "code",
   "execution_count": 6,
   "id": "eb33e3c8",
   "metadata": {},
   "outputs": [],
   "source": [
    "from imblearn.over_sampling import SMOTE, SMOTENC\n",
    "#X_resampled, y_resampled = SMOTE().fit_resample(X_train,y_train)\n",
    "cat_indx =[0,1]\n",
    "sm = SMOTENC(categorical_features=cat_indx, random_state=42)\n",
    "X_train, y_train= sm.fit_resample(X_train1, y_train1)"
   ]
  },
  {
   "cell_type": "code",
   "execution_count": 7,
   "id": "871a16b3",
   "metadata": {},
   "outputs": [
    {
     "data": {
      "text/plain": [
       "<AxesSubplot:title={'center':'Class distribution after appying SMOTE'}, xlabel='failure'>"
      ]
     },
     "execution_count": 7,
     "metadata": {},
     "output_type": "execute_result"
    },
    {
     "data": {
      "image/png": "[encoded data removed]",
      "text/plain": [
       "<Figure size 432x288 with 1 Axes>"
      ]
     },
     "metadata": {
      "needs_background": "light"
     },
     "output_type": "display_data"
    }
   ],
   "source": [
    "pd.Series(y_train).value_counts().plot(kind='bar', title='Class distribution after appying SMOTE', xlabel='failure')\n"
   ]
  },
  {
   "cell_type": "code",
   "execution_count": 8,
   "id": "f4c893db",
   "metadata": {},
   "outputs": [],
   "source": [
    "from sklearn.preprocessing import StandardScaler, LabelEncoder\n",
    "scaler = StandardScaler().fit(X_train)\n",
    "X_train_scaled2 = scaler.transform(X_train)\n",
    "\n",
    "X_valid_scaled2= scaler.transform(X_valid)\n",
    "X_test_scaled2 = scaler.transform(X_test)"
   ]
  },
  {
   "cell_type": "code",
   "execution_count": 9,
   "id": "b7f6487e",
   "metadata": {},
   "outputs": [],
   "source": [
    "classifiers = {'LogReg' : LogisticRegression(penalty= 'l2', class_weight= 'balanced'),\n",
    "               'K-NN' : KNeighborsClassifier(weights= 'distance', p= 2, n_neighbors= 1),\n",
    "               'DTree' : DecisionTreeClassifier(max_depth= 19, max_features= 'auto',min_samples_leaf= 2, min_samples_split= 2),\n",
    "               'RF' : RandomForestClassifier(n_estimators= 46, min_samples_split= 2, min_samples_leaf= 2, max_features='sqrt',\n",
    "                                             max_depth= 18),\n",
    "               'SVM-Linear':SVC(kernel= 'linear', C= 0.01),\n",
    "               'SVM-Non-Linear':SVC(kernel= 'poly', gamma= 0.1, degree= 2, C= 5.0)\n",
    "              }"
   ]
  },
  {
   "cell_type": "code",
   "execution_count": 10,
   "id": "2d548251",
   "metadata": {},
   "outputs": [
    {
     "name": "stdout",
     "output_type": "stream",
     "text": [
      "LogReg\n",
      " accuracy: 0.866\n",
      "precision score: [0.98654971 0.15517241]\n",
      "recall score: [0.87318841 0.66176471]\n",
      "f1-score [0.92641406 0.25139665]\n"
     ]
    },
    {
     "name": "stderr",
     "output_type": "stream",
     "text": [
      "C:\\Users\\Student\\anaconda3\\lib\\site-packages\\sklearn\\linear_model\\_logistic.py:444: ConvergenceWarning: lbfgs failed to converge (status=1):\n",
      "STOP: TOTAL NO. of ITERATIONS REACHED LIMIT.\n",
      "\n",
      "Increase the number of iterations (max_iter) or scale the data as shown in:\n",
      "    https://scikit-learn.org/stable/modules/preprocessing.html\n",
      "Please also refer to the documentation for alternative solver options:\n",
      "    https://scikit-learn.org/stable/modules/linear_model.html#logistic-regression\n",
      "  n_iter_i = _check_optimize_result(\n"
     ]
    },
    {
     "data": {
      "image/png": "[encoded data removed]",
      "text/plain": [
       "<Figure size 432x288 with 2 Axes>"
      ]
     },
     "metadata": {
      "needs_background": "light"
     },
     "output_type": "display_data"
    },
    {
     "name": "stdout",
     "output_type": "stream",
     "text": [
      "K-NN\n",
      " accuracy: 0.9095\n",
      "precision score: [0.98557959 0.21319797]\n",
      "recall score: [0.91977226 0.61764706]\n",
      "f1-score [0.95153949 0.31698113]\n"
     ]
    },
    {
     "data": {
      "image/png": "[encoded data removed]",
      "text/plain": [
       "<Figure size 432x288 with 2 Axes>"
      ]
     },
     "metadata": {
      "needs_background": "light"
     },
     "output_type": "display_data"
    },
    {
     "name": "stdout",
     "output_type": "stream",
     "text": [
      "DTree\n",
      " accuracy: 0.9305\n",
      "precision score: [0.98590786 0.27096774]\n",
      "recall score: [0.94151139 0.61764706]\n",
      "f1-score [0.96319831 0.37668161]\n"
     ]
    },
    {
     "name": "stderr",
     "output_type": "stream",
     "text": [
      "C:\\Users\\Student\\anaconda3\\lib\\site-packages\\sklearn\\tree\\_classes.py:298: FutureWarning: `max_features='auto'` has been deprecated in 1.1 and will be removed in 1.3. To keep the past behaviour, explicitly set `max_features='sqrt'`.\n",
      "  warnings.warn(\n"
     ]
    },
    {
     "data": {
      "image/png": "[encoded data removed]",
      "text/plain": [
       "<Figure size 432x288 with 2 Axes>"
      ]
     },
     "metadata": {
      "needs_background": "light"
     },
     "output_type": "display_data"
    },
    {
     "name": "stdout",
     "output_type": "stream",
     "text": [
      "RF\n",
      " accuracy: 0.96\n",
      "precision score: [0.99255319 0.45      ]\n",
      "recall score: [0.96583851 0.79411765]\n",
      "f1-score [0.97901364 0.57446809]\n"
     ]
    },
    {
     "data": {
      "image/png": "[encoded data removed]",
      "text/plain": [
       "<Figure size 432x288 with 2 Axes>"
      ]
     },
     "metadata": {
      "needs_background": "light"
     },
     "output_type": "display_data"
    },
    {
     "name": "stdout",
     "output_type": "stream",
     "text": [
      "SVM-Linear\n",
      " accuracy: 0.8875\n",
      "precision score: [0.9857712  0.17695473]\n",
      "recall score: [0.89648033 0.63235294]\n",
      "f1-score [0.93900786 0.27652733]\n"
     ]
    },
    {
     "data": {
      "image/png": "[encoded data removed]",
      "text/plain": [
       "<Figure size 432x288 with 2 Axes>"
      ]
     },
     "metadata": {
      "needs_background": "light"
     },
     "output_type": "display_data"
    },
    {
     "name": "stdout",
     "output_type": "stream",
     "text": [
      "SVM-Non-Linear\n",
      " accuracy: 0.9425\n",
      "precision score: [0.99134667 0.34437086]\n",
      "recall score: [0.94875776 0.76470588]\n",
      "f1-score [0.96958477 0.47488584]\n"
     ]
    },
    {
     "data": {
      "image/png": "[encoded data removed]",
      "text/plain": [
       "<Figure size 432x288 with 2 Axes>"
      ]
     },
     "metadata": {
      "needs_background": "light"
     },
     "output_type": "display_data"
    }
   ],
   "source": [
    "auc=[]\n",
    "auc1=[]\n",
    "rec=[]\n",
    "rec1=[]\n",
    "la=[]\n",
    "names=[]\n",
    "for name, model in classifiers.items():\n",
    "    if(name=='SVM-Linear' or name=='SVM-Non-Linear'):\n",
    "            model.fit(X_train_scaled2, y_train)\n",
    "            true_labels=y_valid\n",
    "            pred_labels= model.predict(X_valid_scaled2)\n",
    "    else:\n",
    "        model.fit(X_train, y_train)\n",
    "        true_labels=y_valid\n",
    "        pred_labels= model.predict(X_valid)\n",
    "        \n",
    "\n",
    "    names.append(name)\n",
    "    la.append(name)\n",
    "    rec.append(recall_score(true_labels, pred_labels,average=None)[0])\n",
    "    rec1.append(recall_score(true_labels, pred_labels,average=None)[1])\n",
    "    print(name)\n",
    "    print( ' accuracy:', accuracy_score(true_labels, pred_labels))\n",
    "    print('precision score:', precision_score(true_labels, pred_labels,average=None))\n",
    "    print('recall score:', recall_score(true_labels, pred_labels,average=None))\n",
    "    print('f1-score', f1_score(true_labels, pred_labels,average=None))\n",
    "    cm = confusion_matrix(true_labels, pred_labels)\n",
    "    #plt.figure(figsize=(3,3))\n",
    "    ax = sns.heatmap(cm, annot=True, fmt='g')\n",
    "    # labels, title and ticks\n",
    "    ax.set_xlabel('Predicted labels');ax.set_ylabel('True labels'); \n",
    "    ax.set_title('Confusion Matrix'); \n",
    "    ax.xaxis.set_ticklabels(['Not_failure','machine_fail']); \n",
    "    ax.yaxis.set_ticklabels(['Not_failure','machine_fail']);\n",
    "    plt.show()\n",
    "    #plt.close()\n",
    "    #plot_label = \"{} {:.3f}\".format(name,auc)\n",
    "    #plt.plot(auc,auc1, label=plot_label,kind='bar')\n",
    "\n",
    "# CrosstabResult=pd.crosstab(index=auc,auc1,columns=df['Product'])\n",
    "# print(CrosstabResult)\n",
    " \n",
    "# # Grouped bar chart between GENDER and Product\n",
    "# p1=CrosstabResult.plot.bar(figsize=(7,4), rot=0)\n",
    "#     FPR, TPR, threshold = roc_curve(y_valid, y_valid_prob[:,1], pos_label=1)\n",
    "#     auc = roc_auc_score(y_valid, y_valid_prob[:,1])\n",
    "#     plot_label = \"{} {:.3f}\".format(name, auc)\n",
    "#     plt.plot(FPR, TPR, label=plot_label)"
   ]
  },
  {
   "cell_type": "code",
   "execution_count": 11,
   "id": "441b0297",
   "metadata": {},
   "outputs": [
    {
     "data": {
      "image/png": "[encoded data removed]",
      "text/plain": [
       "<Figure size 576x360 with 1 Axes>"
      ]
     },
     "metadata": {
      "needs_background": "light"
     },
     "output_type": "display_data"
    }
   ],
   "source": [
    "# #plt.bar(name,rec)\n",
    "plt.figure(figsize=(8,5))\n",
    "# plt.bar(names, rec, color ='maroon',\n",
    "#         width = 0.2)\n",
    "# plt.title('recall for failure class'); \n",
    "# plt.xlabel('classes'); \n",
    "# plt.ylabel('recall score TNR');\n",
    "import matplotlib.pyplot as plt \n",
    "X_axis = np.arange(len(names))\n",
    "  \n",
    "plt.bar(X_axis - 0.2, rec, 0.4, label = ' 0 class')\n",
    "plt.bar(X_axis + 0.2, rec1, 0.4, label = '1 class')\n",
    "  \n",
    "plt.xticks(X_axis, names)\n",
    "plt.title('Recall Score Comparsion'); \n",
    "plt.xlabel('model'); \n",
    "plt.ylabel('recall ');\n",
    "plt.legend()\n",
    "plt.show()"
   ]
  },
  {
   "cell_type": "code",
   "execution_count": null,
   "id": "e0f5d558",
   "metadata": {},
   "outputs": [],
   "source": []
  },
  {
   "cell_type": "code",
   "execution_count": 12,
   "id": "0183223a",
   "metadata": {},
   "outputs": [
    {
     "data": {
      "text/html": [
       "<style>#sk-container-id-1 {color: black;background-color: white;}#sk-container-id-1 pre{padding: 0;}#sk-container-id-1 div.sk-toggleable {background-color: white;}#sk-container-id-1 label.sk-toggleable__label {cursor: pointer;display: block;width: 100%;margin-bottom: 0;padding: 0.3em;box-sizing: border-box;text-align: center;}#sk-container-id-1 label.sk-toggleable__label-arrow:before {content: \"▸\";float: left;margin-right: 0.25em;color: #696969;}#sk-container-id-1 label.sk-toggleable__label-arrow:hover:before {color: black;}#sk-container-id-1 div.sk-estimator:hover label.sk-toggleable__label-arrow:before {color: black;}#sk-container-id-1 div.sk-toggleable__content {max-height: 0;max-width: 0;overflow: hidden;text-align: left;background-color: #f0f8ff;}#sk-container-id-1 div.sk-toggleable__content pre {margin: 0.2em;color: black;border-radius: 0.25em;background-color: #f0f8ff;}#sk-container-id-1 input.sk-toggleable__control:checked~div.sk-toggleable__content {max-height: 200px;max-width: 100%;overflow: auto;}#sk-container-id-1 input.sk-toggleable__control:checked~label.sk-toggleable__label-arrow:before {content: \"▾\";}#sk-container-id-1 div.sk-estimator input.sk-toggleable__control:checked~label.sk-toggleable__label {background-color: #d4ebff;}#sk-container-id-1 div.sk-label input.sk-toggleable__control:checked~label.sk-toggleable__label {background-color: #d4ebff;}#sk-container-id-1 input.sk-hidden--visually {border: 0;clip: rect(1px 1px 1px 1px);clip: rect(1px, 1px, 1px, 1px);height: 1px;margin: -1px;overflow: hidden;padding: 0;position: absolute;width: 1px;}#sk-container-id-1 div.sk-estimator {font-family: monospace;background-color: #f0f8ff;border: 1px dotted black;border-radius: 0.25em;box-sizing: border-box;margin-bottom: 0.5em;}#sk-container-id-1 div.sk-estimator:hover {background-color: #d4ebff;}#sk-container-id-1 div.sk-parallel-item::after {content: \"\";width: 100%;border-bottom: 1px solid gray;flex-grow: 1;}#sk-container-id-1 div.sk-label:hover label.sk-toggleable__label {background-color: #d4ebff;}#sk-container-id-1 div.sk-serial::before {content: \"\";position: absolute;border-left: 1px solid gray;box-sizing: border-box;top: 0;bottom: 0;left: 50%;z-index: 0;}#sk-container-id-1 div.sk-serial {display: flex;flex-direction: column;align-items: center;background-color: white;padding-right: 0.2em;padding-left: 0.2em;position: relative;}#sk-container-id-1 div.sk-item {position: relative;z-index: 1;}#sk-container-id-1 div.sk-parallel {display: flex;align-items: stretch;justify-content: center;background-color: white;position: relative;}#sk-container-id-1 div.sk-item::before, #sk-container-id-1 div.sk-parallel-item::before {content: \"\";position: absolute;border-left: 1px solid gray;box-sizing: border-box;top: 0;bottom: 0;left: 50%;z-index: -1;}#sk-container-id-1 div.sk-parallel-item {display: flex;flex-direction: column;z-index: 1;position: relative;background-color: white;}#sk-container-id-1 div.sk-parallel-item:first-child::after {align-self: flex-end;width: 50%;}#sk-container-id-1 div.sk-parallel-item:last-child::after {align-self: flex-start;width: 50%;}#sk-container-id-1 div.sk-parallel-item:only-child::after {width: 0;}#sk-container-id-1 div.sk-dashed-wrapped {border: 1px dashed gray;margin: 0 0.4em 0.5em 0.4em;box-sizing: border-box;padding-bottom: 0.4em;background-color: white;}#sk-container-id-1 div.sk-label label {font-family: monospace;font-weight: bold;display: inline-block;line-height: 1.2em;}#sk-container-id-1 div.sk-label-container {text-align: center;}#sk-container-id-1 div.sk-container {/* jupyter's `normalize.less` sets `[hidden] { display: none; }` but bootstrap.min.css set `[hidden] { display: none !important; }` so we also need the `!important` here to be able to override the default hidden behavior on the sphinx rendered scikit-learn.org. See: https://github.com/scikit-learn/scikit-learn/issues/21755 */display: inline-block !important;position: relative;}#sk-container-id-1 div.sk-text-repr-fallback {display: none;}</style><div id=\"sk-container-id-1\" class=\"sk-top-container\"><div class=\"sk-text-repr-fallback\"><pre>SVC(C=5.0, degree=2, gamma=0.1, kernel=&#x27;poly&#x27;)</pre><b>In a Jupyter environment, please rerun this cell to show the HTML representation or trust the notebook. <br />On GitHub, the HTML representation is unable to render, please try loading this page with nbviewer.org.</b></div><div class=\"sk-container\" hidden><div class=\"sk-item\"><div class=\"sk-estimator sk-toggleable\"><input class=\"sk-toggleable__control sk-hidden--visually\" id=\"sk-estimator-id-1\" type=\"checkbox\" checked><label for=\"sk-estimator-id-1\" class=\"sk-toggleable__label sk-toggleable__label-arrow\">SVC</label><div class=\"sk-toggleable__content\"><pre>SVC(C=5.0, degree=2, gamma=0.1, kernel=&#x27;poly&#x27;)</pre></div></div></div></div></div>"
      ],
      "text/plain": [
       "SVC(C=5.0, degree=2, gamma=0.1, kernel='poly')"
      ]
     },
     "execution_count": 12,
     "metadata": {},
     "output_type": "execute_result"
    }
   ],
   "source": [
    "model =  SVC(kernel= 'poly', gamma= 0.1, degree= 2, C= 5.0)\n",
    "model.fit(X_train_scaled2, y_train)"
   ]
  },
  {
   "cell_type": "code",
   "execution_count": 13,
   "id": "310225f7",
   "metadata": {},
   "outputs": [
    {
     "data": {
      "text/plain": [
       "0.9447127824736933"
      ]
     },
     "execution_count": 13,
     "metadata": {},
     "output_type": "execute_result"
    }
   ],
   "source": [
    "y_pred=model.predict(X_train_scaled2)\n",
    "accuracy_score(y_train, y_pred)"
   ]
  },
  {
   "cell_type": "code",
   "execution_count": 14,
   "id": "cdee64f1",
   "metadata": {},
   "outputs": [
    {
     "data": {
      "text/plain": [
       "0.9395"
      ]
     },
     "execution_count": 14,
     "metadata": {},
     "output_type": "execute_result"
    }
   ],
   "source": [
    "y_pred=model.predict(X_test_scaled2)\n",
    "accuracy_score(y_test, y_pred)"
   ]
  },
  {
   "cell_type": "code",
   "execution_count": 15,
   "id": "0b4aa114",
   "metadata": {},
   "outputs": [
    {
     "data": {
      "text/plain": [
       "array([[1833,   99],\n",
       "       [  22,   46]], dtype=int64)"
      ]
     },
     "execution_count": 15,
     "metadata": {},
     "output_type": "execute_result"
    }
   ],
   "source": [
    "y_pred=model.predict(X_test_scaled2)\n",
    "cm = confusion_matrix(y_test,y_pred)\n",
    "cm"
   ]
  },
  {
   "cell_type": "code",
   "execution_count": 16,
   "id": "892ba299",
   "metadata": {},
   "outputs": [
    {
     "data": {
      "image/png": "[encoded data removed]",
      "text/plain": [
       "<Figure size 432x288 with 2 Axes>"
      ]
     },
     "metadata": {
      "needs_background": "light"
     },
     "output_type": "display_data"
    }
   ],
   "source": [
    "sns.heatmap(cm,\n",
    "           annot=True,\n",
    "           annot_kws={\"size\":15},\n",
    "           xticklabels=['Machine not failure', 'Machine  failure'],\n",
    "           yticklabels=['Machine not failure', 'Machine failure'])\n",
    "plt.xlabel('Predicted')\n",
    "plt.ylabel('Actual');"
   ]
  },
  {
   "cell_type": "code",
   "execution_count": 28,
   "id": "7d4df92f",
   "metadata": {},
   "outputs": [
    {
     "name": "stdout",
     "output_type": "stream",
     "text": [
      "SVM Classification Report on Test data(wrapping method)\n",
      "              precision    recall  f1-score   support\n",
      "\n",
      "           0       0.99      0.95      0.97      1932\n",
      "           1       0.32      0.68      0.43        68\n",
      "\n",
      "    accuracy                           0.94      2000\n",
      "   macro avg       0.65      0.81      0.70      2000\n",
      "weighted avg       0.97      0.94      0.95      2000\n",
      " \n",
      "\n"
     ]
    }
   ],
   "source": [
    "print(f\"SVM Classification Report on Test data(wrapping method)\")\n",
    "cm=confusion_matrix(y_test, forest_y_pred)\n",
    "print(classification_report(y_test,y_pred), \"\\n\")"
   ]
  },
  {
   "cell_type": "code",
   "execution_count": 18,
   "id": "cf89e4aa",
   "metadata": {},
   "outputs": [],
   "source": [
    "\n",
    "m=['torque','air_temp','Type_M']\n",
    "X_train3=X_train[m]\n",
    "X_valid3=X_valid[m]\n",
    "X_test3=X_test[m]\n",
    "scaler = StandardScaler().fit(X_train3)\n",
    "X_train_scaled3 = scaler.transform(X_train3)\n",
    "\n",
    "X_valid_scaled3= scaler.transform(X_valid3)\n",
    "X_test_scaled3 = scaler.transform(X_test3)"
   ]
  },
  {
   "cell_type": "code",
   "execution_count": 19,
   "id": "5d716aed",
   "metadata": {},
   "outputs": [
    {
     "name": "stdout",
     "output_type": "stream",
     "text": [
      "SVM Classification Report on Test data(LASSO feature selection)\n",
      "[[1732  200]\n",
      " [  36   32]]\n",
      "              precision    recall  f1-score   support\n",
      "\n",
      "           0       0.98      0.90      0.94      1932\n",
      "           1       0.14      0.47      0.21        68\n",
      "\n",
      "    accuracy                           0.88      2000\n",
      "   macro avg       0.56      0.68      0.57      2000\n",
      "weighted avg       0.95      0.88      0.91      2000\n",
      " \n",
      "\n"
     ]
    }
   ],
   "source": [
    "# from first variable seection method\n",
    "\n",
    "from sklearn.metrics import confusion_matrix, accuracy_score, classification_report\n",
    "model.fit(X_train_scaled3, y_train)\n",
    "forest_y_pred = model.predict(X_test_scaled3)\n",
    "print(f\"SVM Classification Report on Test data(LASSO feature selection)\")\n",
    "cm=confusion_matrix(y_test, forest_y_pred)\n",
    "print(cm)\n",
    "print(classification_report(y_test, forest_y_pred), \"\\n\")"
   ]
  },
  {
   "cell_type": "code",
   "execution_count": 26,
   "id": "eade37ae",
   "metadata": {},
   "outputs": [],
   "source": [
    "f=[ \"air_temp\",\"process_temp\",\"rot_speed\",\"torque\",\"tool_wear\",\"Type_H\",\"Type_L\",\"Type_M\"]\n",
    "X_train3=X_train[m]\n",
    "X_valid3=X_valid[m]\n",
    "X_test3=X_test[m]\n",
    "scaler = StandardScaler().fit(X_train3)\n",
    "X_train_scaled3 = scaler.transform(X_train3)\n",
    "\n",
    "X_valid_scaled3= scaler.transform(X_valid3)\n",
    "X_test_scaled3 = scaler.transform(X_test3)"
   ]
  },
  {
   "cell_type": "code",
   "execution_count": 27,
   "id": "99d9667d",
   "metadata": {},
   "outputs": [
    {
     "name": "stdout",
     "output_type": "stream",
     "text": [
      "SVM Classification Report on Test data(wrapping method)\n",
      "[[1732  200]\n",
      " [  36   32]]\n",
      "              precision    recall  f1-score   support\n",
      "\n",
      "           0       0.98      0.90      0.94      1932\n",
      "           1       0.14      0.47      0.21        68\n",
      "\n",
      "    accuracy                           0.88      2000\n",
      "   macro avg       0.56      0.68      0.57      2000\n",
      "weighted avg       0.95      0.88      0.91      2000\n",
      " \n",
      "\n"
     ]
    }
   ],
   "source": [
    "# from bidirectional wrapping \n",
    "\n",
    "from sklearn.metrics import confusion_matrix, accuracy_score, classification_report\n",
    "model.fit(X_train_scaled3, y_train)\n",
    "forest_y_pred = model.predict(X_test_scaled3)\n",
    "print(f\"SVM Classification Report on Test data(wrapping method)\")\n",
    "cm=confusion_matrix(y_test, forest_y_pred)\n",
    "print(cm)\n",
    "print(classification_report(y_test, forest_y_pred), \"\\n\")"
   ]
  },
  {
   "cell_type": "code",
   "execution_count": 22,
   "id": "7eb10a7f",
   "metadata": {},
   "outputs": [],
   "source": [
    "### ROC AUC Curve for choosing the best model"
   ]
  },
  {
   "cell_type": "code",
   "execution_count": 23,
   "id": "b5b171ec",
   "metadata": {},
   "outputs": [],
   "source": [
    "# plt.figure(figsize = (8, 6))\n",
    "# from sklearn.metrics import roc_curve, roc_auc_score\n",
    "# for name, model in classifiers.items():\n",
    "#     model.fit(X_train, y_train)\n",
    "#     y_valid_prob = model.predict_proba(X_valid)\n",
    "#     FPR, TPR, threshold = roc_curve(y_valid, y_valid_prob[:,1], pos_label=1)\n",
    "#     auc = roc_auc_score(y_valid, y_valid_prob[:,1])\n",
    "#     plot_label = \"{} {:.3f}\".format(name, auc)\n",
    "#     plt.plot(FPR, TPR, label=plot_label)\n",
    "\n",
    "# plt.xlabel('FPR', fontsize=15)\n",
    "# plt.ylabel('TPR', fontsize=15)\n",
    "# plt.title('Validation set: ROC curves and AUC', fontsize=15)\n",
    "# plt.legend(loc='lower right', fontsize=15);"
   ]
  },
  {
   "cell_type": "code",
   "execution_count": 24,
   "id": "020d30ca",
   "metadata": {},
   "outputs": [],
   "source": [
    "## Precision Recall curve for choosing the best model"
   ]
  },
  {
   "cell_type": "code",
   "execution_count": 25,
   "id": "a7c2c99c",
   "metadata": {},
   "outputs": [],
   "source": [
    "# from sklearn.metrics import precision_recall_curve\n",
    "# plt.figure(figsize = (8, 6))\n",
    "# from sklearn.metrics import roc_curve, roc_auc_score\n",
    "# for name, model in classifiers.items():\n",
    "#     model.fit(X_train, y_train)\n",
    "#     y_score = model.predict_proba(X_valid)[:, 1]\n",
    "#     precision, recall, thresholds = precision_recall_curve(y_valid, y_score)\n",
    "#   #  plot_label = \"{} {:.3f}\".format(name, recall)\n",
    "#     plt.plot(recall, precision, label=name)\n",
    "\n",
    "# plt.title('Precision-Recall Curve')\n",
    "# plt.ylabel('Precision')\n",
    "# plt.xlabel('Recall')\n",
    "# plt.legend(loc='lower right', fontsize=15)\n",
    "# plt.show()"
   ]
  },
  {
   "cell_type": "code",
   "execution_count": null,
   "id": "895f6c3e",
   "metadata": {},
   "outputs": [],
   "source": []
  }
 ],
 "metadata": {
  "kernelspec": {
   "display_name": "Python 3 (ipykernel)",
   "language": "python",
   "name": "python3"
  },
  "language_info": {
   "codemirror_mode": {
    "name": "ipython",
    "version": 3
   },
   "file_extension": ".py",
   "mimetype": "text/x-python",
   "name": "python",
   "nbconvert_exporter": "python",
   "pygments_lexer": "ipython3",
   "version": "3.9.12"
  }
 },
 "nbformat": 4,
 "nbformat_minor": 5
}
