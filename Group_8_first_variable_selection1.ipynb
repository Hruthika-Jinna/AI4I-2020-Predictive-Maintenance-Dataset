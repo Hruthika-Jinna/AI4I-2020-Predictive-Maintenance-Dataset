{
 "cells": [
  {
   "cell_type": "code",
   "execution_count": 1,
   "id": "cef3e725",
   "metadata": {},
   "outputs": [],
   "source": [
    "import numpy as np\n",
    "import pandas as pd\n",
    "import matplotlib.pyplot as plt\n",
    "import seaborn as sns\n",
    "from sklearn.linear_model import LogisticRegression\n",
    "from sklearn.model_selection import train_test_split\n",
    "from sklearn.preprocessing import StandardScaler, LabelEncoder"
   ]
  },
  {
   "cell_type": "code",
   "execution_count": 2,
   "id": "1e68961b",
   "metadata": {},
   "outputs": [],
   "source": [
    "df = pd.read_csv(\"Group_8_data_cleaned.csv\")"
   ]
  },
  {
   "cell_type": "code",
   "execution_count": 3,
   "id": "bc8c019f",
   "metadata": {},
   "outputs": [
    {
     "data": {
      "text/html": [
       "<div>\n",
       "<style scoped>\n",
       "    .dataframe tbody tr th:only-of-type {\n",
       "        vertical-align: middle;\n",
       "    }\n",
       "\n",
       "    .dataframe tbody tr th {\n",
       "        vertical-align: top;\n",
       "    }\n",
       "\n",
       "    .dataframe thead th {\n",
       "        text-align: right;\n",
       "    }\n",
       "</style>\n",
       "<table border=\"1\" class=\"dataframe\">\n",
       "  <thead>\n",
       "    <tr style=\"text-align: right;\">\n",
       "      <th></th>\n",
       "      <th>Unnamed: 0</th>\n",
       "      <th>air_temp</th>\n",
       "      <th>process_temp</th>\n",
       "      <th>rot_speed</th>\n",
       "      <th>torque</th>\n",
       "      <th>tool_wear</th>\n",
       "      <th>Type_H</th>\n",
       "      <th>Type_L</th>\n",
       "      <th>Type_M</th>\n",
       "      <th>failure</th>\n",
       "    </tr>\n",
       "  </thead>\n",
       "  <tbody>\n",
       "    <tr>\n",
       "      <th>0</th>\n",
       "      <td>0</td>\n",
       "      <td>298.1</td>\n",
       "      <td>308.6</td>\n",
       "      <td>1551</td>\n",
       "      <td>42.8</td>\n",
       "      <td>0</td>\n",
       "      <td>0</td>\n",
       "      <td>0</td>\n",
       "      <td>1</td>\n",
       "      <td>0</td>\n",
       "    </tr>\n",
       "    <tr>\n",
       "      <th>1</th>\n",
       "      <td>1</td>\n",
       "      <td>298.2</td>\n",
       "      <td>308.7</td>\n",
       "      <td>1408</td>\n",
       "      <td>46.3</td>\n",
       "      <td>3</td>\n",
       "      <td>0</td>\n",
       "      <td>1</td>\n",
       "      <td>0</td>\n",
       "      <td>0</td>\n",
       "    </tr>\n",
       "    <tr>\n",
       "      <th>2</th>\n",
       "      <td>2</td>\n",
       "      <td>298.1</td>\n",
       "      <td>308.5</td>\n",
       "      <td>1498</td>\n",
       "      <td>49.4</td>\n",
       "      <td>5</td>\n",
       "      <td>0</td>\n",
       "      <td>1</td>\n",
       "      <td>0</td>\n",
       "      <td>0</td>\n",
       "    </tr>\n",
       "    <tr>\n",
       "      <th>3</th>\n",
       "      <td>3</td>\n",
       "      <td>298.2</td>\n",
       "      <td>308.6</td>\n",
       "      <td>1433</td>\n",
       "      <td>39.5</td>\n",
       "      <td>7</td>\n",
       "      <td>0</td>\n",
       "      <td>1</td>\n",
       "      <td>0</td>\n",
       "      <td>0</td>\n",
       "    </tr>\n",
       "    <tr>\n",
       "      <th>4</th>\n",
       "      <td>4</td>\n",
       "      <td>298.2</td>\n",
       "      <td>308.7</td>\n",
       "      <td>1408</td>\n",
       "      <td>40.0</td>\n",
       "      <td>9</td>\n",
       "      <td>0</td>\n",
       "      <td>1</td>\n",
       "      <td>0</td>\n",
       "      <td>0</td>\n",
       "    </tr>\n",
       "  </tbody>\n",
       "</table>\n",
       "</div>"
      ],
      "text/plain": [
       "   Unnamed: 0  air_temp  process_temp  rot_speed  torque  tool_wear  Type_H  \\\n",
       "0           0     298.1         308.6       1551    42.8          0       0   \n",
       "1           1     298.2         308.7       1408    46.3          3       0   \n",
       "2           2     298.1         308.5       1498    49.4          5       0   \n",
       "3           3     298.2         308.6       1433    39.5          7       0   \n",
       "4           4     298.2         308.7       1408    40.0          9       0   \n",
       "\n",
       "   Type_L  Type_M  failure  \n",
       "0       0       1        0  \n",
       "1       1       0        0  \n",
       "2       1       0        0  \n",
       "3       1       0        0  \n",
       "4       1       0        0  "
      ]
     },
     "execution_count": 3,
     "metadata": {},
     "output_type": "execute_result"
    }
   ],
   "source": [
    "df.head()"
   ]
  },
  {
   "cell_type": "code",
   "execution_count": 4,
   "id": "c5c2e4b8",
   "metadata": {},
   "outputs": [],
   "source": [
    "X=df[['air_temp', 'process_temp', 'rot_speed', 'torque', 'tool_wear',\n",
    "       'Type_H', 'Type_L', 'Type_M']]\n",
    "y=df['failure']"
   ]
  },
  {
   "cell_type": "code",
   "execution_count": 5,
   "id": "b97844c1",
   "metadata": {},
   "outputs": [],
   "source": [
    "X_train_full, X_test, y_train_full, y_test = train_test_split(X, y,  stratify=y,test_size=0.2, random_state=42)\n",
    "\n",
    "X_train1, X_valid, y_train1, y_valid = train_test_split(X_train_full, y_train_full, stratify=y_train_full, test_size=0.25, random_state=42)"
   ]
  },
  {
   "cell_type": "code",
   "execution_count": 6,
   "id": "b779e997",
   "metadata": {},
   "outputs": [],
   "source": [
    "from imblearn.over_sampling import SMOTE\n",
    "X_train, y_train = SMOTE().fit_resample(X_train1,y_train1)\n"
   ]
  },
  {
   "cell_type": "code",
   "execution_count": 7,
   "id": "35ecf76e",
   "metadata": {},
   "outputs": [],
   "source": [
    "df=df.drop(\"Unnamed: 0\",axis=1)"
   ]
  },
  {
   "cell_type": "code",
   "execution_count": 43,
   "id": "8217c02c",
   "metadata": {},
   "outputs": [
    {
     "data": {
      "text/html": [
       "<div>\n",
       "<style scoped>\n",
       "    .dataframe tbody tr th:only-of-type {\n",
       "        vertical-align: middle;\n",
       "    }\n",
       "\n",
       "    .dataframe tbody tr th {\n",
       "        vertical-align: top;\n",
       "    }\n",
       "\n",
       "    .dataframe thead th {\n",
       "        text-align: right;\n",
       "    }\n",
       "</style>\n",
       "<table border=\"1\" class=\"dataframe\">\n",
       "  <thead>\n",
       "    <tr style=\"text-align: right;\">\n",
       "      <th></th>\n",
       "      <th>air_temp</th>\n",
       "      <th>process_temp</th>\n",
       "      <th>rot_speed</th>\n",
       "      <th>torque</th>\n",
       "      <th>tool_wear</th>\n",
       "      <th>Type_H</th>\n",
       "      <th>Type_L</th>\n",
       "      <th>Type_M</th>\n",
       "      <th>failure</th>\n",
       "    </tr>\n",
       "  </thead>\n",
       "  <tbody>\n",
       "    <tr>\n",
       "      <th>0</th>\n",
       "      <td>298.1</td>\n",
       "      <td>308.6</td>\n",
       "      <td>1551</td>\n",
       "      <td>42.8</td>\n",
       "      <td>0</td>\n",
       "      <td>0</td>\n",
       "      <td>0</td>\n",
       "      <td>1</td>\n",
       "      <td>0</td>\n",
       "    </tr>\n",
       "    <tr>\n",
       "      <th>1</th>\n",
       "      <td>298.2</td>\n",
       "      <td>308.7</td>\n",
       "      <td>1408</td>\n",
       "      <td>46.3</td>\n",
       "      <td>3</td>\n",
       "      <td>0</td>\n",
       "      <td>1</td>\n",
       "      <td>0</td>\n",
       "      <td>0</td>\n",
       "    </tr>\n",
       "    <tr>\n",
       "      <th>2</th>\n",
       "      <td>298.1</td>\n",
       "      <td>308.5</td>\n",
       "      <td>1498</td>\n",
       "      <td>49.4</td>\n",
       "      <td>5</td>\n",
       "      <td>0</td>\n",
       "      <td>1</td>\n",
       "      <td>0</td>\n",
       "      <td>0</td>\n",
       "    </tr>\n",
       "    <tr>\n",
       "      <th>3</th>\n",
       "      <td>298.2</td>\n",
       "      <td>308.6</td>\n",
       "      <td>1433</td>\n",
       "      <td>39.5</td>\n",
       "      <td>7</td>\n",
       "      <td>0</td>\n",
       "      <td>1</td>\n",
       "      <td>0</td>\n",
       "      <td>0</td>\n",
       "    </tr>\n",
       "    <tr>\n",
       "      <th>4</th>\n",
       "      <td>298.2</td>\n",
       "      <td>308.7</td>\n",
       "      <td>1408</td>\n",
       "      <td>40.0</td>\n",
       "      <td>9</td>\n",
       "      <td>0</td>\n",
       "      <td>1</td>\n",
       "      <td>0</td>\n",
       "      <td>0</td>\n",
       "    </tr>\n",
       "    <tr>\n",
       "      <th>5</th>\n",
       "      <td>298.1</td>\n",
       "      <td>308.6</td>\n",
       "      <td>1425</td>\n",
       "      <td>41.9</td>\n",
       "      <td>11</td>\n",
       "      <td>0</td>\n",
       "      <td>0</td>\n",
       "      <td>1</td>\n",
       "      <td>0</td>\n",
       "    </tr>\n",
       "    <tr>\n",
       "      <th>6</th>\n",
       "      <td>298.1</td>\n",
       "      <td>308.6</td>\n",
       "      <td>1558</td>\n",
       "      <td>42.4</td>\n",
       "      <td>14</td>\n",
       "      <td>0</td>\n",
       "      <td>1</td>\n",
       "      <td>0</td>\n",
       "      <td>0</td>\n",
       "    </tr>\n",
       "    <tr>\n",
       "      <th>7</th>\n",
       "      <td>298.1</td>\n",
       "      <td>308.6</td>\n",
       "      <td>1527</td>\n",
       "      <td>40.2</td>\n",
       "      <td>16</td>\n",
       "      <td>0</td>\n",
       "      <td>1</td>\n",
       "      <td>0</td>\n",
       "      <td>0</td>\n",
       "    </tr>\n",
       "    <tr>\n",
       "      <th>8</th>\n",
       "      <td>298.3</td>\n",
       "      <td>308.7</td>\n",
       "      <td>1667</td>\n",
       "      <td>28.6</td>\n",
       "      <td>18</td>\n",
       "      <td>0</td>\n",
       "      <td>0</td>\n",
       "      <td>1</td>\n",
       "      <td>0</td>\n",
       "    </tr>\n",
       "    <tr>\n",
       "      <th>9</th>\n",
       "      <td>298.5</td>\n",
       "      <td>309.0</td>\n",
       "      <td>1741</td>\n",
       "      <td>28.0</td>\n",
       "      <td>21</td>\n",
       "      <td>0</td>\n",
       "      <td>0</td>\n",
       "      <td>1</td>\n",
       "      <td>0</td>\n",
       "    </tr>\n",
       "  </tbody>\n",
       "</table>\n",
       "</div>"
      ],
      "text/plain": [
       "   air_temp  process_temp  rot_speed  torque  tool_wear  Type_H  Type_L  \\\n",
       "0     298.1         308.6       1551    42.8          0       0       0   \n",
       "1     298.2         308.7       1408    46.3          3       0       1   \n",
       "2     298.1         308.5       1498    49.4          5       0       1   \n",
       "3     298.2         308.6       1433    39.5          7       0       1   \n",
       "4     298.2         308.7       1408    40.0          9       0       1   \n",
       "5     298.1         308.6       1425    41.9         11       0       0   \n",
       "6     298.1         308.6       1558    42.4         14       0       1   \n",
       "7     298.1         308.6       1527    40.2         16       0       1   \n",
       "8     298.3         308.7       1667    28.6         18       0       0   \n",
       "9     298.5         309.0       1741    28.0         21       0       0   \n",
       "\n",
       "   Type_M  failure  \n",
       "0       1        0  \n",
       "1       0        0  \n",
       "2       0        0  \n",
       "3       0        0  \n",
       "4       0        0  \n",
       "5       1        0  \n",
       "6       0        0  \n",
       "7       0        0  \n",
       "8       1        0  \n",
       "9       1        0  "
      ]
     },
     "execution_count": 43,
     "metadata": {},
     "output_type": "execute_result"
    }
   ],
   "source": [
    "df.head(10)"
   ]
  },
  {
   "cell_type": "code",
   "execution_count": 8,
   "id": "ffbca7aa",
   "metadata": {},
   "outputs": [],
   "source": [
    "scaler = StandardScaler().fit(X_train)\n",
    "X_train_scaled = scaler.transform(X_train)\n",
    "\n",
    "X_valid_scaled = scaler.transform(X_valid)\n",
    "X_test_scaled = scaler.transform(X_test)"
   ]
  },
  {
   "cell_type": "markdown",
   "id": "e6cd37e5",
   "metadata": {},
   "source": [
    "### Using LASSO "
   ]
  },
  {
   "cell_type": "code",
   "execution_count": 9,
   "id": "35b11828",
   "metadata": {},
   "outputs": [],
   "source": [
    "from sklearn.linear_model import Lasso\n",
    "from sklearn.pipeline import Pipeline\n",
    "from sklearn.preprocessing import StandardScaler\n",
    "from sklearn.model_selection import  GridSearchCV\n",
    "pipeline = Pipeline([\n",
    "                     ('scaler',StandardScaler()),\n",
    "                     ('model',Lasso())\n",
    "])"
   ]
  },
  {
   "cell_type": "code",
   "execution_count": 10,
   "id": "beddb18e",
   "metadata": {},
   "outputs": [],
   "source": [
    "search = GridSearchCV(pipeline,\n",
    "                      {'model__alpha':np.arange(0.1,10,0.1)},\n",
    "                      cv = 5,verbose=3\n",
    "                      )"
   ]
  },
  {
   "cell_type": "code",
   "execution_count": 11,
   "id": "0eba9d06",
   "metadata": {},
   "outputs": [
    {
     "name": "stdout",
     "output_type": "stream",
     "text": [
      "Fitting 5 folds for each of 99 candidates, totalling 495 fits\n",
      "[CV 1/5] END .................model__alpha=0.1;, score=-8.457 total time=   0.0s\n",
      "[CV 2/5] END .................model__alpha=0.1;, score=-8.601 total time=   0.0s\n",
      "[CV 3/5] END ..................model__alpha=0.1;, score=0.138 total time=   0.0s\n",
      "[CV 4/5] END ..................model__alpha=0.1;, score=0.000 total time=   0.0s\n",
      "[CV 5/5] END ..................model__alpha=0.1;, score=0.000 total time=   0.0s\n",
      "[CV 1/5] END ................model__alpha=0.2;, score=-10.309 total time=   0.0s\n",
      "[CV 2/5] END ................model__alpha=0.2;, score=-10.606 total time=   0.0s\n",
      "[CV 3/5] END .................model__alpha=0.2;, score=-0.029 total time=   0.0s\n",
      "[CV 4/5] END ..................model__alpha=0.2;, score=0.000 total time=   0.0s\n",
      "[CV 5/5] END ..................model__alpha=0.2;, score=0.000 total time=   0.0s\n",
      "[CV 1/5] END model__alpha=0.30000000000000004;, score=-10.309 total time=   0.0s\n",
      "[CV 2/5] END model__alpha=0.30000000000000004;, score=-10.606 total time=   0.0s\n",
      "[CV 3/5] END .model__alpha=0.30000000000000004;, score=-0.029 total time=   0.0s\n",
      "[CV 4/5] END ..model__alpha=0.30000000000000004;, score=0.000 total time=   0.0s\n",
      "[CV 5/5] END ..model__alpha=0.30000000000000004;, score=0.000 total time=   0.0s\n",
      "[CV 1/5] END ................model__alpha=0.4;, score=-10.309 total time=   0.0s\n",
      "[CV 2/5] END ................model__alpha=0.4;, score=-10.606 total time=   0.0s\n",
      "[CV 3/5] END .................model__alpha=0.4;, score=-0.029 total time=   0.0s\n",
      "[CV 4/5] END ..................model__alpha=0.4;, score=0.000 total time=   0.0s\n",
      "[CV 5/5] END ..................model__alpha=0.4;, score=0.000 total time=   0.0s\n",
      "[CV 1/5] END ................model__alpha=0.5;, score=-10.309 total time=   0.0s\n",
      "[CV 2/5] END ................model__alpha=0.5;, score=-10.606 total time=   0.0s\n",
      "[CV 3/5] END .................model__alpha=0.5;, score=-0.029 total time=   0.0s\n",
      "[CV 4/5] END ..................model__alpha=0.5;, score=0.000 total time=   0.0s\n",
      "[CV 5/5] END ..................model__alpha=0.5;, score=0.000 total time=   0.0s\n",
      "[CV 1/5] END ................model__alpha=0.6;, score=-10.309 total time=   0.0s\n",
      "[CV 2/5] END ................model__alpha=0.6;, score=-10.606 total time=   0.0s\n",
      "[CV 3/5] END .................model__alpha=0.6;, score=-0.029 total time=   0.0s\n",
      "[CV 4/5] END ..................model__alpha=0.6;, score=0.000 total time=   0.0s\n",
      "[CV 5/5] END ..................model__alpha=0.6;, score=0.000 total time=   0.0s\n",
      "[CV 1/5] END .model__alpha=0.7000000000000001;, score=-10.309 total time=   0.0s\n",
      "[CV 2/5] END .model__alpha=0.7000000000000001;, score=-10.606 total time=   0.0s\n",
      "[CV 3/5] END ..model__alpha=0.7000000000000001;, score=-0.029 total time=   0.0s\n",
      "[CV 4/5] END ...model__alpha=0.7000000000000001;, score=0.000 total time=   0.0s\n",
      "[CV 5/5] END ...model__alpha=0.7000000000000001;, score=0.000 total time=   0.0s\n",
      "[CV 1/5] END ................model__alpha=0.8;, score=-10.309 total time=   0.0s\n",
      "[CV 2/5] END ................model__alpha=0.8;, score=-10.606 total time=   0.0s\n",
      "[CV 3/5] END .................model__alpha=0.8;, score=-0.029 total time=   0.0s\n",
      "[CV 4/5] END ..................model__alpha=0.8;, score=0.000 total time=   0.0s\n",
      "[CV 5/5] END ..................model__alpha=0.8;, score=0.000 total time=   0.0s\n",
      "[CV 1/5] END ................model__alpha=0.9;, score=-10.309 total time=   0.0s\n",
      "[CV 2/5] END ................model__alpha=0.9;, score=-10.606 total time=   0.0s\n",
      "[CV 3/5] END .................model__alpha=0.9;, score=-0.029 total time=   0.0s\n",
      "[CV 4/5] END ..................model__alpha=0.9;, score=0.000 total time=   0.0s\n",
      "[CV 5/5] END ..................model__alpha=0.9;, score=0.000 total time=   0.0s\n",
      "[CV 1/5] END ................model__alpha=1.0;, score=-10.309 total time=   0.0s\n",
      "[CV 2/5] END ................model__alpha=1.0;, score=-10.606 total time=   0.0s\n",
      "[CV 3/5] END .................model__alpha=1.0;, score=-0.029 total time=   0.0s\n",
      "[CV 4/5] END ..................model__alpha=1.0;, score=0.000 total time=   0.0s\n",
      "[CV 5/5] END ..................model__alpha=1.0;, score=0.000 total time=   0.0s\n",
      "[CV 1/5] END ................model__alpha=1.1;, score=-10.309 total time=   0.0s\n",
      "[CV 2/5] END ................model__alpha=1.1;, score=-10.606 total time=   0.0s\n",
      "[CV 3/5] END .................model__alpha=1.1;, score=-0.029 total time=   0.0s\n",
      "[CV 4/5] END ..................model__alpha=1.1;, score=0.000 total time=   0.0s\n",
      "[CV 5/5] END ..................model__alpha=1.1;, score=0.000 total time=   0.0s\n",
      "[CV 1/5] END .model__alpha=1.2000000000000002;, score=-10.309 total time=   0.0s\n",
      "[CV 2/5] END .model__alpha=1.2000000000000002;, score=-10.606 total time=   0.0s\n",
      "[CV 3/5] END ..model__alpha=1.2000000000000002;, score=-0.029 total time=   0.0s\n",
      "[CV 4/5] END ...model__alpha=1.2000000000000002;, score=0.000 total time=   0.0s\n",
      "[CV 5/5] END ...model__alpha=1.2000000000000002;, score=0.000 total time=   0.0s\n",
      "[CV 1/5] END .model__alpha=1.3000000000000003;, score=-10.309 total time=   0.0s\n",
      "[CV 2/5] END .model__alpha=1.3000000000000003;, score=-10.606 total time=   0.0s\n",
      "[CV 3/5] END ..model__alpha=1.3000000000000003;, score=-0.029 total time=   0.0s\n",
      "[CV 4/5] END ...model__alpha=1.3000000000000003;, score=0.000 total time=   0.0s\n",
      "[CV 5/5] END ...model__alpha=1.3000000000000003;, score=0.000 total time=   0.0s\n",
      "[CV 1/5] END .model__alpha=1.4000000000000001;, score=-10.309 total time=   0.0s\n",
      "[CV 2/5] END .model__alpha=1.4000000000000001;, score=-10.606 total time=   0.0s\n",
      "[CV 3/5] END ..model__alpha=1.4000000000000001;, score=-0.029 total time=   0.0s\n",
      "[CV 4/5] END ...model__alpha=1.4000000000000001;, score=0.000 total time=   0.0s\n",
      "[CV 5/5] END ...model__alpha=1.4000000000000001;, score=0.000 total time=   0.0s\n",
      "[CV 1/5] END .model__alpha=1.5000000000000002;, score=-10.309 total time=   0.0s\n",
      "[CV 2/5] END .model__alpha=1.5000000000000002;, score=-10.606 total time=   0.0s\n",
      "[CV 3/5] END ..model__alpha=1.5000000000000002;, score=-0.029 total time=   0.0s\n",
      "[CV 4/5] END ...model__alpha=1.5000000000000002;, score=0.000 total time=   0.0s\n",
      "[CV 5/5] END ...model__alpha=1.5000000000000002;, score=0.000 total time=   0.0s\n",
      "[CV 1/5] END ................model__alpha=1.6;, score=-10.309 total time=   0.0s\n",
      "[CV 2/5] END ................model__alpha=1.6;, score=-10.606 total time=   0.0s\n",
      "[CV 3/5] END .................model__alpha=1.6;, score=-0.029 total time=   0.0s\n",
      "[CV 4/5] END ..................model__alpha=1.6;, score=0.000 total time=   0.0s\n",
      "[CV 5/5] END ..................model__alpha=1.6;, score=0.000 total time=   0.0s\n",
      "[CV 1/5] END .model__alpha=1.7000000000000002;, score=-10.309 total time=   0.0s\n",
      "[CV 2/5] END .model__alpha=1.7000000000000002;, score=-10.606 total time=   0.0s\n",
      "[CV 3/5] END ..model__alpha=1.7000000000000002;, score=-0.029 total time=   0.0s\n",
      "[CV 4/5] END ...model__alpha=1.7000000000000002;, score=0.000 total time=   0.0s\n",
      "[CV 5/5] END ...model__alpha=1.7000000000000002;, score=0.000 total time=   0.0s\n",
      "[CV 1/5] END .model__alpha=1.8000000000000003;, score=-10.309 total time=   0.0s\n",
      "[CV 2/5] END .model__alpha=1.8000000000000003;, score=-10.606 total time=   0.0s\n",
      "[CV 3/5] END ..model__alpha=1.8000000000000003;, score=-0.029 total time=   0.0s\n",
      "[CV 4/5] END ...model__alpha=1.8000000000000003;, score=0.000 total time=   0.0s\n",
      "[CV 5/5] END ...model__alpha=1.8000000000000003;, score=0.000 total time=   0.0s\n",
      "[CV 1/5] END .model__alpha=1.9000000000000001;, score=-10.309 total time=   0.0s\n",
      "[CV 2/5] END .model__alpha=1.9000000000000001;, score=-10.606 total time=   0.0s\n",
      "[CV 3/5] END ..model__alpha=1.9000000000000001;, score=-0.029 total time=   0.0s\n",
      "[CV 4/5] END ...model__alpha=1.9000000000000001;, score=0.000 total time=   0.0s\n",
      "[CV 5/5] END ...model__alpha=1.9000000000000001;, score=0.000 total time=   0.0s\n",
      "[CV 1/5] END ................model__alpha=2.0;, score=-10.309 total time=   0.0s\n",
      "[CV 2/5] END ................model__alpha=2.0;, score=-10.606 total time=   0.0s\n",
      "[CV 3/5] END .................model__alpha=2.0;, score=-0.029 total time=   0.0s\n",
      "[CV 4/5] END ..................model__alpha=2.0;, score=0.000 total time=   0.0s\n",
      "[CV 5/5] END ..................model__alpha=2.0;, score=0.000 total time=   0.0s\n",
      "[CV 1/5] END ................model__alpha=2.1;, score=-10.309 total time=   0.0s\n",
      "[CV 2/5] END ................model__alpha=2.1;, score=-10.606 total time=   0.0s\n",
      "[CV 3/5] END .................model__alpha=2.1;, score=-0.029 total time=   0.0s\n",
      "[CV 4/5] END ..................model__alpha=2.1;, score=0.000 total time=   0.0s\n"
     ]
    },
    {
     "name": "stdout",
     "output_type": "stream",
     "text": [
      "[CV 5/5] END ..................model__alpha=2.1;, score=0.000 total time=   0.0s\n",
      "[CV 1/5] END ................model__alpha=2.2;, score=-10.309 total time=   0.0s\n",
      "[CV 2/5] END ................model__alpha=2.2;, score=-10.606 total time=   0.0s\n",
      "[CV 3/5] END .................model__alpha=2.2;, score=-0.029 total time=   0.0s\n",
      "[CV 4/5] END ..................model__alpha=2.2;, score=0.000 total time=   0.0s\n",
      "[CV 5/5] END ..................model__alpha=2.2;, score=0.000 total time=   0.0s\n",
      "[CV 1/5] END .model__alpha=2.3000000000000003;, score=-10.309 total time=   0.0s\n",
      "[CV 2/5] END .model__alpha=2.3000000000000003;, score=-10.606 total time=   0.0s\n",
      "[CV 3/5] END ..model__alpha=2.3000000000000003;, score=-0.029 total time=   0.0s\n",
      "[CV 4/5] END ...model__alpha=2.3000000000000003;, score=0.000 total time=   0.0s\n",
      "[CV 5/5] END ...model__alpha=2.3000000000000003;, score=0.000 total time=   0.0s\n",
      "[CV 1/5] END .model__alpha=2.4000000000000004;, score=-10.309 total time=   0.0s\n",
      "[CV 2/5] END .model__alpha=2.4000000000000004;, score=-10.606 total time=   0.0s\n",
      "[CV 3/5] END ..model__alpha=2.4000000000000004;, score=-0.029 total time=   0.0s\n",
      "[CV 4/5] END ...model__alpha=2.4000000000000004;, score=0.000 total time=   0.0s\n",
      "[CV 5/5] END ...model__alpha=2.4000000000000004;, score=0.000 total time=   0.0s\n",
      "[CV 1/5] END .model__alpha=2.5000000000000004;, score=-10.309 total time=   0.0s\n",
      "[CV 2/5] END .model__alpha=2.5000000000000004;, score=-10.606 total time=   0.0s\n",
      "[CV 3/5] END ..model__alpha=2.5000000000000004;, score=-0.029 total time=   0.0s\n",
      "[CV 4/5] END ...model__alpha=2.5000000000000004;, score=0.000 total time=   0.0s\n",
      "[CV 5/5] END ...model__alpha=2.5000000000000004;, score=0.000 total time=   0.0s\n",
      "[CV 1/5] END ................model__alpha=2.6;, score=-10.309 total time=   0.0s\n",
      "[CV 2/5] END ................model__alpha=2.6;, score=-10.606 total time=   0.0s\n",
      "[CV 3/5] END .................model__alpha=2.6;, score=-0.029 total time=   0.0s\n",
      "[CV 4/5] END ..................model__alpha=2.6;, score=0.000 total time=   0.0s\n",
      "[CV 5/5] END ..................model__alpha=2.6;, score=0.000 total time=   0.0s\n",
      "[CV 1/5] END ................model__alpha=2.7;, score=-10.309 total time=   0.0s\n",
      "[CV 2/5] END ................model__alpha=2.7;, score=-10.606 total time=   0.0s\n",
      "[CV 3/5] END .................model__alpha=2.7;, score=-0.029 total time=   0.0s\n",
      "[CV 4/5] END ..................model__alpha=2.7;, score=0.000 total time=   0.0s\n",
      "[CV 5/5] END ..................model__alpha=2.7;, score=0.000 total time=   0.0s\n",
      "[CV 1/5] END .model__alpha=2.8000000000000003;, score=-10.309 total time=   0.0s\n",
      "[CV 2/5] END .model__alpha=2.8000000000000003;, score=-10.606 total time=   0.0s\n",
      "[CV 3/5] END ..model__alpha=2.8000000000000003;, score=-0.029 total time=   0.0s\n",
      "[CV 4/5] END ...model__alpha=2.8000000000000003;, score=0.000 total time=   0.0s\n",
      "[CV 5/5] END ...model__alpha=2.8000000000000003;, score=0.000 total time=   0.0s\n",
      "[CV 1/5] END .model__alpha=2.9000000000000004;, score=-10.309 total time=   0.0s\n",
      "[CV 2/5] END .model__alpha=2.9000000000000004;, score=-10.606 total time=   0.0s\n",
      "[CV 3/5] END ..model__alpha=2.9000000000000004;, score=-0.029 total time=   0.0s\n",
      "[CV 4/5] END ...model__alpha=2.9000000000000004;, score=0.000 total time=   0.0s\n",
      "[CV 5/5] END ...model__alpha=2.9000000000000004;, score=0.000 total time=   0.0s\n",
      "[CV 1/5] END .model__alpha=3.0000000000000004;, score=-10.309 total time=   0.0s\n",
      "[CV 2/5] END .model__alpha=3.0000000000000004;, score=-10.606 total time=   0.0s\n",
      "[CV 3/5] END ..model__alpha=3.0000000000000004;, score=-0.029 total time=   0.0s\n",
      "[CV 4/5] END ...model__alpha=3.0000000000000004;, score=0.000 total time=   0.0s\n",
      "[CV 5/5] END ...model__alpha=3.0000000000000004;, score=0.000 total time=   0.0s\n",
      "[CV 1/5] END ................model__alpha=3.1;, score=-10.309 total time=   0.0s\n",
      "[CV 2/5] END ................model__alpha=3.1;, score=-10.606 total time=   0.0s\n",
      "[CV 3/5] END .................model__alpha=3.1;, score=-0.029 total time=   0.0s\n",
      "[CV 4/5] END ..................model__alpha=3.1;, score=0.000 total time=   0.0s\n",
      "[CV 5/5] END ..................model__alpha=3.1;, score=0.000 total time=   0.0s\n",
      "[CV 1/5] END ................model__alpha=3.2;, score=-10.309 total time=   0.0s\n",
      "[CV 2/5] END ................model__alpha=3.2;, score=-10.606 total time=   0.0s\n",
      "[CV 3/5] END .................model__alpha=3.2;, score=-0.029 total time=   0.0s\n",
      "[CV 4/5] END ..................model__alpha=3.2;, score=0.000 total time=   0.0s\n",
      "[CV 5/5] END ..................model__alpha=3.2;, score=0.000 total time=   0.0s\n",
      "[CV 1/5] END .model__alpha=3.3000000000000003;, score=-10.309 total time=   0.0s\n",
      "[CV 2/5] END .model__alpha=3.3000000000000003;, score=-10.606 total time=   0.0s\n",
      "[CV 3/5] END ..model__alpha=3.3000000000000003;, score=-0.029 total time=   0.0s\n",
      "[CV 4/5] END ...model__alpha=3.3000000000000003;, score=0.000 total time=   0.0s\n",
      "[CV 5/5] END ...model__alpha=3.3000000000000003;, score=0.000 total time=   0.0s\n",
      "[CV 1/5] END .model__alpha=3.4000000000000004;, score=-10.309 total time=   0.0s\n",
      "[CV 2/5] END .model__alpha=3.4000000000000004;, score=-10.606 total time=   0.0s\n",
      "[CV 3/5] END ..model__alpha=3.4000000000000004;, score=-0.029 total time=   0.0s\n",
      "[CV 4/5] END ...model__alpha=3.4000000000000004;, score=0.000 total time=   0.0s\n",
      "[CV 5/5] END ...model__alpha=3.4000000000000004;, score=0.000 total time=   0.0s\n",
      "[CV 1/5] END .model__alpha=3.5000000000000004;, score=-10.309 total time=   0.0s\n",
      "[CV 2/5] END .model__alpha=3.5000000000000004;, score=-10.606 total time=   0.0s\n",
      "[CV 3/5] END ..model__alpha=3.5000000000000004;, score=-0.029 total time=   0.0s\n",
      "[CV 4/5] END ...model__alpha=3.5000000000000004;, score=0.000 total time=   0.0s\n",
      "[CV 5/5] END ...model__alpha=3.5000000000000004;, score=0.000 total time=   0.0s\n",
      "[CV 1/5] END ................model__alpha=3.6;, score=-10.309 total time=   0.0s\n",
      "[CV 2/5] END ................model__alpha=3.6;, score=-10.606 total time=   0.0s\n",
      "[CV 3/5] END .................model__alpha=3.6;, score=-0.029 total time=   0.0s\n",
      "[CV 4/5] END ..................model__alpha=3.6;, score=0.000 total time=   0.0s\n",
      "[CV 5/5] END ..................model__alpha=3.6;, score=0.000 total time=   0.0s\n",
      "[CV 1/5] END ................model__alpha=3.7;, score=-10.309 total time=   0.0s\n",
      "[CV 2/5] END ................model__alpha=3.7;, score=-10.606 total time=   0.0s\n",
      "[CV 3/5] END .................model__alpha=3.7;, score=-0.029 total time=   0.0s\n",
      "[CV 4/5] END ..................model__alpha=3.7;, score=0.000 total time=   0.0s\n",
      "[CV 5/5] END ..................model__alpha=3.7;, score=0.000 total time=   0.0s\n",
      "[CV 1/5] END .model__alpha=3.8000000000000003;, score=-10.309 total time=   0.0s\n",
      "[CV 2/5] END .model__alpha=3.8000000000000003;, score=-10.606 total time=   0.0s\n",
      "[CV 3/5] END ..model__alpha=3.8000000000000003;, score=-0.029 total time=   0.0s\n",
      "[CV 4/5] END ...model__alpha=3.8000000000000003;, score=0.000 total time=   0.0s\n",
      "[CV 5/5] END ...model__alpha=3.8000000000000003;, score=0.000 total time=   0.0s\n",
      "[CV 1/5] END .model__alpha=3.9000000000000004;, score=-10.309 total time=   0.0s\n",
      "[CV 2/5] END .model__alpha=3.9000000000000004;, score=-10.606 total time=   0.0s\n",
      "[CV 3/5] END ..model__alpha=3.9000000000000004;, score=-0.029 total time=   0.0s\n",
      "[CV 4/5] END ...model__alpha=3.9000000000000004;, score=0.000 total time=   0.0s\n",
      "[CV 5/5] END ...model__alpha=3.9000000000000004;, score=0.000 total time=   0.0s\n",
      "[CV 1/5] END ................model__alpha=4.0;, score=-10.309 total time=   0.0s\n",
      "[CV 2/5] END ................model__alpha=4.0;, score=-10.606 total time=   0.0s\n",
      "[CV 3/5] END .................model__alpha=4.0;, score=-0.029 total time=   0.0s\n",
      "[CV 4/5] END ..................model__alpha=4.0;, score=0.000 total time=   0.0s\n",
      "[CV 5/5] END ..................model__alpha=4.0;, score=0.000 total time=   0.0s\n",
      "[CV 1/5] END ................model__alpha=4.1;, score=-10.309 total time=   0.0s\n",
      "[CV 2/5] END ................model__alpha=4.1;, score=-10.606 total time=   0.0s\n",
      "[CV 3/5] END .................model__alpha=4.1;, score=-0.029 total time=   0.0s\n",
      "[CV 4/5] END ..................model__alpha=4.1;, score=0.000 total time=   0.0s\n",
      "[CV 5/5] END ..................model__alpha=4.1;, score=0.000 total time=   0.0s\n",
      "[CV 1/5] END ................model__alpha=4.2;, score=-10.309 total time=   0.0s\n"
     ]
    },
    {
     "name": "stdout",
     "output_type": "stream",
     "text": [
      "[CV 2/5] END ................model__alpha=4.2;, score=-10.606 total time=   0.0s\n",
      "[CV 3/5] END .................model__alpha=4.2;, score=-0.029 total time=   0.0s\n",
      "[CV 4/5] END ..................model__alpha=4.2;, score=0.000 total time=   0.0s\n",
      "[CV 5/5] END ..................model__alpha=4.2;, score=0.000 total time=   0.0s\n",
      "[CV 1/5] END ................model__alpha=4.3;, score=-10.309 total time=   0.0s\n",
      "[CV 2/5] END ................model__alpha=4.3;, score=-10.606 total time=   0.0s\n",
      "[CV 3/5] END .................model__alpha=4.3;, score=-0.029 total time=   0.0s\n",
      "[CV 4/5] END ..................model__alpha=4.3;, score=0.000 total time=   0.0s\n",
      "[CV 5/5] END ..................model__alpha=4.3;, score=0.000 total time=   0.0s\n",
      "[CV 1/5] END .model__alpha=4.3999999999999995;, score=-10.309 total time=   0.0s\n",
      "[CV 2/5] END .model__alpha=4.3999999999999995;, score=-10.606 total time=   0.0s\n",
      "[CV 3/5] END ..model__alpha=4.3999999999999995;, score=-0.029 total time=   0.0s\n",
      "[CV 4/5] END ...model__alpha=4.3999999999999995;, score=0.000 total time=   0.0s\n",
      "[CV 5/5] END ...model__alpha=4.3999999999999995;, score=0.000 total time=   0.0s\n",
      "[CV 1/5] END ................model__alpha=4.5;, score=-10.309 total time=   0.0s\n",
      "[CV 2/5] END ................model__alpha=4.5;, score=-10.606 total time=   0.0s\n",
      "[CV 3/5] END .................model__alpha=4.5;, score=-0.029 total time=   0.0s\n",
      "[CV 4/5] END ..................model__alpha=4.5;, score=0.000 total time=   0.0s\n",
      "[CV 5/5] END ..................model__alpha=4.5;, score=0.000 total time=   0.0s\n",
      "[CV 1/5] END ................model__alpha=4.6;, score=-10.309 total time=   0.0s\n",
      "[CV 2/5] END ................model__alpha=4.6;, score=-10.606 total time=   0.0s\n",
      "[CV 3/5] END .................model__alpha=4.6;, score=-0.029 total time=   0.0s\n",
      "[CV 4/5] END ..................model__alpha=4.6;, score=0.000 total time=   0.0s\n",
      "[CV 5/5] END ..................model__alpha=4.6;, score=0.000 total time=   0.0s\n",
      "[CV 1/5] END ................model__alpha=4.7;, score=-10.309 total time=   0.0s\n",
      "[CV 2/5] END ................model__alpha=4.7;, score=-10.606 total time=   0.0s\n",
      "[CV 3/5] END .................model__alpha=4.7;, score=-0.029 total time=   0.0s\n",
      "[CV 4/5] END ..................model__alpha=4.7;, score=0.000 total time=   0.0s\n",
      "[CV 5/5] END ..................model__alpha=4.7;, score=0.000 total time=   0.0s\n",
      "[CV 1/5] END ................model__alpha=4.8;, score=-10.309 total time=   0.0s\n",
      "[CV 2/5] END ................model__alpha=4.8;, score=-10.606 total time=   0.0s\n",
      "[CV 3/5] END .................model__alpha=4.8;, score=-0.029 total time=   0.0s\n",
      "[CV 4/5] END ..................model__alpha=4.8;, score=0.000 total time=   0.0s\n",
      "[CV 5/5] END ..................model__alpha=4.8;, score=0.000 total time=   0.0s\n",
      "[CV 1/5] END ................model__alpha=4.9;, score=-10.309 total time=   0.0s\n",
      "[CV 2/5] END ................model__alpha=4.9;, score=-10.606 total time=   0.0s\n",
      "[CV 3/5] END .................model__alpha=4.9;, score=-0.029 total time=   0.0s\n",
      "[CV 4/5] END ..................model__alpha=4.9;, score=0.000 total time=   0.0s\n",
      "[CV 5/5] END ..................model__alpha=4.9;, score=0.000 total time=   0.0s\n",
      "[CV 1/5] END ................model__alpha=5.0;, score=-10.309 total time=   0.0s\n",
      "[CV 2/5] END ................model__alpha=5.0;, score=-10.606 total time=   0.0s\n",
      "[CV 3/5] END .................model__alpha=5.0;, score=-0.029 total time=   0.0s\n",
      "[CV 4/5] END ..................model__alpha=5.0;, score=0.000 total time=   0.0s\n",
      "[CV 5/5] END ..................model__alpha=5.0;, score=0.000 total time=   0.0s\n",
      "[CV 1/5] END ................model__alpha=5.1;, score=-10.309 total time=   0.0s\n",
      "[CV 2/5] END ................model__alpha=5.1;, score=-10.606 total time=   0.0s\n",
      "[CV 3/5] END .................model__alpha=5.1;, score=-0.029 total time=   0.0s\n",
      "[CV 4/5] END ..................model__alpha=5.1;, score=0.000 total time=   0.0s\n",
      "[CV 5/5] END ..................model__alpha=5.1;, score=0.000 total time=   0.0s\n",
      "[CV 1/5] END ................model__alpha=5.2;, score=-10.309 total time=   0.0s\n",
      "[CV 2/5] END ................model__alpha=5.2;, score=-10.606 total time=   0.0s\n",
      "[CV 3/5] END .................model__alpha=5.2;, score=-0.029 total time=   0.0s\n",
      "[CV 4/5] END ..................model__alpha=5.2;, score=0.000 total time=   0.0s\n",
      "[CV 5/5] END ..................model__alpha=5.2;, score=0.000 total time=   0.0s\n",
      "[CV 1/5] END ................model__alpha=5.3;, score=-10.309 total time=   0.0s\n",
      "[CV 2/5] END ................model__alpha=5.3;, score=-10.606 total time=   0.0s\n",
      "[CV 3/5] END .................model__alpha=5.3;, score=-0.029 total time=   0.0s\n",
      "[CV 4/5] END ..................model__alpha=5.3;, score=0.000 total time=   0.0s\n",
      "[CV 5/5] END ..................model__alpha=5.3;, score=0.000 total time=   0.0s\n",
      "[CV 1/5] END ................model__alpha=5.4;, score=-10.309 total time=   0.0s\n",
      "[CV 2/5] END ................model__alpha=5.4;, score=-10.606 total time=   0.0s\n",
      "[CV 3/5] END .................model__alpha=5.4;, score=-0.029 total time=   0.0s\n",
      "[CV 4/5] END ..................model__alpha=5.4;, score=0.000 total time=   0.0s\n",
      "[CV 5/5] END ..................model__alpha=5.4;, score=0.000 total time=   0.0s\n",
      "[CV 1/5] END ................model__alpha=5.5;, score=-10.309 total time=   0.0s\n",
      "[CV 2/5] END ................model__alpha=5.5;, score=-10.606 total time=   0.0s\n",
      "[CV 3/5] END .................model__alpha=5.5;, score=-0.029 total time=   0.0s\n",
      "[CV 4/5] END ..................model__alpha=5.5;, score=0.000 total time=   0.0s\n",
      "[CV 5/5] END ..................model__alpha=5.5;, score=0.000 total time=   0.0s\n",
      "[CV 1/5] END ................model__alpha=5.6;, score=-10.309 total time=   0.0s\n",
      "[CV 2/5] END ................model__alpha=5.6;, score=-10.606 total time=   0.0s\n",
      "[CV 3/5] END .................model__alpha=5.6;, score=-0.029 total time=   0.0s\n",
      "[CV 4/5] END ..................model__alpha=5.6;, score=0.000 total time=   0.0s\n",
      "[CV 5/5] END ..................model__alpha=5.6;, score=0.000 total time=   0.0s\n",
      "[CV 1/5] END ................model__alpha=5.7;, score=-10.309 total time=   0.0s\n",
      "[CV 2/5] END ................model__alpha=5.7;, score=-10.606 total time=   0.0s\n",
      "[CV 3/5] END .................model__alpha=5.7;, score=-0.029 total time=   0.0s\n",
      "[CV 4/5] END ..................model__alpha=5.7;, score=0.000 total time=   0.0s\n",
      "[CV 5/5] END ..................model__alpha=5.7;, score=0.000 total time=   0.0s\n",
      "[CV 1/5] END ................model__alpha=5.8;, score=-10.309 total time=   0.0s\n",
      "[CV 2/5] END ................model__alpha=5.8;, score=-10.606 total time=   0.0s\n",
      "[CV 3/5] END .................model__alpha=5.8;, score=-0.029 total time=   0.0s\n",
      "[CV 4/5] END ..................model__alpha=5.8;, score=0.000 total time=   0.0s\n",
      "[CV 5/5] END ..................model__alpha=5.8;, score=0.000 total time=   0.0s\n",
      "[CV 1/5] END ................model__alpha=5.9;, score=-10.309 total time=   0.0s\n",
      "[CV 2/5] END ................model__alpha=5.9;, score=-10.606 total time=   0.0s\n",
      "[CV 3/5] END .................model__alpha=5.9;, score=-0.029 total time=   0.0s\n",
      "[CV 4/5] END ..................model__alpha=5.9;, score=0.000 total time=   0.0s\n",
      "[CV 5/5] END ..................model__alpha=5.9;, score=0.000 total time=   0.0s\n",
      "[CV 1/5] END ................model__alpha=6.0;, score=-10.309 total time=   0.0s\n",
      "[CV 2/5] END ................model__alpha=6.0;, score=-10.606 total time=   0.0s\n",
      "[CV 3/5] END .................model__alpha=6.0;, score=-0.029 total time=   0.0s\n",
      "[CV 4/5] END ..................model__alpha=6.0;, score=0.000 total time=   0.0s\n",
      "[CV 5/5] END ..................model__alpha=6.0;, score=0.000 total time=   0.0s\n",
      "[CV 1/5] END ................model__alpha=6.1;, score=-10.309 total time=   0.0s\n",
      "[CV 2/5] END ................model__alpha=6.1;, score=-10.606 total time=   0.0s\n",
      "[CV 3/5] END .................model__alpha=6.1;, score=-0.029 total time=   0.0s\n",
      "[CV 4/5] END ..................model__alpha=6.1;, score=0.000 total time=   0.0s\n",
      "[CV 5/5] END ..................model__alpha=6.1;, score=0.000 total time=   0.0s\n",
      "[CV 1/5] END ................model__alpha=6.2;, score=-10.309 total time=   0.0s\n",
      "[CV 2/5] END ................model__alpha=6.2;, score=-10.606 total time=   0.0s\n",
      "[CV 3/5] END .................model__alpha=6.2;, score=-0.029 total time=   0.0s\n",
      "[CV 4/5] END ..................model__alpha=6.2;, score=0.000 total time=   0.0s\n",
      "[CV 5/5] END ..................model__alpha=6.2;, score=0.000 total time=   0.0s\n",
      "[CV 1/5] END ................model__alpha=6.3;, score=-10.309 total time=   0.0s\n",
      "[CV 2/5] END ................model__alpha=6.3;, score=-10.606 total time=   0.0s\n",
      "[CV 3/5] END .................model__alpha=6.3;, score=-0.029 total time=   0.0s\n",
      "[CV 4/5] END ..................model__alpha=6.3;, score=0.000 total time=   0.0s\n",
      "[CV 5/5] END ..................model__alpha=6.3;, score=0.000 total time=   0.0s\n",
      "[CV 1/5] END ................model__alpha=6.4;, score=-10.309 total time=   0.0s\n",
      "[CV 2/5] END ................model__alpha=6.4;, score=-10.606 total time=   0.0s\n",
      "[CV 3/5] END .................model__alpha=6.4;, score=-0.029 total time=   0.0s\n",
      "[CV 4/5] END ..................model__alpha=6.4;, score=0.000 total time=   0.0s\n",
      "[CV 5/5] END ..................model__alpha=6.4;, score=0.000 total time=   0.0s\n",
      "[CV 1/5] END ................model__alpha=6.5;, score=-10.309 total time=   0.0s\n",
      "[CV 2/5] END ................model__alpha=6.5;, score=-10.606 total time=   0.0s\n",
      "[CV 3/5] END .................model__alpha=6.5;, score=-0.029 total time=   0.0s\n",
      "[CV 4/5] END ..................model__alpha=6.5;, score=0.000 total time=   0.0s\n",
      "[CV 5/5] END ..................model__alpha=6.5;, score=0.000 total time=   0.0s\n",
      "[CV 1/5] END ................model__alpha=6.6;, score=-10.309 total time=   0.0s\n",
      "[CV 2/5] END ................model__alpha=6.6;, score=-10.606 total time=   0.0s\n",
      "[CV 3/5] END .................model__alpha=6.6;, score=-0.029 total time=   0.0s\n",
      "[CV 4/5] END ..................model__alpha=6.6;, score=0.000 total time=   0.0s\n",
      "[CV 5/5] END ..................model__alpha=6.6;, score=0.000 total time=   0.0s\n",
      "[CV 1/5] END ................model__alpha=6.7;, score=-10.309 total time=   0.0s\n",
      "[CV 2/5] END ................model__alpha=6.7;, score=-10.606 total time=   0.0s\n"
     ]
    },
    {
     "name": "stdout",
     "output_type": "stream",
     "text": [
      "[CV 3/5] END .................model__alpha=6.7;, score=-0.029 total time=   0.0s\n",
      "[CV 4/5] END ..................model__alpha=6.7;, score=0.000 total time=   0.0s\n",
      "[CV 5/5] END ..................model__alpha=6.7;, score=0.000 total time=   0.0s\n",
      "[CV 1/5] END ................model__alpha=6.8;, score=-10.309 total time=   0.0s\n",
      "[CV 2/5] END ................model__alpha=6.8;, score=-10.606 total time=   0.0s\n",
      "[CV 3/5] END .................model__alpha=6.8;, score=-0.029 total time=   0.0s\n",
      "[CV 4/5] END ..................model__alpha=6.8;, score=0.000 total time=   0.0s\n",
      "[CV 5/5] END ..................model__alpha=6.8;, score=0.000 total time=   0.0s\n",
      "[CV 1/5] END ................model__alpha=6.9;, score=-10.309 total time=   0.0s\n",
      "[CV 2/5] END ................model__alpha=6.9;, score=-10.606 total time=   0.0s\n",
      "[CV 3/5] END .................model__alpha=6.9;, score=-0.029 total time=   0.0s\n",
      "[CV 4/5] END ..................model__alpha=6.9;, score=0.000 total time=   0.0s\n",
      "[CV 5/5] END ..................model__alpha=6.9;, score=0.000 total time=   0.0s\n",
      "[CV 1/5] END ................model__alpha=7.0;, score=-10.309 total time=   0.0s\n",
      "[CV 2/5] END ................model__alpha=7.0;, score=-10.606 total time=   0.0s\n",
      "[CV 3/5] END .................model__alpha=7.0;, score=-0.029 total time=   0.0s\n",
      "[CV 4/5] END ..................model__alpha=7.0;, score=0.000 total time=   0.0s\n",
      "[CV 5/5] END ..................model__alpha=7.0;, score=0.000 total time=   0.0s\n",
      "[CV 1/5] END ................model__alpha=7.1;, score=-10.309 total time=   0.0s\n",
      "[CV 2/5] END ................model__alpha=7.1;, score=-10.606 total time=   0.0s\n",
      "[CV 3/5] END .................model__alpha=7.1;, score=-0.029 total time=   0.0s\n",
      "[CV 4/5] END ..................model__alpha=7.1;, score=0.000 total time=   0.0s\n",
      "[CV 5/5] END ..................model__alpha=7.1;, score=0.000 total time=   0.0s\n",
      "[CV 1/5] END ................model__alpha=7.2;, score=-10.309 total time=   0.0s\n",
      "[CV 2/5] END ................model__alpha=7.2;, score=-10.606 total time=   0.0s\n",
      "[CV 3/5] END .................model__alpha=7.2;, score=-0.029 total time=   0.0s\n",
      "[CV 4/5] END ..................model__alpha=7.2;, score=0.000 total time=   0.0s\n",
      "[CV 5/5] END ..................model__alpha=7.2;, score=0.000 total time=   0.0s\n",
      "[CV 1/5] END ................model__alpha=7.3;, score=-10.309 total time=   0.0s\n",
      "[CV 2/5] END ................model__alpha=7.3;, score=-10.606 total time=   0.0s\n",
      "[CV 3/5] END .................model__alpha=7.3;, score=-0.029 total time=   0.0s\n",
      "[CV 4/5] END ..................model__alpha=7.3;, score=0.000 total time=   0.0s\n",
      "[CV 5/5] END ..................model__alpha=7.3;, score=0.000 total time=   0.0s\n",
      "[CV 1/5] END ................model__alpha=7.4;, score=-10.309 total time=   0.0s\n",
      "[CV 2/5] END ................model__alpha=7.4;, score=-10.606 total time=   0.0s\n",
      "[CV 3/5] END .................model__alpha=7.4;, score=-0.029 total time=   0.0s\n",
      "[CV 4/5] END ..................model__alpha=7.4;, score=0.000 total time=   0.0s\n",
      "[CV 5/5] END ..................model__alpha=7.4;, score=0.000 total time=   0.0s\n",
      "[CV 1/5] END ................model__alpha=7.5;, score=-10.309 total time=   0.0s\n",
      "[CV 2/5] END ................model__alpha=7.5;, score=-10.606 total time=   0.0s\n",
      "[CV 3/5] END .................model__alpha=7.5;, score=-0.029 total time=   0.0s\n",
      "[CV 4/5] END ..................model__alpha=7.5;, score=0.000 total time=   0.0s\n",
      "[CV 5/5] END ..................model__alpha=7.5;, score=0.000 total time=   0.0s\n",
      "[CV 1/5] END ................model__alpha=7.6;, score=-10.309 total time=   0.0s\n",
      "[CV 2/5] END ................model__alpha=7.6;, score=-10.606 total time=   0.0s\n",
      "[CV 3/5] END .................model__alpha=7.6;, score=-0.029 total time=   0.0s\n",
      "[CV 4/5] END ..................model__alpha=7.6;, score=0.000 total time=   0.0s\n",
      "[CV 5/5] END ..................model__alpha=7.6;, score=0.000 total time=   0.0s\n",
      "[CV 1/5] END ................model__alpha=7.7;, score=-10.309 total time=   0.0s\n",
      "[CV 2/5] END ................model__alpha=7.7;, score=-10.606 total time=   0.0s\n",
      "[CV 3/5] END .................model__alpha=7.7;, score=-0.029 total time=   0.0s\n",
      "[CV 4/5] END ..................model__alpha=7.7;, score=0.000 total time=   0.0s\n",
      "[CV 5/5] END ..................model__alpha=7.7;, score=0.000 total time=   0.0s\n",
      "[CV 1/5] END ................model__alpha=7.8;, score=-10.309 total time=   0.0s\n",
      "[CV 2/5] END ................model__alpha=7.8;, score=-10.606 total time=   0.0s\n",
      "[CV 3/5] END .................model__alpha=7.8;, score=-0.029 total time=   0.0s\n",
      "[CV 4/5] END ..................model__alpha=7.8;, score=0.000 total time=   0.0s\n",
      "[CV 5/5] END ..................model__alpha=7.8;, score=0.000 total time=   0.0s\n",
      "[CV 1/5] END ................model__alpha=7.9;, score=-10.309 total time=   0.0s\n",
      "[CV 2/5] END ................model__alpha=7.9;, score=-10.606 total time=   0.0s\n",
      "[CV 3/5] END .................model__alpha=7.9;, score=-0.029 total time=   0.0s\n",
      "[CV 4/5] END ..................model__alpha=7.9;, score=0.000 total time=   0.0s\n",
      "[CV 5/5] END ..................model__alpha=7.9;, score=0.000 total time=   0.0s\n",
      "[CV 1/5] END ................model__alpha=8.0;, score=-10.309 total time=   0.0s\n",
      "[CV 2/5] END ................model__alpha=8.0;, score=-10.606 total time=   0.0s\n",
      "[CV 3/5] END .................model__alpha=8.0;, score=-0.029 total time=   0.0s\n",
      "[CV 4/5] END ..................model__alpha=8.0;, score=0.000 total time=   0.0s\n",
      "[CV 5/5] END ..................model__alpha=8.0;, score=0.000 total time=   0.0s\n",
      "[CV 1/5] END ................model__alpha=8.1;, score=-10.309 total time=   0.0s\n",
      "[CV 2/5] END ................model__alpha=8.1;, score=-10.606 total time=   0.0s\n",
      "[CV 3/5] END .................model__alpha=8.1;, score=-0.029 total time=   0.0s\n",
      "[CV 4/5] END ..................model__alpha=8.1;, score=0.000 total time=   0.0s\n",
      "[CV 5/5] END ..................model__alpha=8.1;, score=0.000 total time=   0.0s\n",
      "[CV 1/5] END ................model__alpha=8.2;, score=-10.309 total time=   0.0s\n",
      "[CV 2/5] END ................model__alpha=8.2;, score=-10.606 total time=   0.0s\n",
      "[CV 3/5] END .................model__alpha=8.2;, score=-0.029 total time=   0.0s\n",
      "[CV 4/5] END ..................model__alpha=8.2;, score=0.000 total time=   0.0s\n",
      "[CV 5/5] END ..................model__alpha=8.2;, score=0.000 total time=   0.0s\n",
      "[CV 1/5] END ................model__alpha=8.3;, score=-10.309 total time=   0.0s\n",
      "[CV 2/5] END ................model__alpha=8.3;, score=-10.606 total time=   0.0s\n",
      "[CV 3/5] END .................model__alpha=8.3;, score=-0.029 total time=   0.0s\n",
      "[CV 4/5] END ..................model__alpha=8.3;, score=0.000 total time=   0.0s\n",
      "[CV 5/5] END ..................model__alpha=8.3;, score=0.000 total time=   0.0s\n",
      "[CV 1/5] END ................model__alpha=8.4;, score=-10.309 total time=   0.0s\n",
      "[CV 2/5] END ................model__alpha=8.4;, score=-10.606 total time=   0.0s\n",
      "[CV 3/5] END .................model__alpha=8.4;, score=-0.029 total time=   0.0s\n",
      "[CV 4/5] END ..................model__alpha=8.4;, score=0.000 total time=   0.0s\n",
      "[CV 5/5] END ..................model__alpha=8.4;, score=0.000 total time=   0.0s\n",
      "[CV 1/5] END ................model__alpha=8.5;, score=-10.309 total time=   0.0s\n",
      "[CV 2/5] END ................model__alpha=8.5;, score=-10.606 total time=   0.0s\n",
      "[CV 3/5] END .................model__alpha=8.5;, score=-0.029 total time=   0.0s\n",
      "[CV 4/5] END ..................model__alpha=8.5;, score=0.000 total time=   0.0s\n",
      "[CV 5/5] END ..................model__alpha=8.5;, score=0.000 total time=   0.0s\n",
      "[CV 1/5] END ................model__alpha=8.6;, score=-10.309 total time=   0.0s\n",
      "[CV 2/5] END ................model__alpha=8.6;, score=-10.606 total time=   0.0s\n",
      "[CV 3/5] END .................model__alpha=8.6;, score=-0.029 total time=   0.0s\n",
      "[CV 4/5] END ..................model__alpha=8.6;, score=0.000 total time=   0.0s\n",
      "[CV 5/5] END ..................model__alpha=8.6;, score=0.000 total time=   0.0s\n",
      "[CV 1/5] END ................model__alpha=8.7;, score=-10.309 total time=   0.0s\n",
      "[CV 2/5] END ................model__alpha=8.7;, score=-10.606 total time=   0.0s\n",
      "[CV 3/5] END .................model__alpha=8.7;, score=-0.029 total time=   0.0s\n",
      "[CV 4/5] END ..................model__alpha=8.7;, score=0.000 total time=   0.0s\n",
      "[CV 5/5] END ..................model__alpha=8.7;, score=0.000 total time=   0.0s\n",
      "[CV 1/5] END ................model__alpha=8.8;, score=-10.309 total time=   0.0s\n",
      "[CV 2/5] END ................model__alpha=8.8;, score=-10.606 total time=   0.0s\n",
      "[CV 3/5] END .................model__alpha=8.8;, score=-0.029 total time=   0.0s\n",
      "[CV 4/5] END ..................model__alpha=8.8;, score=0.000 total time=   0.0s\n",
      "[CV 5/5] END ..................model__alpha=8.8;, score=0.000 total time=   0.0s\n",
      "[CV 1/5] END ................model__alpha=8.9;, score=-10.309 total time=   0.0s\n",
      "[CV 2/5] END ................model__alpha=8.9;, score=-10.606 total time=   0.0s\n",
      "[CV 3/5] END .................model__alpha=8.9;, score=-0.029 total time=   0.0s\n",
      "[CV 4/5] END ..................model__alpha=8.9;, score=0.000 total time=   0.0s\n",
      "[CV 5/5] END ..................model__alpha=8.9;, score=0.000 total time=   0.0s\n",
      "[CV 1/5] END ................model__alpha=9.0;, score=-10.309 total time=   0.0s\n",
      "[CV 2/5] END ................model__alpha=9.0;, score=-10.606 total time=   0.0s\n",
      "[CV 3/5] END .................model__alpha=9.0;, score=-0.029 total time=   0.0s\n",
      "[CV 4/5] END ..................model__alpha=9.0;, score=0.000 total time=   0.0s\n",
      "[CV 5/5] END ..................model__alpha=9.0;, score=0.000 total time=   0.0s\n",
      "[CV 1/5] END ................model__alpha=9.1;, score=-10.309 total time=   0.0s\n",
      "[CV 2/5] END ................model__alpha=9.1;, score=-10.606 total time=   0.0s\n",
      "[CV 3/5] END .................model__alpha=9.1;, score=-0.029 total time=   0.0s\n",
      "[CV 4/5] END ..................model__alpha=9.1;, score=0.000 total time=   0.0s\n",
      "[CV 5/5] END ..................model__alpha=9.1;, score=0.000 total time=   0.0s\n",
      "[CV 1/5] END ................model__alpha=9.2;, score=-10.309 total time=   0.0s\n",
      "[CV 2/5] END ................model__alpha=9.2;, score=-10.606 total time=   0.0s\n"
     ]
    },
    {
     "name": "stdout",
     "output_type": "stream",
     "text": [
      "[CV 3/5] END .................model__alpha=9.2;, score=-0.029 total time=   0.0s\n",
      "[CV 4/5] END ..................model__alpha=9.2;, score=0.000 total time=   0.0s\n",
      "[CV 5/5] END ..................model__alpha=9.2;, score=0.000 total time=   0.0s\n",
      "[CV 1/5] END ................model__alpha=9.3;, score=-10.309 total time=   0.0s\n",
      "[CV 2/5] END ................model__alpha=9.3;, score=-10.606 total time=   0.0s\n",
      "[CV 3/5] END .................model__alpha=9.3;, score=-0.029 total time=   0.0s\n",
      "[CV 4/5] END ..................model__alpha=9.3;, score=0.000 total time=   0.0s\n",
      "[CV 5/5] END ..................model__alpha=9.3;, score=0.000 total time=   0.0s\n",
      "[CV 1/5] END ................model__alpha=9.4;, score=-10.309 total time=   0.0s\n",
      "[CV 2/5] END ................model__alpha=9.4;, score=-10.606 total time=   0.0s\n",
      "[CV 3/5] END .................model__alpha=9.4;, score=-0.029 total time=   0.0s\n",
      "[CV 4/5] END ..................model__alpha=9.4;, score=0.000 total time=   0.0s\n",
      "[CV 5/5] END ..................model__alpha=9.4;, score=0.000 total time=   0.0s\n",
      "[CV 1/5] END ................model__alpha=9.5;, score=-10.309 total time=   0.0s\n",
      "[CV 2/5] END ................model__alpha=9.5;, score=-10.606 total time=   0.0s\n",
      "[CV 3/5] END .................model__alpha=9.5;, score=-0.029 total time=   0.0s\n",
      "[CV 4/5] END ..................model__alpha=9.5;, score=0.000 total time=   0.0s\n",
      "[CV 5/5] END ..................model__alpha=9.5;, score=0.000 total time=   0.0s\n",
      "[CV 1/5] END ................model__alpha=9.6;, score=-10.309 total time=   0.0s\n",
      "[CV 2/5] END ................model__alpha=9.6;, score=-10.606 total time=   0.0s\n",
      "[CV 3/5] END .................model__alpha=9.6;, score=-0.029 total time=   0.0s\n",
      "[CV 4/5] END ..................model__alpha=9.6;, score=0.000 total time=   0.0s\n",
      "[CV 5/5] END ..................model__alpha=9.6;, score=0.000 total time=   0.0s\n",
      "[CV 1/5] END ..model__alpha=9.700000000000001;, score=-10.309 total time=   0.0s\n",
      "[CV 2/5] END ..model__alpha=9.700000000000001;, score=-10.606 total time=   0.0s\n",
      "[CV 3/5] END ...model__alpha=9.700000000000001;, score=-0.029 total time=   0.0s\n",
      "[CV 4/5] END ....model__alpha=9.700000000000001;, score=0.000 total time=   0.0s\n",
      "[CV 5/5] END ....model__alpha=9.700000000000001;, score=0.000 total time=   0.0s\n",
      "[CV 1/5] END ................model__alpha=9.8;, score=-10.309 total time=   0.0s\n",
      "[CV 2/5] END ................model__alpha=9.8;, score=-10.606 total time=   0.0s\n",
      "[CV 3/5] END .................model__alpha=9.8;, score=-0.029 total time=   0.0s\n",
      "[CV 4/5] END ..................model__alpha=9.8;, score=0.000 total time=   0.0s\n",
      "[CV 5/5] END ..................model__alpha=9.8;, score=0.000 total time=   0.0s\n",
      "[CV 1/5] END ................model__alpha=9.9;, score=-10.309 total time=   0.0s\n",
      "[CV 2/5] END ................model__alpha=9.9;, score=-10.606 total time=   0.0s\n",
      "[CV 3/5] END .................model__alpha=9.9;, score=-0.029 total time=   0.0s\n",
      "[CV 4/5] END ..................model__alpha=9.9;, score=0.000 total time=   0.0s\n",
      "[CV 5/5] END ..................model__alpha=9.9;, score=0.000 total time=   0.0s\n"
     ]
    },
    {
     "data": {
      "text/html": [
       "<style>#sk-container-id-1 {color: black;background-color: white;}#sk-container-id-1 pre{padding: 0;}#sk-container-id-1 div.sk-toggleable {background-color: white;}#sk-container-id-1 label.sk-toggleable__label {cursor: pointer;display: block;width: 100%;margin-bottom: 0;padding: 0.3em;box-sizing: border-box;text-align: center;}#sk-container-id-1 label.sk-toggleable__label-arrow:before {content: \"▸\";float: left;margin-right: 0.25em;color: #696969;}#sk-container-id-1 label.sk-toggleable__label-arrow:hover:before {color: black;}#sk-container-id-1 div.sk-estimator:hover label.sk-toggleable__label-arrow:before {color: black;}#sk-container-id-1 div.sk-toggleable__content {max-height: 0;max-width: 0;overflow: hidden;text-align: left;background-color: #f0f8ff;}#sk-container-id-1 div.sk-toggleable__content pre {margin: 0.2em;color: black;border-radius: 0.25em;background-color: #f0f8ff;}#sk-container-id-1 input.sk-toggleable__control:checked~div.sk-toggleable__content {max-height: 200px;max-width: 100%;overflow: auto;}#sk-container-id-1 input.sk-toggleable__control:checked~label.sk-toggleable__label-arrow:before {content: \"▾\";}#sk-container-id-1 div.sk-estimator input.sk-toggleable__control:checked~label.sk-toggleable__label {background-color: #d4ebff;}#sk-container-id-1 div.sk-label input.sk-toggleable__control:checked~label.sk-toggleable__label {background-color: #d4ebff;}#sk-container-id-1 input.sk-hidden--visually {border: 0;clip: rect(1px 1px 1px 1px);clip: rect(1px, 1px, 1px, 1px);height: 1px;margin: -1px;overflow: hidden;padding: 0;position: absolute;width: 1px;}#sk-container-id-1 div.sk-estimator {font-family: monospace;background-color: #f0f8ff;border: 1px dotted black;border-radius: 0.25em;box-sizing: border-box;margin-bottom: 0.5em;}#sk-container-id-1 div.sk-estimator:hover {background-color: #d4ebff;}#sk-container-id-1 div.sk-parallel-item::after {content: \"\";width: 100%;border-bottom: 1px solid gray;flex-grow: 1;}#sk-container-id-1 div.sk-label:hover label.sk-toggleable__label {background-color: #d4ebff;}#sk-container-id-1 div.sk-serial::before {content: \"\";position: absolute;border-left: 1px solid gray;box-sizing: border-box;top: 0;bottom: 0;left: 50%;z-index: 0;}#sk-container-id-1 div.sk-serial {display: flex;flex-direction: column;align-items: center;background-color: white;padding-right: 0.2em;padding-left: 0.2em;position: relative;}#sk-container-id-1 div.sk-item {position: relative;z-index: 1;}#sk-container-id-1 div.sk-parallel {display: flex;align-items: stretch;justify-content: center;background-color: white;position: relative;}#sk-container-id-1 div.sk-item::before, #sk-container-id-1 div.sk-parallel-item::before {content: \"\";position: absolute;border-left: 1px solid gray;box-sizing: border-box;top: 0;bottom: 0;left: 50%;z-index: -1;}#sk-container-id-1 div.sk-parallel-item {display: flex;flex-direction: column;z-index: 1;position: relative;background-color: white;}#sk-container-id-1 div.sk-parallel-item:first-child::after {align-self: flex-end;width: 50%;}#sk-container-id-1 div.sk-parallel-item:last-child::after {align-self: flex-start;width: 50%;}#sk-container-id-1 div.sk-parallel-item:only-child::after {width: 0;}#sk-container-id-1 div.sk-dashed-wrapped {border: 1px dashed gray;margin: 0 0.4em 0.5em 0.4em;box-sizing: border-box;padding-bottom: 0.4em;background-color: white;}#sk-container-id-1 div.sk-label label {font-family: monospace;font-weight: bold;display: inline-block;line-height: 1.2em;}#sk-container-id-1 div.sk-label-container {text-align: center;}#sk-container-id-1 div.sk-container {/* jupyter's `normalize.less` sets `[hidden] { display: none; }` but bootstrap.min.css set `[hidden] { display: none !important; }` so we also need the `!important` here to be able to override the default hidden behavior on the sphinx rendered scikit-learn.org. See: https://github.com/scikit-learn/scikit-learn/issues/21755 */display: inline-block !important;position: relative;}#sk-container-id-1 div.sk-text-repr-fallback {display: none;}</style><div id=\"sk-container-id-1\" class=\"sk-top-container\"><div class=\"sk-text-repr-fallback\"><pre>GridSearchCV(cv=5,\n",
       "             estimator=Pipeline(steps=[(&#x27;scaler&#x27;, StandardScaler()),\n",
       "                                       (&#x27;model&#x27;, Lasso())]),\n",
       "             param_grid={&#x27;model__alpha&#x27;: array([0.1, 0.2, 0.3, 0.4, 0.5, 0.6, 0.7, 0.8, 0.9, 1. , 1.1, 1.2, 1.3,\n",
       "       1.4, 1.5, 1.6, 1.7, 1.8, 1.9, 2. , 2.1, 2.2, 2.3, 2.4, 2.5, 2.6,\n",
       "       2.7, 2.8, 2.9, 3. , 3.1, 3.2, 3.3, 3.4, 3.5, 3.6, 3.7, 3.8, 3.9,\n",
       "       4. , 4.1, 4.2, 4.3, 4.4, 4.5, 4.6, 4.7, 4.8, 4.9, 5. , 5.1, 5.2,\n",
       "       5.3, 5.4, 5.5, 5.6, 5.7, 5.8, 5.9, 6. , 6.1, 6.2, 6.3, 6.4, 6.5,\n",
       "       6.6, 6.7, 6.8, 6.9, 7. , 7.1, 7.2, 7.3, 7.4, 7.5, 7.6, 7.7, 7.8,\n",
       "       7.9, 8. , 8.1, 8.2, 8.3, 8.4, 8.5, 8.6, 8.7, 8.8, 8.9, 9. , 9.1,\n",
       "       9.2, 9.3, 9.4, 9.5, 9.6, 9.7, 9.8, 9.9])},\n",
       "             verbose=3)</pre><b>In a Jupyter environment, please rerun this cell to show the HTML representation or trust the notebook. <br />On GitHub, the HTML representation is unable to render, please try loading this page with nbviewer.org.</b></div><div class=\"sk-container\" hidden><div class=\"sk-item sk-dashed-wrapped\"><div class=\"sk-label-container\"><div class=\"sk-label sk-toggleable\"><input class=\"sk-toggleable__control sk-hidden--visually\" id=\"sk-estimator-id-1\" type=\"checkbox\" ><label for=\"sk-estimator-id-1\" class=\"sk-toggleable__label sk-toggleable__label-arrow\">GridSearchCV</label><div class=\"sk-toggleable__content\"><pre>GridSearchCV(cv=5,\n",
       "             estimator=Pipeline(steps=[(&#x27;scaler&#x27;, StandardScaler()),\n",
       "                                       (&#x27;model&#x27;, Lasso())]),\n",
       "             param_grid={&#x27;model__alpha&#x27;: array([0.1, 0.2, 0.3, 0.4, 0.5, 0.6, 0.7, 0.8, 0.9, 1. , 1.1, 1.2, 1.3,\n",
       "       1.4, 1.5, 1.6, 1.7, 1.8, 1.9, 2. , 2.1, 2.2, 2.3, 2.4, 2.5, 2.6,\n",
       "       2.7, 2.8, 2.9, 3. , 3.1, 3.2, 3.3, 3.4, 3.5, 3.6, 3.7, 3.8, 3.9,\n",
       "       4. , 4.1, 4.2, 4.3, 4.4, 4.5, 4.6, 4.7, 4.8, 4.9, 5. , 5.1, 5.2,\n",
       "       5.3, 5.4, 5.5, 5.6, 5.7, 5.8, 5.9, 6. , 6.1, 6.2, 6.3, 6.4, 6.5,\n",
       "       6.6, 6.7, 6.8, 6.9, 7. , 7.1, 7.2, 7.3, 7.4, 7.5, 7.6, 7.7, 7.8,\n",
       "       7.9, 8. , 8.1, 8.2, 8.3, 8.4, 8.5, 8.6, 8.7, 8.8, 8.9, 9. , 9.1,\n",
       "       9.2, 9.3, 9.4, 9.5, 9.6, 9.7, 9.8, 9.9])},\n",
       "             verbose=3)</pre></div></div></div><div class=\"sk-parallel\"><div class=\"sk-parallel-item\"><div class=\"sk-item\"><div class=\"sk-label-container\"><div class=\"sk-label sk-toggleable\"><input class=\"sk-toggleable__control sk-hidden--visually\" id=\"sk-estimator-id-2\" type=\"checkbox\" ><label for=\"sk-estimator-id-2\" class=\"sk-toggleable__label sk-toggleable__label-arrow\">estimator: Pipeline</label><div class=\"sk-toggleable__content\"><pre>Pipeline(steps=[(&#x27;scaler&#x27;, StandardScaler()), (&#x27;model&#x27;, Lasso())])</pre></div></div></div><div class=\"sk-serial\"><div class=\"sk-item\"><div class=\"sk-serial\"><div class=\"sk-item\"><div class=\"sk-estimator sk-toggleable\"><input class=\"sk-toggleable__control sk-hidden--visually\" id=\"sk-estimator-id-3\" type=\"checkbox\" ><label for=\"sk-estimator-id-3\" class=\"sk-toggleable__label sk-toggleable__label-arrow\">StandardScaler</label><div class=\"sk-toggleable__content\"><pre>StandardScaler()</pre></div></div></div><div class=\"sk-item\"><div class=\"sk-estimator sk-toggleable\"><input class=\"sk-toggleable__control sk-hidden--visually\" id=\"sk-estimator-id-4\" type=\"checkbox\" ><label for=\"sk-estimator-id-4\" class=\"sk-toggleable__label sk-toggleable__label-arrow\">Lasso</label><div class=\"sk-toggleable__content\"><pre>Lasso()</pre></div></div></div></div></div></div></div></div></div></div></div></div>"
      ],
      "text/plain": [
       "GridSearchCV(cv=5,\n",
       "             estimator=Pipeline(steps=[('scaler', StandardScaler()),\n",
       "                                       ('model', Lasso())]),\n",
       "             param_grid={'model__alpha': array([0.1, 0.2, 0.3, 0.4, 0.5, 0.6, 0.7, 0.8, 0.9, 1. , 1.1, 1.2, 1.3,\n",
       "       1.4, 1.5, 1.6, 1.7, 1.8, 1.9, 2. , 2.1, 2.2, 2.3, 2.4, 2.5, 2.6,\n",
       "       2.7, 2.8, 2.9, 3. , 3.1, 3.2, 3.3, 3.4, 3.5, 3.6, 3.7, 3.8, 3.9,\n",
       "       4. , 4.1, 4.2, 4.3, 4.4, 4.5, 4.6, 4.7, 4.8, 4.9, 5. , 5.1, 5.2,\n",
       "       5.3, 5.4, 5.5, 5.6, 5.7, 5.8, 5.9, 6. , 6.1, 6.2, 6.3, 6.4, 6.5,\n",
       "       6.6, 6.7, 6.8, 6.9, 7. , 7.1, 7.2, 7.3, 7.4, 7.5, 7.6, 7.7, 7.8,\n",
       "       7.9, 8. , 8.1, 8.2, 8.3, 8.4, 8.5, 8.6, 8.7, 8.8, 8.9, 9. , 9.1,\n",
       "       9.2, 9.3, 9.4, 9.5, 9.6, 9.7, 9.8, 9.9])},\n",
       "             verbose=3)"
      ]
     },
     "execution_count": 11,
     "metadata": {},
     "output_type": "execute_result"
    }
   ],
   "source": [
    "search.fit(X_train,y_train)"
   ]
  },
  {
   "cell_type": "code",
   "execution_count": 12,
   "id": "e143ed7a",
   "metadata": {},
   "outputs": [
    {
     "data": {
      "text/plain": [
       "{'model__alpha': 0.1}"
      ]
     },
     "execution_count": 12,
     "metadata": {},
     "output_type": "execute_result"
    }
   ],
   "source": [
    "search.best_params_"
   ]
  },
  {
   "cell_type": "code",
   "execution_count": 13,
   "id": "fa205f6b",
   "metadata": {},
   "outputs": [],
   "source": [
    "coefficients = search.best_estimator_.named_steps['model'].coef_"
   ]
  },
  {
   "cell_type": "code",
   "execution_count": 14,
   "id": "376c6082",
   "metadata": {},
   "outputs": [
    {
     "data": {
      "text/plain": [
       "array([0.05083778, 0.        , 0.        , 0.0860414 , 0.        ,\n",
       "       0.        , 0.        , 0.01892239])"
      ]
     },
     "execution_count": 14,
     "metadata": {},
     "output_type": "execute_result"
    }
   ],
   "source": [
    "importance = np.abs(coefficients)\n",
    "importance"
   ]
  },
  {
   "cell_type": "code",
   "execution_count": 15,
   "id": "503fcc4e",
   "metadata": {},
   "outputs": [
    {
     "data": {
      "text/plain": [
       "array(['air_temp', 'torque', 'Type_M'], dtype=object)"
      ]
     },
     "execution_count": 15,
     "metadata": {},
     "output_type": "execute_result"
    }
   ],
   "source": [
    "features=df.columns\n",
    "features_lasso=np.array(features[:-1])[importance > 0]\n",
    "features_lasso"
   ]
  },
  {
   "cell_type": "code",
   "execution_count": 16,
   "id": "057f0a2c",
   "metadata": {},
   "outputs": [
    {
     "data": {
      "text/plain": [
       "array(['process_temp', 'rot_speed', 'tool_wear', 'Type_H', 'Type_L'],\n",
       "      dtype=object)"
      ]
     },
     "execution_count": 16,
     "metadata": {},
     "output_type": "execute_result"
    }
   ],
   "source": [
    "np.array(features[:-1])[importance == 0]"
   ]
  },
  {
   "cell_type": "markdown",
   "id": "a37f3cb2",
   "metadata": {},
   "source": [
    "##### Best features selected from lasso using it on Random Forest and SVM Models"
   ]
  },
  {
   "cell_type": "code",
   "execution_count": 17,
   "id": "452e3732",
   "metadata": {},
   "outputs": [],
   "source": [
    "from sklearn.ensemble import RandomForestClassifier\n",
    "model = RandomForestClassifier(n_estimators = 36, \n",
    "                               max_features = \"sqrt\", \n",
    "                               max_depth = 20,\n",
    "                               oob_score = True)\n"
   ]
  },
  {
   "cell_type": "code",
   "execution_count": 18,
   "id": "ab31348d",
   "metadata": {},
   "outputs": [
    {
     "name": "stdout",
     "output_type": "stream",
     "text": [
      "Random Forest Classification Report on validation data using best model\n",
      "[[1777  155]\n",
      " [  31   37]]\n",
      "              precision    recall  f1-score   support\n",
      "\n",
      "           0       0.98      0.92      0.95      1932\n",
      "           1       0.19      0.54      0.28        68\n",
      "\n",
      "    accuracy                           0.91      2000\n",
      "   macro avg       0.59      0.73      0.62      2000\n",
      "weighted avg       0.96      0.91      0.93      2000\n",
      " \n",
      "\n"
     ]
    }
   ],
   "source": [
    "from sklearn.metrics import confusion_matrix, accuracy_score, classification_report\n",
    "model.fit(X_train[features_lasso], y_train)\n",
    "forest_y_pred = model.predict(X_valid[features_lasso])\n",
    "print(f\"Random Forest Classification Report on validation data using best model\")\n",
    "cm=confusion_matrix(y_valid, forest_y_pred)\n",
    "print(cm)\n",
    "print(classification_report(y_valid, forest_y_pred), \"\\n\")"
   ]
  },
  {
   "cell_type": "code",
   "execution_count": 19,
   "id": "110f3e43",
   "metadata": {},
   "outputs": [],
   "source": [
    "X_train2=X_train[features_lasso]\n",
    "X_valid2=X_valid[features_lasso]\n",
    "X_test2=X_test[features_lasso]\n",
    "scaler = StandardScaler().fit(X_train2)\n",
    "X_train_scaled1 = scaler.transform(X_train2)\n",
    "\n",
    "X_valid_scaled1= scaler.transform(X_valid2)\n",
    "X_test_scaled1 = scaler.transform(X_test2)"
   ]
  },
  {
   "cell_type": "code",
   "execution_count": 20,
   "id": "ed37d52f",
   "metadata": {},
   "outputs": [
    {
     "data": {
      "text/html": [
       "<style>#sk-container-id-2 {color: black;background-color: white;}#sk-container-id-2 pre{padding: 0;}#sk-container-id-2 div.sk-toggleable {background-color: white;}#sk-container-id-2 label.sk-toggleable__label {cursor: pointer;display: block;width: 100%;margin-bottom: 0;padding: 0.3em;box-sizing: border-box;text-align: center;}#sk-container-id-2 label.sk-toggleable__label-arrow:before {content: \"▸\";float: left;margin-right: 0.25em;color: #696969;}#sk-container-id-2 label.sk-toggleable__label-arrow:hover:before {color: black;}#sk-container-id-2 div.sk-estimator:hover label.sk-toggleable__label-arrow:before {color: black;}#sk-container-id-2 div.sk-toggleable__content {max-height: 0;max-width: 0;overflow: hidden;text-align: left;background-color: #f0f8ff;}#sk-container-id-2 div.sk-toggleable__content pre {margin: 0.2em;color: black;border-radius: 0.25em;background-color: #f0f8ff;}#sk-container-id-2 input.sk-toggleable__control:checked~div.sk-toggleable__content {max-height: 200px;max-width: 100%;overflow: auto;}#sk-container-id-2 input.sk-toggleable__control:checked~label.sk-toggleable__label-arrow:before {content: \"▾\";}#sk-container-id-2 div.sk-estimator input.sk-toggleable__control:checked~label.sk-toggleable__label {background-color: #d4ebff;}#sk-container-id-2 div.sk-label input.sk-toggleable__control:checked~label.sk-toggleable__label {background-color: #d4ebff;}#sk-container-id-2 input.sk-hidden--visually {border: 0;clip: rect(1px 1px 1px 1px);clip: rect(1px, 1px, 1px, 1px);height: 1px;margin: -1px;overflow: hidden;padding: 0;position: absolute;width: 1px;}#sk-container-id-2 div.sk-estimator {font-family: monospace;background-color: #f0f8ff;border: 1px dotted black;border-radius: 0.25em;box-sizing: border-box;margin-bottom: 0.5em;}#sk-container-id-2 div.sk-estimator:hover {background-color: #d4ebff;}#sk-container-id-2 div.sk-parallel-item::after {content: \"\";width: 100%;border-bottom: 1px solid gray;flex-grow: 1;}#sk-container-id-2 div.sk-label:hover label.sk-toggleable__label {background-color: #d4ebff;}#sk-container-id-2 div.sk-serial::before {content: \"\";position: absolute;border-left: 1px solid gray;box-sizing: border-box;top: 0;bottom: 0;left: 50%;z-index: 0;}#sk-container-id-2 div.sk-serial {display: flex;flex-direction: column;align-items: center;background-color: white;padding-right: 0.2em;padding-left: 0.2em;position: relative;}#sk-container-id-2 div.sk-item {position: relative;z-index: 1;}#sk-container-id-2 div.sk-parallel {display: flex;align-items: stretch;justify-content: center;background-color: white;position: relative;}#sk-container-id-2 div.sk-item::before, #sk-container-id-2 div.sk-parallel-item::before {content: \"\";position: absolute;border-left: 1px solid gray;box-sizing: border-box;top: 0;bottom: 0;left: 50%;z-index: -1;}#sk-container-id-2 div.sk-parallel-item {display: flex;flex-direction: column;z-index: 1;position: relative;background-color: white;}#sk-container-id-2 div.sk-parallel-item:first-child::after {align-self: flex-end;width: 50%;}#sk-container-id-2 div.sk-parallel-item:last-child::after {align-self: flex-start;width: 50%;}#sk-container-id-2 div.sk-parallel-item:only-child::after {width: 0;}#sk-container-id-2 div.sk-dashed-wrapped {border: 1px dashed gray;margin: 0 0.4em 0.5em 0.4em;box-sizing: border-box;padding-bottom: 0.4em;background-color: white;}#sk-container-id-2 div.sk-label label {font-family: monospace;font-weight: bold;display: inline-block;line-height: 1.2em;}#sk-container-id-2 div.sk-label-container {text-align: center;}#sk-container-id-2 div.sk-container {/* jupyter's `normalize.less` sets `[hidden] { display: none; }` but bootstrap.min.css set `[hidden] { display: none !important; }` so we also need the `!important` here to be able to override the default hidden behavior on the sphinx rendered scikit-learn.org. See: https://github.com/scikit-learn/scikit-learn/issues/21755 */display: inline-block !important;position: relative;}#sk-container-id-2 div.sk-text-repr-fallback {display: none;}</style><div id=\"sk-container-id-2\" class=\"sk-top-container\"><div class=\"sk-text-repr-fallback\"><pre>SVC(C=5.0, degree=2, gamma=0.1, kernel=&#x27;poly&#x27;)</pre><b>In a Jupyter environment, please rerun this cell to show the HTML representation or trust the notebook. <br />On GitHub, the HTML representation is unable to render, please try loading this page with nbviewer.org.</b></div><div class=\"sk-container\" hidden><div class=\"sk-item\"><div class=\"sk-estimator sk-toggleable\"><input class=\"sk-toggleable__control sk-hidden--visually\" id=\"sk-estimator-id-5\" type=\"checkbox\" checked><label for=\"sk-estimator-id-5\" class=\"sk-toggleable__label sk-toggleable__label-arrow\">SVC</label><div class=\"sk-toggleable__content\"><pre>SVC(C=5.0, degree=2, gamma=0.1, kernel=&#x27;poly&#x27;)</pre></div></div></div></div></div>"
      ],
      "text/plain": [
       "SVC(C=5.0, degree=2, gamma=0.1, kernel='poly')"
      ]
     },
     "execution_count": 20,
     "metadata": {},
     "output_type": "execute_result"
    }
   ],
   "source": [
    "from sklearn.svm import SVC\n",
    "model1=SVC(kernel='poly', gamma= 0.1, degree= 2, C=5.0)\n",
    "model1.fit(X_train_scaled1, y_train)"
   ]
  },
  {
   "cell_type": "code",
   "execution_count": 21,
   "id": "ffa03e05",
   "metadata": {},
   "outputs": [
    {
     "data": {
      "text/plain": [
       "0.7961876832844574"
      ]
     },
     "execution_count": 21,
     "metadata": {},
     "output_type": "execute_result"
    }
   ],
   "source": [
    "y_pred_train= model1.predict(X_train_scaled1)\n",
    "accuracy_score(y_train, y_pred_train)"
   ]
  },
  {
   "cell_type": "code",
   "execution_count": 22,
   "id": "b61cb5a4",
   "metadata": {},
   "outputs": [
    {
     "data": {
      "text/plain": [
       "0.765"
      ]
     },
     "execution_count": 22,
     "metadata": {},
     "output_type": "execute_result"
    }
   ],
   "source": [
    "y_pred_valid= model1.predict(X_valid_scaled1)\n",
    "accuracy_score(y_valid, y_pred_valid)"
   ]
  },
  {
   "cell_type": "code",
   "execution_count": 23,
   "id": "54f346a4",
   "metadata": {},
   "outputs": [
    {
     "name": "stdout",
     "output_type": "stream",
     "text": [
      "Support Vector Classification Report on validation data using best model\n",
      "[[1481  451]\n",
      " [  19   49]]\n",
      "              precision    recall  f1-score   support\n",
      "\n",
      "           0       0.99      0.77      0.86      1932\n",
      "           1       0.10      0.72      0.17        68\n",
      "\n",
      "    accuracy                           0.77      2000\n",
      "   macro avg       0.54      0.74      0.52      2000\n",
      "weighted avg       0.96      0.77      0.84      2000\n",
      " \n",
      "\n"
     ]
    }
   ],
   "source": [
    "print(f\"Support Vector Classification Report on validation data using best model\")\n",
    "cm=confusion_matrix(y_valid, y_pred_valid)\n",
    "print(cm)\n",
    "print(classification_report(y_valid, y_pred_valid), \"\\n\")"
   ]
  },
  {
   "cell_type": "code",
   "execution_count": 24,
   "id": "f162cc01",
   "metadata": {},
   "outputs": [],
   "source": [
    "######## If the relationship between the features and the target variable is not linear, using a linear model might not be a good idea\n",
    "######## L1 has the property that is able to shrink some of the coefficients to zero. Therefore, that feature can be removed from the model."
   ]
  },
  {
   "cell_type": "markdown",
   "id": "a20dfd6e",
   "metadata": {},
   "source": [
    "#### Correlation"
   ]
  },
  {
   "cell_type": "code",
   "execution_count": 25,
   "id": "a40d85c2",
   "metadata": {},
   "outputs": [
    {
     "name": "stderr",
     "output_type": "stream",
     "text": [
      "C:\\Users\\Student\\anaconda3\\lib\\site-packages\\sklearn\\svm\\_base.py:1225: ConvergenceWarning: Liblinear failed to converge, increase the number of iterations.\n",
      "  warnings.warn(\n"
     ]
    },
    {
     "data": {
      "text/html": [
       "<div>\n",
       "<style scoped>\n",
       "    .dataframe tbody tr th:only-of-type {\n",
       "        vertical-align: middle;\n",
       "    }\n",
       "\n",
       "    .dataframe tbody tr th {\n",
       "        vertical-align: top;\n",
       "    }\n",
       "\n",
       "    .dataframe thead th {\n",
       "        text-align: right;\n",
       "    }\n",
       "</style>\n",
       "<table border=\"1\" class=\"dataframe\">\n",
       "  <thead>\n",
       "    <tr style=\"text-align: right;\">\n",
       "      <th></th>\n",
       "      <th>feature names</th>\n",
       "      <th>coef</th>\n",
       "    </tr>\n",
       "  </thead>\n",
       "  <tbody>\n",
       "    <tr>\n",
       "      <th>0</th>\n",
       "      <td>air_temp</td>\n",
       "      <td>0.110009</td>\n",
       "    </tr>\n",
       "    <tr>\n",
       "      <th>1</th>\n",
       "      <td>process_temp</td>\n",
       "      <td>-0.056505</td>\n",
       "    </tr>\n",
       "    <tr>\n",
       "      <th>2</th>\n",
       "      <td>rot_speed</td>\n",
       "      <td>0.009841</td>\n",
       "    </tr>\n",
       "    <tr>\n",
       "      <th>3</th>\n",
       "      <td>torque</td>\n",
       "      <td>0.256807</td>\n",
       "    </tr>\n",
       "    <tr>\n",
       "      <th>4</th>\n",
       "      <td>tool_wear</td>\n",
       "      <td>0.009785</td>\n",
       "    </tr>\n",
       "    <tr>\n",
       "      <th>5</th>\n",
       "      <td>Type_H</td>\n",
       "      <td>-11.924620</td>\n",
       "    </tr>\n",
       "    <tr>\n",
       "      <th>6</th>\n",
       "      <td>Type_L</td>\n",
       "      <td>-10.063971</td>\n",
       "    </tr>\n",
       "    <tr>\n",
       "      <th>7</th>\n",
       "      <td>Type_M</td>\n",
       "      <td>-11.027200</td>\n",
       "    </tr>\n",
       "  </tbody>\n",
       "</table>\n",
       "</div>"
      ],
      "text/plain": [
       "  feature names       coef\n",
       "0      air_temp   0.110009\n",
       "1  process_temp  -0.056505\n",
       "2     rot_speed   0.009841\n",
       "3        torque   0.256807\n",
       "4     tool_wear   0.009785\n",
       "5        Type_H -11.924620\n",
       "6        Type_L -10.063971\n",
       "7        Type_M -11.027200"
      ]
     },
     "execution_count": 25,
     "metadata": {},
     "output_type": "execute_result"
    }
   ],
   "source": [
    "model = LogisticRegression(solver='liblinear',penalty='l1').fit(X_train, y_train)\n",
    "\n",
    "pd.DataFrame({'feature names':model.feature_names_in_, 'coef': list(model.coef_[0])})"
   ]
  },
  {
   "cell_type": "code",
   "execution_count": 26,
   "id": "8bc09493",
   "metadata": {},
   "outputs": [
    {
     "data": {
      "image/png": "[encoded data removed]",
      "text/plain": [
       "<Figure size 720x360 with 2 Axes>"
      ]
     },
     "metadata": {
      "needs_background": "light"
     },
     "output_type": "display_data"
    }
   ],
   "source": [
    "plt.figure(figsize=(10,5))\n",
    "cor = df.corr()\n",
    "sns.heatmap(cor, annot=True, cmap=plt.cm.Reds)\n",
    "plt.show()"
   ]
  },
  {
   "cell_type": "code",
   "execution_count": 27,
   "id": "e71aa11b",
   "metadata": {},
   "outputs": [],
   "source": [
    "# cor_target = abs(cor[\"failure\"])\n",
    "# #Selecting highly correlated features\n",
    "# relevant_features = cor_target[cor_target>0.5]#consider 0.5 and above\n",
    "# relevant_features"
   ]
  },
  {
   "cell_type": "code",
   "execution_count": 28,
   "id": "24a7600f",
   "metadata": {},
   "outputs": [],
   "source": [
    "# cor_target"
   ]
  },
  {
   "cell_type": "markdown",
   "id": "78520fa1",
   "metadata": {},
   "source": [
    "#### Using Lasso CV"
   ]
  },
  {
   "cell_type": "code",
   "execution_count": 29,
   "id": "f62f2e5c",
   "metadata": {},
   "outputs": [
    {
     "name": "stdout",
     "output_type": "stream",
     "text": [
      "Best alpha using built-in LassoCV: 0.016483\n",
      "Best score using built-in LassoCV: 0.116588\n"
     ]
    }
   ],
   "source": [
    "from sklearn.linear_model import LassoCV\n",
    "reg = LassoCV()\n",
    "reg.fit(X, y)\n",
    "print(\"Best alpha using built-in LassoCV: %f\" % reg.alpha_)\n",
    "print(\"Best score using built-in LassoCV: %f\" %reg.score(X,y))\n",
    "coef = pd.Series(reg.coef_, index = X.columns)"
   ]
  },
  {
   "cell_type": "code",
   "execution_count": 30,
   "id": "c1b5fb14",
   "metadata": {},
   "outputs": [
    {
     "name": "stdout",
     "output_type": "stream",
     "text": [
      "Lasso picked 4 variables and eliminated the other 4 variables\n"
     ]
    }
   ],
   "source": [
    "print(\"Lasso picked \" + str(sum(coef != 0)) + \" variables and eliminated the other \" +  str(sum(coef == 0)) + \" variables\")"
   ]
  },
  {
   "cell_type": "code",
   "execution_count": 31,
   "id": "f90ad62a",
   "metadata": {},
   "outputs": [
    {
     "data": {
      "text/plain": [
       "Text(0.5, 1.0, 'Feature importance using Lasso Model')"
      ]
     },
     "execution_count": 31,
     "metadata": {},
     "output_type": "execute_result"
    },
    {
     "data": {
      "image/png": "[encoded data removed]",
      "text/plain": [
       "<Figure size 576x720 with 1 Axes>"
      ]
     },
     "metadata": {
      "needs_background": "light"
     },
     "output_type": "display_data"
    }
   ],
   "source": [
    "imp_coef = coef.sort_values()\n",
    "import matplotlib\n",
    "matplotlib.rcParams['figure.figsize'] = (8.0, 10.0)\n",
    "imp_coef.plot(kind = \"barh\")\n",
    "plt.title(\"Feature importance using Lasso Model\")"
   ]
  },
  {
   "cell_type": "markdown",
   "id": "acd0ba73",
   "metadata": {},
   "source": [
    "#### Using Random Forest "
   ]
  },
  {
   "cell_type": "code",
   "execution_count": 32,
   "id": "92455f8b",
   "metadata": {},
   "outputs": [
    {
     "data": {
      "text/html": [
       "<style>#sk-container-id-3 {color: black;background-color: white;}#sk-container-id-3 pre{padding: 0;}#sk-container-id-3 div.sk-toggleable {background-color: white;}#sk-container-id-3 label.sk-toggleable__label {cursor: pointer;display: block;width: 100%;margin-bottom: 0;padding: 0.3em;box-sizing: border-box;text-align: center;}#sk-container-id-3 label.sk-toggleable__label-arrow:before {content: \"▸\";float: left;margin-right: 0.25em;color: #696969;}#sk-container-id-3 label.sk-toggleable__label-arrow:hover:before {color: black;}#sk-container-id-3 div.sk-estimator:hover label.sk-toggleable__label-arrow:before {color: black;}#sk-container-id-3 div.sk-toggleable__content {max-height: 0;max-width: 0;overflow: hidden;text-align: left;background-color: #f0f8ff;}#sk-container-id-3 div.sk-toggleable__content pre {margin: 0.2em;color: black;border-radius: 0.25em;background-color: #f0f8ff;}#sk-container-id-3 input.sk-toggleable__control:checked~div.sk-toggleable__content {max-height: 200px;max-width: 100%;overflow: auto;}#sk-container-id-3 input.sk-toggleable__control:checked~label.sk-toggleable__label-arrow:before {content: \"▾\";}#sk-container-id-3 div.sk-estimator input.sk-toggleable__control:checked~label.sk-toggleable__label {background-color: #d4ebff;}#sk-container-id-3 div.sk-label input.sk-toggleable__control:checked~label.sk-toggleable__label {background-color: #d4ebff;}#sk-container-id-3 input.sk-hidden--visually {border: 0;clip: rect(1px 1px 1px 1px);clip: rect(1px, 1px, 1px, 1px);height: 1px;margin: -1px;overflow: hidden;padding: 0;position: absolute;width: 1px;}#sk-container-id-3 div.sk-estimator {font-family: monospace;background-color: #f0f8ff;border: 1px dotted black;border-radius: 0.25em;box-sizing: border-box;margin-bottom: 0.5em;}#sk-container-id-3 div.sk-estimator:hover {background-color: #d4ebff;}#sk-container-id-3 div.sk-parallel-item::after {content: \"\";width: 100%;border-bottom: 1px solid gray;flex-grow: 1;}#sk-container-id-3 div.sk-label:hover label.sk-toggleable__label {background-color: #d4ebff;}#sk-container-id-3 div.sk-serial::before {content: \"\";position: absolute;border-left: 1px solid gray;box-sizing: border-box;top: 0;bottom: 0;left: 50%;z-index: 0;}#sk-container-id-3 div.sk-serial {display: flex;flex-direction: column;align-items: center;background-color: white;padding-right: 0.2em;padding-left: 0.2em;position: relative;}#sk-container-id-3 div.sk-item {position: relative;z-index: 1;}#sk-container-id-3 div.sk-parallel {display: flex;align-items: stretch;justify-content: center;background-color: white;position: relative;}#sk-container-id-3 div.sk-item::before, #sk-container-id-3 div.sk-parallel-item::before {content: \"\";position: absolute;border-left: 1px solid gray;box-sizing: border-box;top: 0;bottom: 0;left: 50%;z-index: -1;}#sk-container-id-3 div.sk-parallel-item {display: flex;flex-direction: column;z-index: 1;position: relative;background-color: white;}#sk-container-id-3 div.sk-parallel-item:first-child::after {align-self: flex-end;width: 50%;}#sk-container-id-3 div.sk-parallel-item:last-child::after {align-self: flex-start;width: 50%;}#sk-container-id-3 div.sk-parallel-item:only-child::after {width: 0;}#sk-container-id-3 div.sk-dashed-wrapped {border: 1px dashed gray;margin: 0 0.4em 0.5em 0.4em;box-sizing: border-box;padding-bottom: 0.4em;background-color: white;}#sk-container-id-3 div.sk-label label {font-family: monospace;font-weight: bold;display: inline-block;line-height: 1.2em;}#sk-container-id-3 div.sk-label-container {text-align: center;}#sk-container-id-3 div.sk-container {/* jupyter's `normalize.less` sets `[hidden] { display: none; }` but bootstrap.min.css set `[hidden] { display: none !important; }` so we also need the `!important` here to be able to override the default hidden behavior on the sphinx rendered scikit-learn.org. See: https://github.com/scikit-learn/scikit-learn/issues/21755 */display: inline-block !important;position: relative;}#sk-container-id-3 div.sk-text-repr-fallback {display: none;}</style><div id=\"sk-container-id-3\" class=\"sk-top-container\"><div class=\"sk-text-repr-fallback\"><pre>RandomForestClassifier(max_depth=20, n_estimators=36, oob_score=True)</pre><b>In a Jupyter environment, please rerun this cell to show the HTML representation or trust the notebook. <br />On GitHub, the HTML representation is unable to render, please try loading this page with nbviewer.org.</b></div><div class=\"sk-container\" hidden><div class=\"sk-item\"><div class=\"sk-estimator sk-toggleable\"><input class=\"sk-toggleable__control sk-hidden--visually\" id=\"sk-estimator-id-6\" type=\"checkbox\" checked><label for=\"sk-estimator-id-6\" class=\"sk-toggleable__label sk-toggleable__label-arrow\">RandomForestClassifier</label><div class=\"sk-toggleable__content\"><pre>RandomForestClassifier(max_depth=20, n_estimators=36, oob_score=True)</pre></div></div></div></div></div>"
      ],
      "text/plain": [
       "RandomForestClassifier(max_depth=20, n_estimators=36, oob_score=True)"
      ]
     },
     "execution_count": 32,
     "metadata": {},
     "output_type": "execute_result"
    }
   ],
   "source": [
    "from sklearn.ensemble import RandomForestClassifier\n",
    "model = RandomForestClassifier(n_estimators = 36, \n",
    "                               max_features = \"sqrt\", \n",
    "                               max_depth = 20,\n",
    "                               oob_score = True)\n",
    "\n",
    "model.fit(X_train, y_train)"
   ]
  },
  {
   "cell_type": "code",
   "execution_count": 33,
   "id": "f1d8a00d",
   "metadata": {},
   "outputs": [],
   "source": [
    "importances = model.feature_importances_\n",
    "importances\n",
    "std = np.std([tree.feature_importances_ for tree in model.estimators_], axis=0)"
   ]
  },
  {
   "cell_type": "code",
   "execution_count": 41,
   "id": "9cf22b01",
   "metadata": {},
   "outputs": [
    {
     "data": {
      "image/png": "[encoded data removed]",
      "text/plain": [
       "<Figure size 720x360 with 1 Axes>"
      ]
     },
     "metadata": {
      "needs_background": "light"
     },
     "output_type": "display_data"
    }
   ],
   "source": [
    "import pandas as pd\n",
    "feature_names=X_train.columns\n",
    "forest_importances = pd.Series(importances, index=feature_names)\n",
    "\n",
    "fig, ax = plt.subplots(figsize=(10,5))\n",
    "forest_importances.plot.bar(yerr=std, ax=ax)\n",
    "ax.set_title(\"Feature importances using RF_classifier\")\n",
    "ax.set_ylabel(\"Mean decrease in impurity\")\n",
    "fig.tight_layout()"
   ]
  },
  {
   "cell_type": "code",
   "execution_count": 35,
   "id": "72d6ddc0",
   "metadata": {},
   "outputs": [
    {
     "data": {
      "text/plain": [
       "torque          0.301390\n",
       "rot_speed       0.277362\n",
       "tool_wear       0.158263\n",
       "air_temp        0.089608\n",
       "process_temp    0.058878\n",
       "Type_M          0.046192\n",
       "dtype: float64"
      ]
     },
     "execution_count": 35,
     "metadata": {},
     "output_type": "execute_result"
    }
   ],
   "source": [
    "k=forest_importances.sort_values(ascending\n",
    "                              = False)[:6]\n",
    "k"
   ]
  },
  {
   "cell_type": "code",
   "execution_count": 36,
   "id": "41ff2542",
   "metadata": {},
   "outputs": [],
   "source": [
    "m=k.to_dict()"
   ]
  },
  {
   "cell_type": "code",
   "execution_count": 37,
   "id": "1843acb0",
   "metadata": {},
   "outputs": [
    {
     "name": "stdout",
     "output_type": "stream",
     "text": [
      "torque\n",
      "rot_speed\n",
      "tool_wear\n",
      "air_temp\n",
      "process_temp\n",
      "Type_M\n"
     ]
    }
   ],
   "source": [
    "l=[]\n",
    "for key, value in m.items():\n",
    "    print(key)\n",
    "    l.append(key)"
   ]
  },
  {
   "cell_type": "code",
   "execution_count": 38,
   "id": "ae18b577",
   "metadata": {},
   "outputs": [],
   "source": [
    "X_train3=X_train[l]\n",
    "X_valid3=X_valid[l]\n",
    "X_test3=X_test[l]\n",
    "scaler = StandardScaler().fit(X_train3)\n",
    "X_train_scaled2 = scaler.transform(X_train3)\n",
    "\n",
    "X_valid_scaled2= scaler.transform(X_valid3)\n",
    "X_test_scaled2 = scaler.transform(X_test3)"
   ]
  },
  {
   "cell_type": "code",
   "execution_count": 39,
   "id": "18d288ec",
   "metadata": {},
   "outputs": [
    {
     "name": "stdout",
     "output_type": "stream",
     "text": [
      "Random Forest Classification Report on Test data using best model\n",
      "[[1862   70]\n",
      " [  18   50]]\n",
      "              precision    recall  f1-score   support\n",
      "\n",
      "           0       0.99      0.96      0.98      1932\n",
      "           1       0.42      0.74      0.53        68\n",
      "\n",
      "    accuracy                           0.96      2000\n",
      "   macro avg       0.70      0.85      0.75      2000\n",
      "weighted avg       0.97      0.96      0.96      2000\n",
      " \n",
      "\n"
     ]
    }
   ],
   "source": [
    "from sklearn.metrics import confusion_matrix, accuracy_score, classification_report\n",
    "model.fit(X_train3, y_train)\n",
    "forest_y_pred = model.predict(X_valid3)\n",
    "print(f\"Random Forest Classification Report on Test data using best model\")\n",
    "cm=confusion_matrix(y_valid, forest_y_pred)\n",
    "print(cm)\n",
    "print(classification_report(y_valid, forest_y_pred), \"\\n\")"
   ]
  },
  {
   "cell_type": "code",
   "execution_count": 40,
   "id": "6075b522",
   "metadata": {},
   "outputs": [
    {
     "name": "stdout",
     "output_type": "stream",
     "text": [
      "Support Vector Classification Report on Test data using best model\n",
      "[[1583  349]\n",
      " [  13   55]]\n",
      "              precision    recall  f1-score   support\n",
      "\n",
      "           0       0.99      0.82      0.90      1932\n",
      "           1       0.14      0.81      0.23        68\n",
      "\n",
      "    accuracy                           0.82      2000\n",
      "   macro avg       0.56      0.81      0.57      2000\n",
      "weighted avg       0.96      0.82      0.87      2000\n",
      " \n",
      "\n"
     ]
    }
   ],
   "source": [
    "from sklearn.metrics import confusion_matrix, accuracy_score, classification_report\n",
    "model1.fit(X_train_scaled2, y_train)\n",
    "y_pred_test = model1.predict(X_valid_scaled2)\n",
    "print(f\"Support Vector Classification Report on Test data using best model\")\n",
    "cm=confusion_matrix(y_valid, y_pred_test)\n",
    "print(cm)\n",
    "print(classification_report(y_valid, y_pred_test), \"\\n\")"
   ]
  },
  {
   "cell_type": "code",
   "execution_count": null,
   "id": "198bfb49",
   "metadata": {},
   "outputs": [],
   "source": []
  },
  {
   "cell_type": "code",
   "execution_count": null,
   "id": "32a708c7",
   "metadata": {},
   "outputs": [],
   "source": []
  }
 ],
 "metadata": {
  "kernelspec": {
   "display_name": "Python 3 (ipykernel)",
   "language": "python",
   "name": "python3"
  },
  "language_info": {
   "codemirror_mode": {
    "name": "ipython",
    "version": 3
   },
   "file_extension": ".py",
   "mimetype": "text/x-python",
   "name": "python",
   "nbconvert_exporter": "python",
   "pygments_lexer": "ipython3",
   "version": "3.9.12"
  }
 },
 "nbformat": 4,
 "nbformat_minor": 5
}
